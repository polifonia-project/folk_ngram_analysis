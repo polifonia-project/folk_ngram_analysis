{
 "cells": [
  {
   "cell_type": "code",
   "execution_count": 1,
   "metadata": {
    "pycharm": {
     "name": "#%%\n"
    }
   },
   "outputs": [
    {
     "name": "stdout",
     "output_type": "stream",
     "text": [
      "\n",
      "Setting up lookup table for root assignment:\n",
      "  note names  midi num  root num\n",
      "0          C        60         0\n",
      "1   C# or D-        61         1\n",
      "2          D        62         2\n",
      "3   D# or E-        63         3\n",
      "4          E        64         4 \n",
      "\n",
      "\n",
      "\n",
      "Setting up Music21 root detection lookup table:\n",
      "  note name  pitch class\n",
      "0         C          0.0\n",
      "1        C#          1.0\n",
      "2        D-          1.0\n",
      "3         D          2.0\n",
      "4        D#          3.0 \n",
      "\n",
      "\n"
     ]
    }
   ],
   "source": [
    "from FoNN.corpus_processing_tools import Corpus, Tune"
   ]
  },
  {
   "cell_type": "markdown",
   "metadata": {
    "pycharm": {
     "name": "#%% md\n"
    }
   },
   "source": []
  },
  {
   "cell_type": "code",
   "execution_count": 2,
   "metadata": {
    "pycharm": {
     "name": "#%%\n"
    }
   },
   "outputs": [
    {
     "name": "stdout",
     "output_type": "stream",
     "text": [
      "AbbeyThe477\n",
      "Note-level data:\n",
      "   midi_note_num  diatonic_note_num  chromatic_pitch_class  onset  duration  \\\n",
      "0             71                 35                     11    0.0       1.0   \n",
      "1             69                 34                      9    1.0       3.0   \n",
      "2             71                 35                     11    4.0       1.0   \n",
      "3             69                 34                      9    5.0       2.0   \n",
      "4             67                 33                      7    7.0       1.0   \n",
      "\n",
      "   velocity  \n",
      "0       105  \n",
      "1       105  \n",
      "2        80  \n",
      "3        95  \n",
      "4        80  \n"
     ]
    }
   ],
   "source": [
    "in_path = '/Users/dannydiamond/NUIG/Polifonia/thesession/MIDI_revised'\n",
    "in_file = 'AbbeyThe477.mid'\n",
    "\n",
    "# FULL TUNE INGEST TEST for midi data\n",
    "test_tune = Tune(in_path + '/' + in_file)\n",
    "print(test_tune.title)\n",
    "test_tune.extract_root()\n",
    "test_tune.create_feature_sequence()\n",
    "print(\"Note-level data:\")\n",
    "print(test_tune.feat_seq.head())\n",
    "# test_tune.feat_seq.to_csv(f'/Users/dannydiamond/NUIG/Polifonia/thesession/testing/feat_seq_csvs/{in_file[:-4]}.csv')"
   ]
  },
  {
   "cell_type": "code",
   "execution_count": 3,
   "outputs": [
    {
     "name": "stdout",
     "output_type": "stream",
     "text": [
      "AbbeyThe477\n",
      "Note-level data:\n",
      "   midi_note_num  diatonic_note_num  chromatic_pitch_class  onset  duration  \\\n",
      "1             69                 34                      9    1.0       3.0   \n",
      "2             71                 35                     11    4.0       1.0   \n",
      "3             69                 34                      9    5.0       2.0   \n",
      "4             67                 33                      7    7.0       1.0   \n",
      "5             64                 31                      4    8.0       1.0   \n",
      "\n",
      "   velocity  bar_count  \n",
      "1       105          0  \n",
      "2        80          0  \n",
      "3        95          0  \n",
      "4        80          0  \n",
      "5        80          0  \n",
      "Accent-level data:\n",
      "   index  midi_note_num  diatonic_note_num  chromatic_pitch_class  onset  \\\n",
      "0      1             69                 34                      9    1.0   \n",
      "1      3             69                 34                      9    5.0   \n",
      "2      6             69                 34                      9    9.0   \n",
      "3      9             71                 35                     11   13.0   \n",
      "4     13             69                 34                      9   17.0   \n",
      "\n",
      "   duration  velocity  bar_count  \n",
      "0       3.0       105          0  \n",
      "1       2.0        95          0  \n",
      "2       2.0       105          1  \n",
      "3       1.0        95          1  \n",
      "4       3.0       105          2  \n"
     ]
    }
   ],
   "source": [
    "# Add bar count; filter accent-level sequences\n",
    "print(test_tune.title)\n",
    "test_tune.add_bar_count()\n",
    "test_tune.strip_anacrusis()\n",
    "print(\"Note-level data:\")\n",
    "print(test_tune.feat_seq.head())\n",
    "test_tune.filter_feat_seq_by_velocity()\n",
    "print(\"Accent-level data:\")\n",
    "print(test_tune.feat_seq_accents.head())"
   ],
   "metadata": {
    "collapsed": false,
    "pycharm": {
     "name": "#%%\n"
    }
   }
  },
  {
   "cell_type": "markdown",
   "metadata": {
    "pycharm": {
     "name": "#%% md\n"
    }
   },
   "source": [
    "Run ingest on corpus:"
   ]
  },
  {
   "cell_type": "code",
   "execution_count": 4,
   "metadata": {
    "pycharm": {
     "name": "#%%\n"
    }
   },
   "outputs": [
    {
     "name": "stderr",
     "output_type": "stream",
     "text": [
      "Extracting primary feature sequence data from MIDI:   4%|▍         | 1598/40163 [04:15<1:22:05,  7.83it/s]"
     ]
    },
    {
     "name": "stdout",
     "output_type": "stream",
     "text": [
      "No input data for 4Minutes33Seconds39267\n"
     ]
    },
    {
     "name": "stderr",
     "output_type": "stream",
     "text": [
      "Extracting primary feature sequence data from MIDI:   6%|▌         | 2446/40163 [06:50<2:09:30,  4.85it/s]"
     ]
    },
    {
     "name": "stdout",
     "output_type": "stream",
     "text": [
      "No input data for Margarets15103\n"
     ]
    },
    {
     "name": "stderr",
     "output_type": "stream",
     "text": [
      "Extracting primary feature sequence data from MIDI:  27%|██▋       | 10824/40163 [30:59<53:47,  9.09it/s]  "
     ]
    },
    {
     "name": "stdout",
     "output_type": "stream",
     "text": [
      "No input data for BoyGirlTune16425\n"
     ]
    },
    {
     "name": "stderr",
     "output_type": "stream",
     "text": [
      "Extracting primary feature sequence data from MIDI:  28%|██▊       | 11317/40163 [32:25<46:47, 10.28it/s]  "
     ]
    },
    {
     "name": "stdout",
     "output_type": "stream",
     "text": [
      "No input data for RoadToYoughalThe19768\n"
     ]
    },
    {
     "name": "stderr",
     "output_type": "stream",
     "text": [
      "Extracting primary feature sequence data from MIDI:  29%|██▊       | 11461/40163 [32:49<1:21:48,  5.85it/s]"
     ]
    },
    {
     "name": "stdout",
     "output_type": "stream",
     "text": [
      "No input data for BottleOfWhiskey41422\n"
     ]
    },
    {
     "name": "stderr",
     "output_type": "stream",
     "text": [
      "Extracting primary feature sequence data from MIDI:  65%|██████▌   | 26199/40163 [1:03:48<44:08,  5.27it/s]  "
     ]
    },
    {
     "name": "stdout",
     "output_type": "stream",
     "text": [
      "No input data for 4Minutes33Seconds2399\n"
     ]
    },
    {
     "name": "stderr",
     "output_type": "stream",
     "text": [
      "Extracting primary feature sequence data from MIDI:  72%|███████▏  | 28977/40163 [1:09:05<20:55,  8.91it/s]  "
     ]
    },
    {
     "name": "stdout",
     "output_type": "stream",
     "text": [
      "No input data for LesAnneauxDOr19452\n"
     ]
    },
    {
     "name": "stderr",
     "output_type": "stream",
     "text": [
      "Extracting primary feature sequence data from MIDI:  76%|███████▋  | 30662/40163 [1:13:33<19:26,  8.14it/s]  "
     ]
    },
    {
     "name": "stdout",
     "output_type": "stream",
     "text": [
      "No input data for HakketoneSchottische15916\n"
     ]
    },
    {
     "name": "stderr",
     "output_type": "stream",
     "text": [
      "Extracting primary feature sequence data from MIDI:  96%|█████████▌| 38359/40163 [1:39:46<03:51,  7.79it/s]  "
     ]
    },
    {
     "name": "stdout",
     "output_type": "stream",
     "text": [
      "No input data for 4Minutes33Seconds15743\n"
     ]
    },
    {
     "name": "stderr",
     "output_type": "stream",
     "text": [
      "Extracting primary feature sequence data from MIDI: 100%|██████████| 40163/40163 [1:45:29<00:00,  6.35it/s]"
     ]
    },
    {
     "name": "stdout",
     "output_type": "stream",
     "text": [
      "WestCorkThe28426\n",
      "Note-level output\n",
      "   midi_note_num  diatonic_note_num  chromatic_pitch_class  onset  duration  \\\n",
      "0             66                 32                      6    0.0       1.0   \n",
      "1             67                 33                      7    1.0       1.0   \n",
      "2             69                 34                      9    2.0       1.0   \n",
      "3             71                 35                     11    3.0       1.0   \n",
      "4             73                 36                      1    4.0       1.0   \n",
      "\n",
      "   velocity  \n",
      "0       105  \n",
      "1        80  \n",
      "2        80  \n",
      "3        80  \n",
      "4        95  \n"
     ]
    },
    {
     "name": "stderr",
     "output_type": "stream",
     "text": [
      "\n"
     ]
    }
   ],
   "source": [
    "# Replicate above for corpus\n",
    "# corpus_path = '/Users/dannydiamond/NUIG/Polifonia/neuma/neuma_data/test'\n",
    "# Init corpus object & run primary feature extraction @ note-level\n",
    "corpus = Corpus(in_path)\n",
    "corpus.setup_corpus_iteratively()\n",
    "# Print sample output:\n",
    "print(corpus.tunes[0].title)\n",
    "print(\"Note-level output\")\n",
    "print(corpus.tunes[0].feat_seq.head())\n"
   ]
  },
  {
   "cell_type": "code",
   "execution_count": 5,
   "outputs": [],
   "source": [
    "# for t in corpus.tunes:\n",
    "#     print(t.title)\n",
    "#     print(t.feat_seq['onset'])"
   ],
   "metadata": {
    "collapsed": false,
    "pycharm": {
     "name": "#%%\n"
    }
   }
  },
  {
   "cell_type": "code",
   "execution_count": 6,
   "metadata": {
    "pycharm": {
     "name": "#%%\n"
    }
   },
   "outputs": [
    {
     "name": "stderr",
     "output_type": "stream",
     "text": [
      "Adding bar numbers to feature sequence data: 100%|██████████| 40154/40154 [00:53<00:00, 749.89it/s]"
     ]
    },
    {
     "name": "stdout",
     "output_type": "stream",
     "text": [
      "WestCorkThe28426\n",
      "Note-level output\n"
     ]
    },
    {
     "name": "stderr",
     "output_type": "stream",
     "text": [
      "\n"
     ]
    }
   ],
   "source": [
    "# Add bar count\n",
    "corpus.add_bar_numbers()\n",
    "# Print sample output\n",
    "print(corpus.tunes[0].title)\n",
    "print(\"Note-level output\")\n",
    "# print(corpus.tunes[0].feat_seq.head())"
   ]
  },
  {
   "cell_type": "code",
   "execution_count": 7,
   "outputs": [],
   "source": [
    "# corpus.strip_anacruses()\n",
    "# print(corpus.tunes[10].title)\n",
    "# print(corpus.tunes[10].feat_seq.head())"
   ],
   "metadata": {
    "collapsed": false,
    "pycharm": {
     "name": "#%%\n"
    }
   }
  },
  {
   "cell_type": "code",
   "execution_count": 8,
   "outputs": [
    {
     "name": "stderr",
     "output_type": "stream",
     "text": [
      "Calculating relative chromatic pitch sequences: 100%|██████████| 40154/40154 [00:47<00:00, 846.75it/s]\n",
      "Calculating relative diatonic pitch sequences: 100%|██████████| 40154/40154 [00:44<00:00, 894.34it/s] "
     ]
    },
    {
     "name": "stdout",
     "output_type": "stream",
     "text": [
      "DaGalleyWatch8828\n",
      "   midi_note_num  diatonic_note_num  chromatic_pitch_class  onset  duration  \\\n",
      "0             76                 38                      4    0.0       1.0   \n",
      "1             78                 39                      6    1.0       2.0   \n",
      "2             74                 37                      2    3.0       1.0   \n",
      "3             78                 39                      6    4.0       1.0   \n",
      "4             81                 41                      9    5.0       1.0   \n",
      "\n",
      "   velocity  bar_count  relative_chromatic_pitch  relative_diatonic_pitch  \n",
      "0       105          0                        14                        8  \n",
      "1       105          1                        16                        9  \n",
      "2        80          1                        12                        7  \n",
      "3        80          1                        16                        9  \n",
      "4        95          1                        19                       11  \n"
     ]
    },
    {
     "name": "stderr",
     "output_type": "stream",
     "text": [
      "\n"
     ]
    }
   ],
   "source": [
    "# Add relative chromatic & diatonic pitch:\n",
    "corpus.calc_relative_chromatic_pitch_seqs()\n",
    "corpus.calc_relative_diatonic_pitch_seqs()\n",
    "# Print sample note-level output:\n",
    "print(corpus.tunes[4].title)\n",
    "print(corpus.tunes[4].feat_seq.head())"
   ],
   "metadata": {
    "collapsed": false,
    "pycharm": {
     "name": "#%%\n"
    }
   }
  },
  {
   "cell_type": "code",
   "execution_count": 9,
   "outputs": [],
   "source": [
    "# for t in corpus.tunes:\n",
    "#     print(t.title)\n",
    "#     print(t.feat_seq['onset'])"
   ],
   "metadata": {
    "collapsed": false,
    "pycharm": {
     "name": "#%%\n"
    }
   }
  },
  {
   "cell_type": "code",
   "execution_count": 10,
   "metadata": {
    "pycharm": {
     "name": "#%%\n"
    }
   },
   "outputs": [
    {
     "name": "stderr",
     "output_type": "stream",
     "text": [
      "Calculating chromatic scale degree sequences: 100%|██████████| 40154/40154 [00:34<00:00, 1178.30it/s]\n",
      "Calculating diatonic scale degree sequences: 100%|██████████| 40154/40154 [00:41<00:00, 976.66it/s] "
     ]
    },
    {
     "name": "stdout",
     "output_type": "stream",
     "text": [
      "WestCorkThe28426\n",
      "   midi_note_num  diatonic_note_num  chromatic_pitch_class  onset  duration  \\\n",
      "0             66                 32                      6    0.0       1.0   \n",
      "1             67                 33                      7    1.0       1.0   \n",
      "2             69                 34                      9    2.0       1.0   \n",
      "3             71                 35                     11    3.0       1.0   \n",
      "4             73                 36                      1    4.0       1.0   \n",
      "\n",
      "   velocity  bar_count  relative_chromatic_pitch  relative_diatonic_pitch  \\\n",
      "0       105          0                         4                        2   \n",
      "1        80          0                         5                        3   \n",
      "2        80          0                         7                        4   \n",
      "3        80          0                         9                        5   \n",
      "4        95          0                        11                        6   \n",
      "\n",
      "   chromatic_scale_degree  diatonic_scale_degree  \n",
      "0                       4                      3  \n",
      "1                       5                      4  \n",
      "2                       7                      5  \n",
      "3                       9                      6  \n",
      "4                      11                      7  \n"
     ]
    },
    {
     "name": "stderr",
     "output_type": "stream",
     "text": [
      "\n"
     ]
    }
   ],
   "source": [
    "# Add chromatic & diatonic scale degrees:\n",
    "corpus.calc_chromatic_scale_degree_seqs()\n",
    "corpus.calc_diatonic_scale_degree_seqs()\n",
    "# Print sample note-level output:\n",
    "print(corpus.tunes[0].title)\n",
    "print(corpus.tunes[0].feat_seq.head())"
   ]
  },
  {
   "cell_type": "code",
   "execution_count": 11,
   "outputs": [],
   "source": [
    "# for t in corpus.tunes:\n",
    "#     print(t.title)\n",
    "#     print(t.feat_seq['onset'])"
   ],
   "metadata": {
    "collapsed": false,
    "pycharm": {
     "name": "#%%\n"
    }
   }
  },
  {
   "cell_type": "code",
   "execution_count": 12,
   "metadata": {
    "pycharm": {
     "name": "#%%\n"
    }
   },
   "outputs": [
    {
     "name": "stderr",
     "output_type": "stream",
     "text": [
      "Calculating chromatic interval sequences: 100%|██████████| 40154/40154 [00:32<00:00, 1228.51it/s]\n",
      "Calculating diatonic interval sequences: 100%|██████████| 40154/40154 [00:31<00:00, 1275.87it/s]"
     ]
    },
    {
     "name": "stdout",
     "output_type": "stream",
     "text": [
      "WestCorkThe28426\n",
      "   midi_note_num  diatonic_note_num  chromatic_pitch_class  onset  duration  \\\n",
      "0             66                 32                      6    0.0       1.0   \n",
      "1             67                 33                      7    1.0       1.0   \n",
      "2             69                 34                      9    2.0       1.0   \n",
      "3             71                 35                     11    3.0       1.0   \n",
      "4             73                 36                      1    4.0       1.0   \n",
      "\n",
      "   velocity  bar_count  relative_chromatic_pitch  relative_diatonic_pitch  \\\n",
      "0       105          0                         4                        2   \n",
      "1        80          0                         5                        3   \n",
      "2        80          0                         7                        4   \n",
      "3        80          0                         9                        5   \n",
      "4        95          0                        11                        6   \n",
      "\n",
      "   chromatic_scale_degree  diatonic_scale_degree  chromatic_interval  \\\n",
      "0                       4                      3                   0   \n",
      "1                       5                      4                   1   \n",
      "2                       7                      5                   2   \n",
      "3                       9                      6                   2   \n",
      "4                      11                      7                   2   \n",
      "\n",
      "   diatonic_interval  \n",
      "0                  0  \n",
      "1                  1  \n",
      "2                  1  \n",
      "3                  1  \n",
      "4                  1  \n"
     ]
    },
    {
     "name": "stderr",
     "output_type": "stream",
     "text": [
      "\n"
     ]
    }
   ],
   "source": [
    "# Add chromatic & diatonic intervals:\n",
    "corpus.calc_chromatic_intervals()\n",
    "corpus.calc_diatonic_intervals()\n",
    "# Print sample note-level output:\n",
    "print(corpus.tunes[0].title)\n",
    "print(corpus.tunes[0].feat_seq.head())"
   ]
  },
  {
   "cell_type": "code",
   "execution_count": 13,
   "outputs": [],
   "source": [
    "# for t in corpus.tunes:\n",
    "#     print(t.title)\n",
    "#     print(t.feat_seq['onset'])"
   ],
   "metadata": {
    "collapsed": false,
    "pycharm": {
     "name": "#%%\n"
    }
   }
  },
  {
   "cell_type": "code",
   "execution_count": 14,
   "outputs": [
    {
     "name": "stderr",
     "output_type": "stream",
     "text": [
      "Filtering accent-level feature sequence data by MIDI velocity: 100%|██████████| 40154/40154 [00:48<00:00, 824.36it/s]"
     ]
    },
    {
     "name": "stdout",
     "output_type": "stream",
     "text": [
      "WestCorkThe28426\n",
      "   index  midi_note_num  diatonic_note_num  chromatic_pitch_class  onset  \\\n",
      "0      0             66                 32                      6    0.0   \n",
      "1      4             73                 36                      1    4.0   \n",
      "2      8             69                 34                      9    8.0   \n",
      "3     12             74                 37                      2   12.0   \n",
      "4     14             78                 39                      6   16.0   \n",
      "\n",
      "   duration  velocity  bar_count  relative_chromatic_pitch  \\\n",
      "0       1.0       105          0                         4   \n",
      "1       1.0        95          0                        11   \n",
      "2       1.0       105          1                         7   \n",
      "3       3.0        95          1                        12   \n",
      "4       2.0       105          2                        16   \n",
      "\n",
      "   relative_diatonic_pitch  chromatic_scale_degree  diatonic_scale_degree  \\\n",
      "0                        2                       4                      3   \n",
      "1                        6                      11                      7   \n",
      "2                        4                       7                      5   \n",
      "3                        7                       0                      1   \n",
      "4                        9                       4                      3   \n",
      "\n",
      "   chromatic_interval  diatonic_interval  \n",
      "0                   0                  0  \n",
      "1                   2                  1  \n",
      "2                   2                  1  \n",
      "3                   1                  1  \n",
      "4                   2                  1  \n"
     ]
    },
    {
     "name": "stderr",
     "output_type": "stream",
     "text": [
      "\n"
     ]
    }
   ],
   "source": [
    "# filter accent-level data:\n",
    "corpus.filter_feat_seq_accents(by='velocity', thresh=80)\n",
    "# Print sample accent-level output:\n",
    "print(corpus.tunes[0].title)\n",
    "print(corpus.tunes[0].feat_seq_accents.head())"
   ],
   "metadata": {
    "collapsed": false,
    "pycharm": {
     "name": "#%%\n"
    }
   }
  },
  {
   "cell_type": "code",
   "execution_count": 15,
   "metadata": {
    "pycharm": {
     "name": "#%%\n"
    }
   },
   "outputs": [
    {
     "name": "stderr",
     "output_type": "stream",
     "text": [
      "Calculating cumulative Parsons code sequences: 100%|██████████| 40154/40154 [07:32<00:00, 88.70it/s] "
     ]
    },
    {
     "name": "stdout",
     "output_type": "stream",
     "text": [
      "WestCorkThe28426\n",
      "Note-level output\n",
      "\n",
      "   midi_note_num  diatonic_note_num  chromatic_pitch_class  onset  duration  \\\n",
      "0             66                 32                      6    0.0       1.0   \n",
      "1             67                 33                      7    1.0       1.0   \n",
      "2             69                 34                      9    2.0       1.0   \n",
      "3             71                 35                     11    3.0       1.0   \n",
      "4             73                 36                      1    4.0       1.0   \n",
      "\n",
      "   velocity  bar_count  relative_chromatic_pitch  relative_diatonic_pitch  \\\n",
      "0       105          0                         4                        2   \n",
      "1        80          0                         5                        3   \n",
      "2        80          0                         7                        4   \n",
      "3        80          0                         9                        5   \n",
      "4        95          0                        11                        6   \n",
      "\n",
      "   chromatic_scale_degree  diatonic_scale_degree  chromatic_interval  \\\n",
      "0                       4                      3                   0   \n",
      "1                       5                      4                   1   \n",
      "2                       7                      5                   2   \n",
      "3                       9                      6                   2   \n",
      "4                      11                      7                   2   \n",
      "\n",
      "   diatonic_interval  parsons_code  parsons_cumsum  \n",
      "0                  0             0               0  \n",
      "1                  1             1               1  \n",
      "2                  1             1               2  \n",
      "3                  1             1               3  \n",
      "4                  1             1               4  \n",
      "\n",
      "Accent-level output\n",
      "\n",
      "   index  midi_note_num  diatonic_note_num  chromatic_pitch_class  onset  \\\n",
      "0      0             66                 32                      6    0.0   \n",
      "1      4             73                 36                      1    4.0   \n",
      "2      8             69                 34                      9    8.0   \n",
      "3     12             74                 37                      2   12.0   \n",
      "4     14             78                 39                      6   16.0   \n",
      "\n",
      "   duration  velocity  bar_count  relative_chromatic_pitch  \\\n",
      "0       1.0       105          0                         4   \n",
      "1       1.0        95          0                        11   \n",
      "2       1.0       105          1                         7   \n",
      "3       3.0        95          1                        12   \n",
      "4       2.0       105          2                        16   \n",
      "\n",
      "   relative_diatonic_pitch  chromatic_scale_degree  diatonic_scale_degree  \\\n",
      "0                        2                       4                      3   \n",
      "1                        6                      11                      7   \n",
      "2                        4                       7                      5   \n",
      "3                        7                       0                      1   \n",
      "4                        9                       4                      3   \n",
      "\n",
      "   chromatic_interval  diatonic_interval  parsons_code  parsons_cumsum  \n",
      "0                   0                  0             0               0  \n",
      "1                   2                  1             1               1  \n",
      "2                   2                  1            -1               0  \n",
      "3                   1                  1             1               1  \n",
      "4                   2                  1             1               2  \n"
     ]
    },
    {
     "name": "stderr",
     "output_type": "stream",
     "text": [
      "\n"
     ]
    }
   ],
   "source": [
    "# Add Parsons code (simple contour)\n",
    "corpus.calc_parsons_codes()\n",
    "print(corpus.tunes[0].title)\n",
    "# Print sample note-level output:\n",
    "print(\"Note-level output\\n\")\n",
    "print(corpus.tunes[0].feat_seq.head())\n",
    "# Print sample accent-level output:\n",
    "print(\"\\nAccent-level output\\n\")\n",
    "print(corpus.tunes[0].feat_seq_accents.head())\n"
   ]
  },
  {
   "cell_type": "code",
   "execution_count": 16,
   "outputs": [],
   "source": [
    "# # debug duration-weighting\n",
    "# for t in corpus.tunes:\n",
    "#     print(t.title)\n",
    "#     print(t.feat_seq['relative_diatonic_pitch'])\n",
    "#     print(t.feat_seq_accents['relative_diatonic_pitch'])\n"
   ],
   "metadata": {
    "collapsed": false,
    "pycharm": {
     "name": "#%%\n"
    }
   }
  },
  {
   "cell_type": "code",
   "execution_count": 17,
   "outputs": [
    {
     "name": "stderr",
     "output_type": "stream",
     "text": [
      "Calculating duration-weighted feature sequences:   0%|          | 22/40154 [00:00<03:07, 214.40it/s]"
     ]
    },
    {
     "name": "stdout",
     "output_type": "stream",
     "text": [
      "['midi_note_num', 'diatonic_note_num', 'chromatic_pitch_class', 'onset', 'velocity', 'bar_count', 'relative_chromatic_pitch', 'relative_diatonic_pitch', 'chromatic_scale_degree', 'diatonic_scale_degree', 'chromatic_interval', 'diatonic_interval', 'parsons_code', 'parsons_cumsum']\n"
     ]
    },
    {
     "name": "stderr",
     "output_type": "stream",
     "text": [
      "Calculating duration-weighted feature sequences: 100%|██████████| 40154/40154 [02:42<00:00, 247.78it/s]"
     ]
    },
    {
     "name": "stdout",
     "output_type": "stream",
     "text": [
      "WestCorkThe28426\n",
      "Duration-weighted note-level output\n",
      "\n",
      "             midi_note_num  diatonic_note_num  chromatic_pitch_class  \\\n",
      "eighth_note                                                            \n",
      "0                       66                 32                      6   \n",
      "1                       67                 33                      7   \n",
      "2                       69                 34                      9   \n",
      "3                       71                 35                     11   \n",
      "4                       73                 36                      1   \n",
      "\n",
      "             velocity  bar_count  relative_chromatic_pitch  \\\n",
      "eighth_note                                                  \n",
      "0                 105          0                         4   \n",
      "1                  80          0                         5   \n",
      "2                  80          0                         7   \n",
      "3                  80          0                         9   \n",
      "4                  95          0                        11   \n",
      "\n",
      "             relative_diatonic_pitch  chromatic_scale_degree  \\\n",
      "eighth_note                                                    \n",
      "0                                  2                       4   \n",
      "1                                  3                       5   \n",
      "2                                  4                       7   \n",
      "3                                  5                       9   \n",
      "4                                  6                      11   \n",
      "\n",
      "             diatonic_scale_degree  chromatic_interval  diatonic_interval  \\\n",
      "eighth_note                                                                 \n",
      "0                                3                   0                  0   \n",
      "1                                4                   1                  1   \n",
      "2                                5                   2                  1   \n",
      "3                                6                   2                  1   \n",
      "4                                7                   2                  1   \n",
      "\n",
      "             parsons_code  parsons_cumsum  \n",
      "eighth_note                                \n",
      "0                       0               0  \n",
      "1                       1               1  \n",
      "2                       1               2  \n",
      "3                       1               3  \n",
      "4                       1               4  \n"
     ]
    },
    {
     "name": "stderr",
     "output_type": "stream",
     "text": [
      "\n"
     ]
    }
   ],
   "source": [
    "# Duration-weight the note-level data:\n",
    "features = [col for col in corpus.tunes[0].feat_seq.columns]\n",
    "features.remove('duration')\n",
    "print(features)\n",
    "corpus.calc_duration_weighted_feat_seqs(features=features)\n",
    "print(corpus.tunes[0].title)\n",
    "# Print sample note-level output:\n",
    "print(\"Duration-weighted note-level output\\n\")\n",
    "print(corpus.tunes[0].duration_weighted.head())"
   ],
   "metadata": {
    "collapsed": false,
    "pycharm": {
     "name": "#%%\n"
    }
   }
  },
  {
   "cell_type": "code",
   "execution_count": 18,
   "metadata": {
    "pycharm": {
     "name": "#%%\n"
    }
   },
   "outputs": [
    {
     "name": "stderr",
     "output_type": "stream",
     "text": [
      "Saving feature sequence data to csv: 100%|██████████| 40154/40154 [03:51<00:00, 173.52it/s]\n"
     ]
    }
   ],
   "source": [
    "# The above steps give us a complete feature sequence corpus with all features, labels, etc up-to-date as per Apr 2023.\n",
    "# All updates as per Mar 2023 version, except rests no longer included.\n",
    "\n",
    "# write outputs to file:\n",
    "corpus.csv_outpath = '/Users/dannydiamond/NUIG/Polifonia/thesession/feat_seq_corpus_may23'\n",
    "corpus.save_feat_seq_data_to_csv()\n"
   ]
  },
  {
   "cell_type": "code",
   "execution_count": 19,
   "metadata": {
    "pycharm": {
     "name": "#%%\n"
    }
   },
   "outputs": [],
   "source": []
  },
  {
   "cell_type": "markdown",
   "metadata": {
    "pycharm": {
     "name": "#%% md\n"
    }
   },
   "source": []
  }
 ],
 "metadata": {
  "kernelspec": {
   "display_name": "Python 3 (ipykernel)",
   "language": "python",
   "name": "python3"
  },
  "language_info": {
   "codemirror_mode": {
    "name": "ipython",
    "version": 3
   },
   "file_extension": ".py",
   "mimetype": "text/x-python",
   "name": "python",
   "nbconvert_exporter": "python",
   "pygments_lexer": "ipython3",
   "version": "3.8.7"
  }
 },
 "nbformat": 4,
 "nbformat_minor": 1
}