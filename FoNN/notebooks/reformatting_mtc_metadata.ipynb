{
 "cells": [
  {
   "cell_type": "code",
   "execution_count": 9,
   "outputs": [],
   "source": [
    "# open manually edited MTC-ANN metadata csv file\n",
    "# add source annotation\n",
    "\n",
    "import pandas as pd\n",
    "\n",
    "# read metadata\n",
    "in_dir = '/Users/dannydiamond/NUIG/Polifonia/MTC/MTC-ANN-2.0/metadata_reformatted/'\n",
    "metadata_in_file = 'MTC_ANN_metadata.csv'\n",
    "metadata_in_path = in_dir + metadata_in_file\n",
    "mtc_metadata_raw = pd.read_csv(metadata_in_path)\n",
    "\n",
    "# read sources csv\n",
    "sources_in_dir = '/Users/dannydiamond/NUIG/Polifonia/MTC/MTC-ANN-2.0/metadata_reformatted/'\n",
    "sources_in_file = 'MTC_ANN_sources.csv'\n",
    "sources_in_path = sources_in_dir + sources_in_file\n",
    "mtc_sources_raw = pd.read_csv(sources_in_path)"
   ],
   "metadata": {
    "collapsed": false,
    "pycharm": {
     "name": "#%%\n"
    }
   }
  },
  {
   "cell_type": "code",
   "execution_count": 10,
   "outputs": [],
   "source": [
    "mtc_metadata_processed = mtc_metadata_raw.merge(mtc_sources_raw, how='left', on='source_id')"
   ],
   "metadata": {
    "collapsed": false,
    "pycharm": {
     "name": "#%%\n"
    }
   }
  },
  {
   "cell_type": "code",
   "execution_count": 11,
   "outputs": [
    {
     "name": "stdout",
     "output_type": "stream",
     "text": [
      "         filename  songid  source_id serial_number  \\\n",
      "0    NLB015569_01   15569    1001068            82   \n",
      "1    NLB070033_01   70033    1011179           607   \n",
      "2    NLB070053_01   70053    1011179          1004   \n",
      "3    NLB070078_01   70078    1011179          1207   \n",
      "4    NLB070079_01   70079    1011179          1208   \n",
      "..            ...     ...        ...           ...   \n",
      "355  NLB152784_01  152784    1001839             8   \n",
      "356  NLB162519_01  162519    1001807             2   \n",
      "357  NLB162526_01  162526    1001984           NaN   \n",
      "358  NLB162684_01  162684    1001807             4   \n",
      "359  NLB167193_01  167193    1001993          088b   \n",
      "\n",
      "                       tunefamily     page singer_id_s date_of_recording  \\\n",
      "0            Daar_ging_een_heer_1  I, p185         NaN               NaN   \n",
      "1            Daar_ging_een_heer_1      NaN        1022         25-3-1950   \n",
      "2            Daar_ging_een_heer_1      NaN         759          9-4-1950   \n",
      "3            Daar_ging_een_heer_1      NaN        1040         3-11-1951   \n",
      "4            Daar_ging_een_heer_1      NaN        1040         3-11-1951   \n",
      "..                            ...      ...         ...               ...   \n",
      "355  Zolang_de_boom_zal_bloeien_1      NaN         NaN               NaN   \n",
      "356  Zolang_de_boom_zal_bloeien_1     p362         NaN               NaN   \n",
      "357  Zolang_de_boom_zal_bloeien_1      NaN         NaN               NaN   \n",
      "358  Zolang_de_boom_zal_bloeien_1     p367         NaN               NaN   \n",
      "359  Zolang_de_boom_zal_bloeien_1     p176         NaN               NaN   \n",
      "\n",
      "       place_of_recording   latitude  ...  \\\n",
      "0                     NaN        NaN  ...   \n",
      "1         Harkema-Opeinde  53.213093  ...   \n",
      "2    Hoorn (Terschelling)  53.406142  ...   \n",
      "3             Wagenborgen  53.256299  ...   \n",
      "4             Wagenborgen  53.256299  ...   \n",
      "..                    ...        ...  ...   \n",
      "355                   NaN        NaN  ...   \n",
      "356                   NaN        NaN  ...   \n",
      "357                   NaN        NaN  ...   \n",
      "358                   NaN        NaN  ...   \n",
      "359                   NaN        NaN  ...   \n",
      "\n",
      "                                             firstline voice_strophe_number  \\\n",
      "0    Daar zou 'er een magetje vroeg opstaan / om ha...                    1   \n",
      "1                        En haar man die was overleden                    1   \n",
      "2                           Zolang de boom zal bloeien                    1   \n",
      "3    Komt vrienden hoort een lied / Wat duid'lijk z...                    1   \n",
      "4        In Engeland woont een koopman rijk en machtig                    1   \n",
      "..                                                 ...                  ...   \n",
      "355  Staat vrienden even stil, / Bij ‘t geen ik zin...                    1   \n",
      "356  Vaarwel bruidje schoon, / de vreugd van mijn l...                    1   \n",
      "357  Vaarwel bruintje schoon / de vreugd van mijn l...                    1   \n",
      "358  Daar reed er eens een ruitertje door een groot...                    1   \n",
      "359  “Lieve schipper, vaar mij over, / Naar dat gin...                    1   \n",
      "\n",
      "                                                source  \\\n",
      "0    Het oude Nederlandsche lied: wereldlijke en ge...   \n",
      "1                 Onder de Groene Linde: opnamebestand   \n",
      "2                 Onder de Groene Linde: opnamebestand   \n",
      "3                 Onder de Groene Linde: opnamebestand   \n",
      "4                 Onder de Groene Linde: opnamebestand   \n",
      "..                                                 ...   \n",
      "355        Nieuwsblad voor Friesland 1933/34, knipsels   \n",
      "356  Neerlands Volksleven. Tijdschrift van het Nede...   \n",
      "357                          Verzameling Boekenoogen V   \n",
      "358  Neerlands Volksleven. Tijdschrift van het Nede...   \n",
      "359  Terschellinger volksleven. Gebruiken, feesten,...   \n",
      "\n",
      "                                                author  \\\n",
      "0                                 Duyse, Florimond van   \n",
      "1                                                  NaN   \n",
      "2                                                  NaN   \n",
      "3                                                  NaN   \n",
      "4                                                  NaN   \n",
      "..                                                 ...   \n",
      "355                                                NaN   \n",
      "356  Laan, K. ter (redactie)|Haan, Tj.W.R. de (reda...   \n",
      "357                                                NaN   \n",
      "358  Laan, K. ter (redactie)|Haan, Tj.W.R. de (reda...   \n",
      "359                                        Kunst, Jaap   \n",
      "\n",
      "                                       place_publisher     dating  \\\n",
      "0    's-Gravenhage / Antwerpen:Nijhoff / De Nederla...  1903-1908   \n",
      "1                                                  NaN        NaN   \n",
      "2                                                  NaN        NaN   \n",
      "3                                                  NaN        NaN   \n",
      "4                                                  NaN        NaN   \n",
      "..                                                 ...        ...   \n",
      "355                                                NaN  1933-1934   \n",
      "356                                                NaN   1951-...   \n",
      "357                                                NaN     [1930]   \n",
      "358                                                NaN   1951-...   \n",
      "359               Den Haag:Leopold, H.P. 's uitg. mij.       1937   \n",
      "\n",
      "    sorting_year        type              copy_used scan_url  \n",
      "0           1903       print                    NaN      NaN  \n",
      "1           1960       audio  Amsterdam MI: OPN OGL      NaN  \n",
      "2           1960       audio  Amsterdam MI: OPN OGL      NaN  \n",
      "3           1960       audio  Amsterdam MI: OPN OGL      NaN  \n",
      "4           1960       audio  Amsterdam MI: OPN OGL      NaN  \n",
      "..           ...         ...                    ...      ...  \n",
      "355         1933       print                    NaN      NaN  \n",
      "356         1951       print                    NaN      NaN  \n",
      "357         1930  manuscript                    NaN      NaN  \n",
      "358         1951       print                    NaN      NaN  \n",
      "359         1937       print                    NaN      NaN  \n",
      "\n",
      "[360 rows x 22 columns]\n"
     ]
    }
   ],
   "source": [
    "print(mtc_metadata_processed)"
   ],
   "metadata": {
    "collapsed": false,
    "pycharm": {
     "name": "#%%\n"
    }
   }
  },
  {
   "cell_type": "code",
   "execution_count": 8,
   "outputs": [
    {
     "name": "stdout",
     "output_type": "stream",
     "text": [
      "0         32. Daar zou 'er een magetje vroeg opstaan. C.\n",
      "1                                                    NaN\n",
      "2                                                    NaN\n",
      "3                                                    NaN\n",
      "4                                                    NaN\n",
      "                             ...                        \n",
      "355                            Het drama van Bergumerdam\n",
      "356                               Vaarwel bruidje schoon\n",
      "357                                                  NaN\n",
      "358    Daar reed er eens een ruitertje door een groot...\n",
      "359                 68. Lieve schipper, vaar mij over...\n",
      "Name: title, Length: 360, dtype: object\n"
     ]
    }
   ],
   "source": [
    "print(mtc_metadata_processed['title'])"
   ],
   "metadata": {
    "collapsed": false,
    "pycharm": {
     "name": "#%%\n"
    }
   }
  },
  {
   "cell_type": "code",
   "execution_count": 12,
   "outputs": [],
   "source": [
    "out_path = in_dir + 'mtc_metadata_processed.csv'\n",
    "\n",
    "mtc_metadata_processed.to_csv(out_path)"
   ],
   "metadata": {
    "collapsed": false,
    "pycharm": {
     "name": "#%%\n"
    }
   }
  },
  {
   "cell_type": "code",
   "execution_count": null,
   "outputs": [],
   "source": [],
   "metadata": {
    "collapsed": false,
    "pycharm": {
     "name": "#%%\n"
    }
   }
  }
 ],
 "metadata": {
  "kernelspec": {
   "display_name": "Python 3",
   "language": "python",
   "name": "python3"
  },
  "language_info": {
   "codemirror_mode": {
    "name": "ipython",
    "version": 2
   },
   "file_extension": ".py",
   "mimetype": "text/x-python",
   "name": "python",
   "nbconvert_exporter": "python",
   "pygments_lexer": "ipython2",
   "version": "2.7.6"
  }
 },
 "nbformat": 4,
 "nbformat_minor": 0
}