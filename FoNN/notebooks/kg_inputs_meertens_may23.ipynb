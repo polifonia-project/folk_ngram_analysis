{
 "cells": [
  {
   "cell_type": "markdown",
   "source": [
    "## Setup corpus for [Patterns Knowledge Graph](https://github.com/polifonia-project/patterns-knowledge-graph) (KG) ingest."
   ],
   "metadata": {
    "collapsed": false,
    "pycharm": {
     "name": "#%% md\n"
    }
   }
  },
  {
   "cell_type": "code",
   "execution_count": 1,
   "outputs": [],
   "source": [
    "# imports\n",
    "\n",
    "import numpy as np\n",
    "import pandas as pd\n",
    "import pickle"
   ],
   "metadata": {
    "collapsed": false,
    "pycharm": {
     "name": "#%%\n"
    }
   }
  },
  {
   "cell_type": "markdown",
   "source": [
    "In this notebook we apply KG preprocessing to the MTC-ANN sample corpus included in the FoNN repo.\n",
    "To ingest another corpus, please first apply FoNN's feature extraction and pattern extraction tools via ```./notebooks/feature_extraction_tools_demo.ipynb``` and ```/notebooks/pattern_extraction_demo.ipynb```.\n",
    "\n",
    "After the corpus has been ingested through the FoNN pipeline, point the 'pattern_corpus_dir' path to ```/[corpus name]/pattern_corpus/```.\n",
    "Set the 'level' variable to the subdirectory corresponding to the corpus data under investigation-- this can be either 'note', 'accent' or 'duration_weighted'."
   ],
   "metadata": {
    "collapsed": false,
    "pycharm": {
     "name": "#%% md\n"
    }
   }
  },
  {
   "cell_type": "code",
   "execution_count": null,
   "outputs": [],
   "source": [
    "# Load 'pattern corpus' pattern occurrences matrix\n",
    "pattern_corpus_dir = '../mtc_ann_corpus/pattern_corpus/'\n",
    "level = 'duration_weighted'\n",
    "in_file = '6gram_locations.pkl'\n",
    "in_path = pattern_corpus_dir + level + '/' + in_file\n",
    "pattern_occurrences = pd.read_pickle(in_path)\n",
    "# check size\n",
    "print(len(pattern_occurrences))\n"
   ],
   "metadata": {
    "collapsed": false,
    "pycharm": {
     "name": "#%%\n"
    }
   }
  },
  {
   "cell_type": "code",
   "execution_count": null,
   "outputs": [],
   "source": [],
   "metadata": {
    "collapsed": false,
    "pycharm": {
     "name": "#%%\n"
    }
   }
  },
  {
   "cell_type": "code",
   "execution_count": 3,
   "outputs": [
    {
     "name": "stdout",
     "output_type": "stream",
     "text": [
      "                    NLB072355_01  NLB072255_01  NLB076303_01  NLB073150_01  \\\n",
      "patterns                                                                     \n",
      "[1, 1, 1, 1, 1, 1]           NaN           NaN           1.0           2.0   \n",
      "[1, 1, 1, 1, 1, 2]           NaN           NaN           NaN           1.0   \n",
      "[1, 1, 1, 1, 1, 3]           NaN           NaN           1.0           NaN   \n",
      "[1, 1, 1, 1, 1, 4]           NaN           NaN           NaN           NaN   \n",
      "[1, 1, 1, 1, 1, 5]           NaN           NaN           NaN           NaN   \n",
      "...                          ...           ...           ...           ...   \n",
      "[7, 7, 7, 7, 7, 3]           NaN           NaN           NaN           NaN   \n",
      "[7, 7, 7, 7, 7, 4]           NaN           NaN           NaN           NaN   \n",
      "[7, 7, 7, 7, 7, 5]           NaN           NaN           NaN           NaN   \n",
      "[7, 7, 7, 7, 7, 6]           NaN           NaN           NaN           NaN   \n",
      "[7, 7, 7, 7, 7, 7]           NaN           NaN           NaN           NaN   \n",
      "\n",
      "                    NLB072567_01  NLB073296_01  NLB073269_02  NLB076211_01  \\\n",
      "patterns                                                                     \n",
      "[1, 1, 1, 1, 1, 1]           NaN           NaN           NaN           NaN   \n",
      "[1, 1, 1, 1, 1, 2]           NaN           NaN           NaN           NaN   \n",
      "[1, 1, 1, 1, 1, 3]           NaN           NaN           NaN           NaN   \n",
      "[1, 1, 1, 1, 1, 4]           NaN           NaN           NaN           NaN   \n",
      "[1, 1, 1, 1, 1, 5]           NaN           NaN           NaN           NaN   \n",
      "...                          ...           ...           ...           ...   \n",
      "[7, 7, 7, 7, 7, 3]           NaN           NaN           NaN           NaN   \n",
      "[7, 7, 7, 7, 7, 4]           NaN           NaN           NaN           NaN   \n",
      "[7, 7, 7, 7, 7, 5]           NaN           NaN           NaN           NaN   \n",
      "[7, 7, 7, 7, 7, 6]           NaN           NaN           NaN           NaN   \n",
      "[7, 7, 7, 7, 7, 7]           NaN           NaN           NaN           NaN   \n",
      "\n",
      "                    NLB072359_01  NLB075739_03  ...  NLB072378_01  \\\n",
      "patterns                                        ...                 \n",
      "[1, 1, 1, 1, 1, 1]           NaN           NaN  ...           NaN   \n",
      "[1, 1, 1, 1, 1, 2]           NaN           NaN  ...           NaN   \n",
      "[1, 1, 1, 1, 1, 3]           NaN           NaN  ...           NaN   \n",
      "[1, 1, 1, 1, 1, 4]           NaN           NaN  ...           NaN   \n",
      "[1, 1, 1, 1, 1, 5]           NaN           NaN  ...           NaN   \n",
      "...                          ...           ...  ...           ...   \n",
      "[7, 7, 7, 7, 7, 3]           NaN           NaN  ...           NaN   \n",
      "[7, 7, 7, 7, 7, 4]           NaN           NaN  ...           NaN   \n",
      "[7, 7, 7, 7, 7, 5]           NaN           NaN  ...           NaN   \n",
      "[7, 7, 7, 7, 7, 6]           NaN           NaN  ...           NaN   \n",
      "[7, 7, 7, 7, 7, 7]           NaN           NaN  ...           NaN   \n",
      "\n",
      "                    NLB074004_01  NLB074104_01  NLB074840_01  NLB072895_01  \\\n",
      "patterns                                                                     \n",
      "[1, 1, 1, 1, 1, 1]           NaN           NaN           NaN           NaN   \n",
      "[1, 1, 1, 1, 1, 2]           NaN           NaN           NaN           NaN   \n",
      "[1, 1, 1, 1, 1, 3]           NaN           NaN           NaN           NaN   \n",
      "[1, 1, 1, 1, 1, 4]           NaN           NaN           NaN           NaN   \n",
      "[1, 1, 1, 1, 1, 5]           NaN           NaN           NaN           NaN   \n",
      "...                          ...           ...           ...           ...   \n",
      "[7, 7, 7, 7, 7, 3]           NaN           NaN           NaN           NaN   \n",
      "[7, 7, 7, 7, 7, 4]           NaN           NaN           NaN           NaN   \n",
      "[7, 7, 7, 7, 7, 5]           NaN           NaN           NaN           NaN   \n",
      "[7, 7, 7, 7, 7, 6]           NaN           NaN           NaN           NaN   \n",
      "[7, 7, 7, 7, 7, 7]           NaN           NaN           NaN           NaN   \n",
      "\n",
      "                    NLB073939_01  NLB073743_01  NLB075313_01  NLB074593_01  \\\n",
      "patterns                                                                     \n",
      "[1, 1, 1, 1, 1, 1]           NaN           NaN           1.0           NaN   \n",
      "[1, 1, 1, 1, 1, 2]           NaN           NaN           NaN           NaN   \n",
      "[1, 1, 1, 1, 1, 3]           NaN           NaN           NaN           NaN   \n",
      "[1, 1, 1, 1, 1, 4]           NaN           NaN           NaN           NaN   \n",
      "[1, 1, 1, 1, 1, 5]           NaN           NaN           1.0           NaN   \n",
      "...                          ...           ...           ...           ...   \n",
      "[7, 7, 7, 7, 7, 3]           NaN           NaN           NaN           NaN   \n",
      "[7, 7, 7, 7, 7, 4]           NaN           NaN           NaN           NaN   \n",
      "[7, 7, 7, 7, 7, 5]           NaN           NaN           NaN           NaN   \n",
      "[7, 7, 7, 7, 7, 6]           NaN           NaN           NaN           NaN   \n",
      "[7, 7, 7, 7, 7, 7]           NaN           NaN           NaN           NaN   \n",
      "\n",
      "                    NLB167193_01  \n",
      "patterns                          \n",
      "[1, 1, 1, 1, 1, 1]           NaN  \n",
      "[1, 1, 1, 1, 1, 2]           NaN  \n",
      "[1, 1, 1, 1, 1, 3]           NaN  \n",
      "[1, 1, 1, 1, 1, 4]           NaN  \n",
      "[1, 1, 1, 1, 1, 5]           NaN  \n",
      "...                          ...  \n",
      "[7, 7, 7, 7, 7, 3]           NaN  \n",
      "[7, 7, 7, 7, 7, 4]           NaN  \n",
      "[7, 7, 7, 7, 7, 5]           NaN  \n",
      "[7, 7, 7, 7, 7, 6]           NaN  \n",
      "[7, 7, 7, 7, 7, 7]           NaN  \n",
      "\n",
      "[5400 rows x 360 columns]\n",
      "                    NLB072355_01  NLB072255_01  NLB076303_01  NLB073150_01  \\\n",
      "patterns                                                                     \n",
      "[1, 1, 1, 1, 1, 1]             0             0             1             2   \n",
      "[1, 1, 1, 1, 1, 2]             0             0             0             1   \n",
      "[1, 1, 1, 1, 1, 3]             0             0             1             0   \n",
      "[1, 1, 1, 1, 1, 4]             0             0             0             0   \n",
      "[1, 1, 1, 1, 1, 5]             0             0             0             0   \n",
      "\n",
      "                    NLB072567_01  NLB073296_01  NLB073269_02  NLB076211_01  \\\n",
      "patterns                                                                     \n",
      "[1, 1, 1, 1, 1, 1]             0             0             0             0   \n",
      "[1, 1, 1, 1, 1, 2]             0             0             0             0   \n",
      "[1, 1, 1, 1, 1, 3]             0             0             0             0   \n",
      "[1, 1, 1, 1, 1, 4]             0             0             0             0   \n",
      "[1, 1, 1, 1, 1, 5]             0             0             0             0   \n",
      "\n",
      "                    NLB072359_01  NLB075739_03  ...  NLB074004_01  \\\n",
      "patterns                                        ...                 \n",
      "[1, 1, 1, 1, 1, 1]             0             0  ...             0   \n",
      "[1, 1, 1, 1, 1, 2]             0             0  ...             0   \n",
      "[1, 1, 1, 1, 1, 3]             0             0  ...             0   \n",
      "[1, 1, 1, 1, 1, 4]             0             0  ...             0   \n",
      "[1, 1, 1, 1, 1, 5]             0             0  ...             0   \n",
      "\n",
      "                    NLB074104_01  NLB074840_01  NLB072895_01  NLB073939_01  \\\n",
      "patterns                                                                     \n",
      "[1, 1, 1, 1, 1, 1]             0             0             0             0   \n",
      "[1, 1, 1, 1, 1, 2]             0             0             0             0   \n",
      "[1, 1, 1, 1, 1, 3]             0             0             0             0   \n",
      "[1, 1, 1, 1, 1, 4]             0             0             0             0   \n",
      "[1, 1, 1, 1, 1, 5]             0             0             0             0   \n",
      "\n",
      "                    NLB073743_01  NLB075313_01  NLB074593_01  NLB167193_01  \\\n",
      "patterns                                                                     \n",
      "[1, 1, 1, 1, 1, 1]             0             1             0             0   \n",
      "[1, 1, 1, 1, 1, 2]             0             0             0             0   \n",
      "[1, 1, 1, 1, 1, 3]             0             0             0             0   \n",
      "[1, 1, 1, 1, 1, 4]             0             0             0             0   \n",
      "[1, 1, 1, 1, 1, 5]             0             1             0             0   \n",
      "\n",
      "                    freq  \n",
      "patterns                  \n",
      "[1, 1, 1, 1, 1, 1]   125  \n",
      "[1, 1, 1, 1, 1, 2]    44  \n",
      "[1, 1, 1, 1, 1, 3]    14  \n",
      "[1, 1, 1, 1, 1, 4]     5  \n",
      "[1, 1, 1, 1, 1, 5]     9  \n",
      "\n",
      "[5 rows x 361 columns]\n",
      "3088\n"
     ]
    }
   ],
   "source": [
    "# filter pattern occurrences matrix, retaining patterns which occur twice or more\n",
    "print(pattern_occurrences)\n",
    "freq_table = freq_table.astype('Sparse[int16, 0]')\n",
    "freq_table.fillna(value=0, inplace=True)\n",
    "freq_table['freq'] = freq_table.sum(axis=1)\n",
    "freq_table = freq_table[freq_table['freq'] >= 2]\n",
    "print(freq_table.head())\n",
    "# check size\n",
    "print(len(freq_table))\n",
    "\n"
   ],
   "metadata": {
    "collapsed": false,
    "pycharm": {
     "name": "#%%\n"
    }
   }
  },
  {
   "cell_type": "code",
   "execution_count": 4,
   "outputs": [
    {
     "name": "stdout",
     "output_type": "stream",
     "text": [
      "3088\n",
      "[(1, 1, 1, 1, 1, 1), (1, 1, 1, 1, 1, 2), (1, 1, 1, 1, 1, 3)]\n",
      "<class 'numpy.int16'>\n"
     ]
    }
   ],
   "source": [
    "# extract filtered dataframe index; reformat index vals (patterns) representation from np arrays to tuples\n",
    "indices_reformatted = [tuple(i) for i in freq_table.index]\n",
    "print(len(indices_reformatted))\n",
    "test_subset = indices_reformatted[:3]\n",
    "print(test_subset)\n",
    "print(type(test_subset[0][0]))\n",
    "filtered_patterns = set(indices_reformatted)\n"
   ],
   "metadata": {
    "collapsed": false,
    "pycharm": {
     "name": "#%%\n"
    }
   }
  },
  {
   "cell_type": "code",
   "execution_count": 5,
   "outputs": [
    {
     "name": "stdout",
     "output_type": "stream",
     "text": [
      "360\n"
     ]
    }
   ],
   "source": [
    "# read locations dict\n",
    "locations_dir = '/Users/dannydiamond/NUIG/Polifonia/MTC/MTC-ANN-2.0/mtc_ann_feat_seq_corpus/locations'\n",
    "locations_filename = 'dw_locations6.pkl'\n",
    "locations_in_path = locations_dir + '/' + locations_filename\n",
    "with open(locations_in_path, 'rb') as locations_raw:\n",
    "    locations = pickle.load(locations_raw)\n",
    "    print(len(locations))"
   ],
   "metadata": {
    "collapsed": false,
    "pycharm": {
     "name": "#%%\n"
    }
   }
  },
  {
   "cell_type": "code",
   "execution_count": 6,
   "outputs": [
    {
     "name": "stdout",
     "output_type": "stream",
     "text": [
      "['NLB072355_01', 'NLB072255_01', 'NLB076303_01', 'NLB073150_01', 'NLB072567_01', 'NLB073296_01', 'NLB073269_02', 'NLB076211_01', 'NLB072359_01', 'NLB075739_03']\n",
      "['07235501', '07225501', '07630301', '07315001', '07256701', '07329601', '07326902', '07621101', '07235901', '07573903']\n"
     ]
    }
   ],
   "source": [
    "from string import digits\n",
    "# extract tune titles:\n",
    "# titles  = [tune.rstrip(digits) for tune in locations]\n",
    "titles  = [tune for tune in locations]\n",
    "print(titles[:10])\n",
    "# extract tune id numbers:\n",
    "variant_id_nums = [''.join(i for i in tune if i.isdigit()) for tune in locations]\n",
    "print(variant_id_nums[:10])\n",
    "\n",
    "id_dict = dict(zip(variant_id_nums, titles))\n"
   ],
   "metadata": {
    "collapsed": false,
    "pycharm": {
     "name": "#%%\n"
    }
   }
  },
  {
   "cell_type": "code",
   "execution_count": 7,
   "outputs": [
    {
     "name": "stdout",
     "output_type": "stream",
     "text": [
      "07235501 NLB072355_01\n",
      "07225501 NLB072255_01\n",
      "07630301 NLB076303_01\n",
      "07315001 NLB073150_01\n",
      "07256701 NLB072567_01\n",
      "07329601 NLB073296_01\n",
      "07326902 NLB073269_02\n",
      "07621101 NLB076211_01\n",
      "07235901 NLB072359_01\n",
      "07573903 NLB075739_03\n"
     ]
    }
   ],
   "source": [
    "id_dict_filenames = dict(zip(variant_id_nums, list(locations)))\n",
    "\n",
    "# check output\n",
    "for k, v in list(id_dict_filenames.items())[:10]:\n",
    "    print(k, v)"
   ],
   "metadata": {
    "collapsed": false,
    "pycharm": {
     "name": "#%%\n"
    }
   }
  },
  {
   "cell_type": "code",
   "execution_count": 8,
   "outputs": [
    {
     "name": "stdout",
     "output_type": "stream",
     "text": [
      "07235501:\n",
      "{(4, 4, 4, 5, 5, 5): [0], (4, 4, 5, 5, 5, 4): [1], (4, 5, 5, 5, 4, 3): [2], (5, 5, 5, 4, 3, 3): [3], (5, 5, 4, 3, 3, 1): [4], (5, 4, 3, 3, 1, 1): [5], (4, 3, 3, 1, 1, 1): [6], (3, 3, 1, 1, 1, 1): [7], (3, 1, 1, 1, 1, 3): [8], (1, 1, 1, 1, 3, 3): [9], (1, 1, 1, 3, 3, 2): [10], (1, 1, 3, 3, 2, 2): [11], (1, 3, 3, 2, 2, 3): [12], (3, 3, 2, 2, 3, 3): [13], (3, 2, 2, 3, 3, 3): [14], (2, 2, 3, 3, 3, 3): [15], (2, 3, 3, 3, 3, 2): [16], (3, 3, 3, 3, 2, 1): [17], (3, 3, 3, 2, 1, 1): [18], (3, 3, 2, 1, 1, 1): [19], (3, 2, 1, 1, 1, 2): [20], (2, 1, 1, 1, 2, 2): [21], (1, 1, 1, 2, 2, 2): [22], (1, 1, 2, 2, 2, 2): [23], (1, 2, 2, 2, 2, 5): [24], (2, 2, 2, 2, 5, 5): [25], (2, 2, 2, 5, 5, 5): [26], (2, 2, 5, 5, 5, 3): [27], (2, 5, 5, 5, 3, 2): [28], (5, 5, 5, 3, 2, 1): [29], (5, 5, 3, 2, 1, 2): [30], (5, 3, 2, 1, 2, 2): [31], (3, 2, 1, 2, 2, 3): [32], (2, 1, 2, 2, 3, 3): [33], (1, 2, 2, 3, 3, 2): [34], (2, 2, 3, 3, 2, 2): [35], (2, 3, 3, 2, 2, 2): [36], (3, 3, 2, 2, 2, 2): [37], (3, 2, 2, 2, 2, 1): [38], (2, 2, 2, 2, 1, 1): [39], (2, 2, 2, 1, 1, 1): [40]}\n",
      "07225501:\n",
      "{(1, 1, 3, 5, 5, 5): [1], (1, 3, 5, 5, 5, 6): [2], (3, 5, 5, 5, 6, 6): [3], (5, 5, 5, 6, 6, 6): [4], (5, 5, 6, 6, 6, 5): [5], (5, 6, 6, 6, 5, 5): [6], (6, 6, 6, 5, 5, 5): [7], (6, 6, 5, 5, 5, 1): [8], (6, 5, 5, 5, 1, 2): [9], (5, 5, 5, 1, 2, 3): [10], (5, 5, 1, 2, 3, 3): [11], (5, 1, 2, 3, 3, 3): [12], (1, 2, 3, 3, 3, 2): [13], (2, 3, 3, 3, 2, 1): [14], (3, 3, 3, 2, 1, 3): [15], (3, 3, 2, 1, 3, 1): [16], (3, 2, 1, 3, 1, 5): [17], (2, 1, 3, 1, 5, 5): [18], (1, 3, 1, 5, 5, 5): [19], (3, 1, 5, 5, 5, 1): [20], (1, 5, 5, 5, 1, 2): [21], (5, 5, 5, 1, 2, 2): [22], (5, 5, 1, 2, 2, 2): [23], (5, 1, 2, 2, 2, 2): [24], (1, 2, 2, 2, 2, 2): [25], (2, 2, 2, 2, 2, 3): [26], (2, 2, 2, 2, 3, 5): [27], (2, 2, 2, 3, 5, 5): [28], (2, 2, 3, 5, 5, 5): [29], (2, 3, 5, 5, 5, 3): [30], (3, 5, 5, 5, 3, 3): [31], (5, 5, 5, 3, 3, 1): [32], (5, 5, 3, 3, 1, 5): [33], (5, 3, 3, 1, 5, 5): [34], (3, 3, 1, 5, 5, 5): [35], (3, 1, 5, 5, 5, 4): [36], (1, 5, 5, 5, 4, 4): [37]}\n",
      "07630301:\n",
      "{(1, 3, 3, 5, 5, 5): [0], (3, 3, 5, 5, 5, 6): [1], (3, 5, 5, 5, 6, 5): [2], (5, 5, 5, 6, 5, 5): [3], (5, 5, 6, 5, 5, 6): [4], (5, 6, 5, 5, 6, 5): [5], (6, 5, 5, 6, 5, 5): [6], (5, 5, 6, 5, 5, 3): [7], (5, 6, 5, 5, 3, 3): [8], (6, 5, 5, 3, 3, 5): [9], (5, 5, 3, 3, 5, 5): [10], (5, 3, 3, 5, 5, 4): [11], (3, 3, 5, 5, 4, 4): [12], (3, 5, 5, 4, 4, 4): [13], (5, 5, 4, 4, 4, 4): [14], (5, 4, 4, 4, 4, 4): [15], (4, 4, 4, 4, 4, 4): [16, 17, 18, 19, 20], (4, 4, 4, 4, 4, 6): [21], (4, 4, 4, 4, 6, 6): [22], (4, 4, 4, 6, 6, 1): [23], (1, 1, 5, 1, 1, 1): [28], (1, 5, 1, 1, 1, 1): [29], (5, 1, 1, 1, 1, 1): [30], (1, 1, 1, 1, 1, 1): [31], (1, 1, 1, 1, 1, 3): [32], (1, 1, 1, 1, 3, 3): [33], (1, 1, 1, 3, 3, 5): [34], (1, 1, 3, 3, 5, 1): [35], (1, 3, 3, 5, 1, 1): [36], (3, 3, 5, 1, 1, 7): [37], (3, 5, 1, 1, 7, 7): [38], (5, 1, 1, 7, 7, 7): [39], (1, 1, 7, 7, 7, 6): [40], (1, 7, 7, 7, 6, 6): [41], (7, 7, 7, 6, 6, 6): [42], (7, 7, 6, 6, 6, 6): [43], (7, 6, 6, 6, 6, 6): [44], (6, 6, 6, 6, 6, 6): [45], (6, 6, 6, 6, 6, 1): [46], (6, 6, 6, 6, 1, 7): [47], (6, 6, 6, 1, 7, 6): [48], (6, 6, 1, 7, 6, 5): [49], (6, 1, 7, 6, 5, 4): [50], (1, 7, 6, 5, 4, 4): [51]}\n",
      "07315001:\n",
      "{(5, 5, 5, 6, 6, 5): [0], (5, 5, 6, 6, 5, 5): [1], (6, 6, 5, 5, 1, 1): [3], (6, 5, 5, 1, 1, 1): [4], (1, 1, 1, 4, 3, 2): [7], (1, 1, 4, 3, 2, 1): [8], (4, 3, 2, 1, 1, 5): [10], (3, 2, 1, 1, 5, 5): [11], (2, 1, 1, 5, 5, 1): [12], (1, 1, 5, 5, 1, 1): [13], (1, 5, 5, 1, 1, 1): [14], (5, 5, 1, 1, 1, 1): [15, 35], (5, 1, 1, 1, 1, 1): [16, 36], (1, 1, 1, 1, 1, 2): [17], (1, 1, 1, 1, 2, 1): [18], (1, 1, 1, 2, 1, 1): [19], (1, 1, 2, 1, 1, 7): [20], (2, 1, 1, 7, 7, 7): [22], (1, 1, 7, 7, 7, 6): [23], (1, 7, 7, 7, 6, 6): [24], (7, 7, 7, 6, 6, 5): [25], (7, 7, 6, 6, 5, 5): [26], (7, 6, 6, 5, 5, 5): [27], (6, 6, 5, 5, 5, 5): [28], (6, 5, 5, 5, 5, 5): [29], (5, 5, 5, 5, 5, 5): [30, 31], (5, 5, 5, 5, 5, 1): [32], (5, 5, 5, 5, 1, 1): [33], (5, 5, 5, 1, 1, 1): [34], (1, 1, 1, 1, 1, 1): [37, 38], (1, 1, 1, 1, 1, 7): [39], (1, 1, 1, 1, 7, 6): [40], (1, 1, 1, 7, 6, 5): [41], (1, 1, 7, 6, 5, 3): [42], (1, 7, 6, 5, 3, 3): [43], (7, 6, 5, 3, 3, 3): [44], (6, 5, 3, 3, 3, 3): [45], (5, 3, 3, 3, 3, 3): [46], (3, 3, 3, 3, 3, 3): [47, 48], (3, 3, 3, 3, 3, 4): [49], (3, 3, 3, 3, 4, 3): [50], (3, 3, 3, 4, 3, 4): [51], (3, 3, 4, 3, 4, 5): [52], (3, 4, 3, 4, 5, 6): [53], (4, 3, 4, 5, 6, 5): [54], (3, 4, 5, 6, 5, 5): [55], (4, 5, 6, 5, 5, 6): [56], (5, 6, 5, 5, 6, 5): [57], (5, 5, 6, 5, 2, 2): [59], (5, 6, 5, 2, 2, 1): [60]}\n",
      "07256701:\n",
      "{(5, 6, 7, 1, 5, 5): [0], (6, 7, 1, 5, 5, 6): [1], (7, 1, 5, 5, 6, 5): [2], (1, 5, 5, 6, 5, 5): [3], (5, 5, 6, 5, 5, 6): [4], (5, 6, 5, 5, 6, 5): [5], (6, 5, 5, 6, 5, 5): [6], (5, 5, 6, 5, 5, 1): [7], (5, 6, 5, 5, 1, 3): [8], (6, 5, 5, 1, 3, 4): [9], (5, 5, 1, 3, 4, 5): [10], (3, 4, 5, 6, 6, 5): [13], (4, 5, 6, 6, 5, 4): [14], (5, 6, 6, 5, 4, 4): [15], (6, 6, 5, 4, 4, 3): [16], (6, 5, 4, 4, 3, 5): [17], (5, 4, 4, 3, 5, 5): [18], (4, 4, 3, 5, 5, 5): [19], (4, 3, 5, 5, 5, 6): [20], (3, 5, 5, 5, 6, 7): [21], (5, 5, 5, 6, 7, 1): [22], (5, 5, 6, 7, 1, 1): [23], (5, 6, 7, 1, 1, 1): [24], (6, 7, 1, 1, 1, 2): [25], (7, 1, 1, 1, 2, 2): [26], (1, 1, 1, 2, 2, 2): [27], (1, 1, 2, 2, 2, 3): [28], (1, 2, 2, 2, 3, 5): [29], (2, 2, 2, 3, 5, 5): [30], (2, 2, 3, 5, 5, 4): [31], (2, 3, 5, 5, 4, 3): [32], (3, 5, 5, 4, 3, 2): [33], (5, 5, 4, 3, 2, 1): [34], (5, 4, 3, 2, 1, 3): [35], (4, 3, 2, 1, 3, 3): [36], (3, 2, 1, 3, 3, 2): [37], (2, 1, 3, 3, 2, 6): [38], (1, 3, 3, 2, 6, 7): [39]}\n",
      "07329601:\n",
      "{(5, 1, 1, 1, 1, 2): [0, 16], (1, 1, 1, 1, 2, 2): [1, 17], (1, 1, 1, 2, 2, 1): [2, 18], (1, 1, 2, 2, 1, 1): [3, 19], (1, 2, 2, 1, 1, 2): [4, 20], (2, 2, 1, 1, 2, 3): [5, 21], (2, 1, 1, 2, 3, 3): [6, 22], (1, 1, 2, 3, 3, 3): [7, 23], (1, 2, 3, 3, 3, 5): [8], (2, 3, 3, 3, 5, 5): [9], (3, 3, 3, 5, 5, 5): [10], (3, 3, 5, 5, 5, 5): [11], (3, 5, 5, 5, 5, 1): [12], (5, 5, 5, 5, 1, 1): [13], (5, 5, 5, 1, 1, 1): [14], (5, 5, 1, 1, 1, 1): [15], (1, 2, 3, 3, 3, 4): [24], (2, 3, 3, 3, 4, 4): [25], (3, 3, 3, 4, 4, 4): [26], (3, 3, 4, 4, 4, 4): [27], (4, 4, 6, 5, 5, 5): [31], (4, 6, 5, 5, 5, 5): [32], (6, 5, 5, 5, 5, 5): [33], (5, 5, 5, 5, 5, 5): [34, 50], (5, 5, 5, 5, 5, 4): [35, 51], (5, 5, 5, 5, 4, 5): [36], (5, 5, 5, 4, 5, 6): [37], (5, 5, 4, 5, 6, 6): [38], (5, 4, 5, 6, 6, 6): [39], (4, 5, 6, 6, 6, 6): [40], (5, 6, 6, 6, 6, 6): [41], (6, 6, 6, 6, 6, 6): [42, 43], (6, 6, 6, 6, 6, 1): [44], (6, 6, 1, 5, 5, 5): [47], (6, 1, 5, 5, 5, 5): [48], (1, 5, 5, 5, 5, 5): [49], (5, 5, 5, 5, 4, 4): [52]}\n",
      "07326902:\n",
      "{(1, 2, 3, 1, 1, 1): [0], (2, 3, 1, 1, 1, 1): [1], (3, 1, 1, 1, 1, 3): [2], (1, 1, 1, 1, 3, 3): [3], (1, 1, 1, 3, 3, 6): [4], (1, 1, 3, 3, 6, 6): [5], (1, 3, 3, 6, 6, 5): [6], (3, 3, 6, 6, 5, 5): [7], (3, 6, 6, 5, 5, 5): [8], (6, 6, 5, 5, 5, 5): [9, 29, 57, 103], (6, 5, 5, 5, 5, 5): [10, 30, 58, 104], (5, 5, 5, 5, 5, 5): [11, 12, 13, 31, 32, 33, 34, 35, 59, 79, 80, 81, 105], (5, 5, 5, 5, 5, 6): [14], (5, 5, 5, 5, 6, 6): [15], (5, 5, 5, 6, 6, 7): [16], (5, 5, 6, 6, 7, 7): [17], (5, 6, 6, 7, 7, 1): [18], (6, 6, 7, 7, 1, 1): [19], (6, 7, 7, 1, 1, 7): [20], (7, 7, 1, 1, 7, 7): [21], (7, 1, 1, 7, 7, 7): [22], (1, 1, 7, 7, 7, 7): [23], (1, 7, 7, 7, 7, 6): [24], (7, 7, 7, 7, 6, 6): [25], (7, 7, 7, 6, 6, 5): [26], (7, 7, 6, 6, 5, 5): [27], (7, 6, 6, 5, 5, 5): [28], (5, 5, 5, 5, 5, 1): [36, 82], (5, 5, 5, 5, 1, 1): [37, 83], (5, 5, 5, 1, 1, 3): [38, 84], (5, 5, 1, 1, 3, 3): [39, 85], (5, 1, 1, 3, 3, 3): [40, 86], (1, 1, 3, 3, 3, 3): [41, 87], (1, 3, 3, 3, 3, 6): [42, 88], (3, 3, 3, 3, 6, 6): [43, 89], (3, 3, 3, 6, 6, 6): [44, 90], (3, 3, 6, 6, 6, 6): [45, 91], (3, 6, 6, 6, 6, 6): [46, 92], (6, 6, 6, 6, 6, 6): [47, 48, 93, 94], (6, 6, 6, 6, 6, 4): [49, 95], (6, 6, 6, 6, 4, 5): [50, 96], (6, 6, 6, 4, 5, 5): [51, 97], (6, 6, 4, 5, 5, 6): [52, 98], (6, 4, 5, 5, 6, 6): [53, 99], (4, 5, 5, 6, 6, 5): [54, 100], (5, 5, 6, 6, 5, 5): [55, 101], (5, 6, 6, 5, 5, 5): [56, 102], (5, 5, 5, 5, 5, 3): [60, 106], (5, 5, 5, 5, 3, 3): [61, 107], (5, 5, 5, 3, 3, 1): [62, 108], (5, 5, 3, 3, 1, 1): [63, 109], (5, 3, 3, 1, 1, 5): [64, 110], (3, 3, 1, 1, 5, 5): [65, 111], (3, 1, 1, 5, 5, 3): [66, 112], (1, 1, 5, 5, 3, 3): [67, 113], (1, 5, 5, 3, 3, 3): [68, 114], (5, 5, 3, 3, 3, 3): [69, 115], (5, 3, 3, 3, 3, 2): [70, 116], (3, 3, 3, 3, 2, 2): [71, 117], (3, 3, 3, 2, 2, 1): [72, 118], (3, 3, 2, 2, 1, 1): [73], (3, 2, 2, 1, 1, 5): [74], (2, 2, 1, 1, 5, 5): [75], (2, 1, 1, 5, 5, 5): [76], (1, 1, 5, 5, 5, 5): [77], (1, 5, 5, 5, 5, 5): [78]}\n",
      "07621101:\n",
      "{(1, 4, 3, 3, 2, 5): [0], (4, 3, 3, 2, 5, 6): [1, 17], (3, 3, 2, 5, 6, 6): [2, 18], (3, 2, 5, 6, 6, 5): [3, 19], (2, 5, 6, 6, 5, 3): [4, 20], (5, 6, 6, 5, 3, 1): [5, 21], (6, 6, 5, 3, 1, 1): [6, 22], (1, 4, 4, 4, 4, 4): [11], (4, 4, 4, 4, 4, 4): [12, 45, 46, 47], (4, 4, 4, 4, 4, 3): [13], (4, 4, 4, 4, 3, 3): [14], (4, 4, 4, 3, 3, 2): [15], (4, 4, 3, 3, 2, 5): [16], (3, 1, 1, 5, 5, 5): [25], (1, 1, 5, 5, 5, 5): [26], (1, 5, 5, 5, 5, 5): [27], (5, 5, 5, 5, 5, 5): [28, 29, 30, 31, 32], (5, 5, 5, 5, 5, 1): [33], (5, 5, 5, 5, 1, 1): [34], (5, 5, 5, 1, 1, 1): [35], (5, 5, 1, 1, 1, 7): [36], (5, 1, 1, 1, 7, 7): [37], (1, 1, 1, 7, 7, 6): [38], (1, 1, 7, 7, 6, 5): [39], (7, 6, 5, 4, 4, 4): [42], (6, 5, 4, 4, 4, 4): [43], (5, 4, 4, 4, 4, 4): [44], (4, 4, 4, 4, 4, 5): [48], (4, 4, 4, 4, 5, 4): [49], (4, 4, 4, 5, 4, 4): [50], (5, 4, 4, 4, 5, 5): [53], (4, 4, 4, 5, 5, 2): [54], (4, 4, 5, 5, 2, 2): [55]}\n",
      "07235901:\n",
      "{(4, 5, 5, 5, 4, 3): [0], (5, 5, 5, 4, 3, 3): [1], (5, 5, 4, 3, 3, 1): [2], (5, 4, 3, 3, 1, 1): [3], (4, 3, 3, 1, 1, 1): [4], (3, 3, 1, 1, 1, 1): [5], (3, 1, 1, 1, 1, 2): [6], (1, 1, 1, 1, 2, 3): [7], (1, 1, 1, 2, 3, 2): [8], (1, 1, 2, 3, 2, 2): [9], (1, 2, 3, 2, 2, 3): [10], (2, 3, 2, 2, 3, 3): [11], (3, 2, 2, 3, 3, 2): [12], (2, 2, 3, 3, 2, 1): [13], (2, 3, 3, 2, 1, 1): [14], (3, 3, 2, 1, 1, 1): [15], (3, 2, 1, 1, 1, 2): [16], (2, 1, 1, 1, 2, 2): [17], (1, 1, 1, 2, 2, 2): [18], (1, 1, 2, 2, 2, 2): [19], (1, 2, 2, 2, 2, 5): [20], (2, 2, 2, 2, 5, 5): [21], (2, 2, 2, 5, 5, 4): [22], (2, 2, 5, 5, 4, 3): [23], (2, 5, 5, 4, 3, 2): [24], (5, 5, 4, 3, 2, 1): [25], (5, 4, 3, 2, 1, 5): [26], (4, 3, 2, 1, 5, 5): [27], (3, 2, 1, 5, 5, 3): [28], (2, 1, 5, 5, 3, 3): [29], (1, 5, 5, 3, 3, 2): [30], (5, 5, 3, 3, 2, 2): [31], (5, 3, 3, 2, 2, 2): [32], (3, 3, 2, 2, 2, 2): [33], (3, 2, 2, 2, 2, 1): [34], (2, 2, 2, 2, 1, 1): [35], (2, 2, 2, 1, 1, 1): [36]}\n",
      "07573903:\n",
      "{(5, 1, 2, 2, 3, 2): [0], (1, 2, 2, 3, 2, 1): [1], (2, 2, 3, 2, 1, 5): [2], (3, 2, 1, 5, 6, 6): [4], (2, 1, 5, 6, 6, 5): [5], (1, 5, 6, 6, 5, 5): [6], (5, 6, 6, 5, 5, 5): [7], (6, 6, 5, 5, 5, 6): [8], (6, 5, 5, 5, 6, 7): [9], (5, 5, 5, 6, 7, 7): [10], (5, 5, 6, 7, 7, 1): [11], (6, 7, 7, 1, 7, 6): [13], (7, 7, 1, 7, 6, 6): [14], (7, 1, 7, 6, 6, 5): [15], (1, 7, 6, 6, 5, 6): [16], (7, 6, 6, 5, 6, 5): [17], (6, 6, 5, 6, 5, 3): [18], (5, 3, 3, 5, 5, 5): [22], (3, 3, 5, 5, 5, 3): [23], (3, 5, 5, 5, 3, 2): [24], (5, 5, 5, 3, 2, 1): [25, 49], (5, 5, 3, 2, 1, 4): [26, 50], (5, 3, 2, 1, 4, 3): [27, 51], (3, 2, 1, 4, 3, 3): [28, 52], (2, 1, 4, 3, 3, 3): [29, 53], (1, 4, 3, 3, 3, 3): [30, 54], (4, 3, 3, 3, 3, 3): [31, 55], (3, 3, 3, 3, 3, 2): [32, 56], (3, 3, 3, 3, 2, 2): [33, 57], (3, 3, 3, 2, 2, 5): [34, 58], (3, 3, 2, 2, 5, 2): [35, 59], (3, 2, 2, 5, 2, 1): [36, 60], (2, 2, 5, 2, 1, 2): [37, 61], (5, 2, 1, 2, 1, 5): [39], (2, 1, 2, 1, 5, 5): [40], (1, 2, 1, 5, 5, 5): [41], (2, 1, 5, 5, 5, 5): [42], (1, 5, 5, 5, 5, 5): [43], (5, 5, 5, 5, 5, 5): [44, 45, 46], (5, 5, 5, 5, 5, 3): [47], (5, 5, 5, 5, 3, 2): [48]}\n"
     ]
    }
   ],
   "source": [
    "# filter locations dict\n",
    "# test_subset = dict(islice(locations.items(), 1000))\n",
    "\n",
    "filtered_locations = {}\n",
    "for tune in locations:\n",
    "    # read value, which holds a dict of patterns and locations\n",
    "    pattern_locations = locations[tune]\n",
    "    # print(len(pattern_locations))\n",
    "    # filter\n",
    "    filtered = {pattern: pattern_locations[pattern] for pattern in pattern_locations if pattern in filtered_patterns}\n",
    "    # print(len(filtered))\n",
    "    filtered_locations[tune] = filtered\n",
    "\n",
    "# check output\n",
    "res = dict(zip(list(id_dict), list(filtered_locations.values())))\n",
    "for k, v in list(res.items())[:10]:\n",
    "    print(f\"{k}:\\n{v}\")\n"
   ],
   "metadata": {
    "collapsed": false,
    "pycharm": {
     "name": "#%%\n"
    }
   }
  },
  {
   "cell_type": "code",
   "execution_count": 9,
   "outputs": [],
   "source": [
    "# calculate tune lengths (beats and 1/8 notes):\n",
    "\n",
    "import os\n",
    "\n",
    "def calculate_tune_lengths(target_dir):\n",
    "    tune_durations = []\n",
    "    for file_name in os.listdir(target_dir):\n",
    "        if file_name.endswith('.csv'):\n",
    "            file_path = f\"{target_dir}/{file_name}\"\n",
    "            tune_title = file_name[:-4]\n",
    "            with open(file_path) as content:\n",
    "                counter = len(content.readlines()) + 1\n",
    "                tune_durations.append(counter)\n",
    "    tune_durations = dict(zip(list(id_dict), tune_durations))\n",
    "\n",
    "    return tune_durations\n",
    "\n",
    "# counting tune length:\n",
    "corpus_path = '/Users/dannydiamond/NUIG/Polifonia/MTC/MTC-ANN-2.0/mtc_ann_feat_seq_corpus/feat_seq_dw'\n",
    "tune_lengths = calculate_tune_lengths(corpus_path)\n",
    "# # counting (1/8) notes\n",
    "# notes_path = '/Users/dannydiamond/NUIG/Polifonia/thesession/revised_feat_seq_corpus_no_pickups/duration_weighted'\n",
    "# duration_eighth_notes = calculate_tune_lengths(notes_path)"
   ],
   "metadata": {
    "collapsed": false,
    "pycharm": {
     "name": "#%%\n"
    }
   }
  },
  {
   "cell_type": "code",
   "execution_count": 10,
   "outputs": [],
   "source": [
    "# Combine dicts generated in above cell: title (key): dict (val -- 'duration_beats': num, 'duration_eighth_notes': num)\n",
    "\n",
    "# durations = {}\n",
    "# for tune in duration_beats:\n",
    "#     durations[tune] = {'duration_beats': duration_beats[tune], 'duration_eighth_notes': duration_eighth_notes[tune]}\n",
    "#\n",
    "# for tune in duration_beats:\n",
    "#     durations[tune] = duration_beats[tune]"
   ],
   "metadata": {
    "collapsed": false,
    "pycharm": {
     "name": "#%%\n"
    }
   }
  },
  {
   "cell_type": "code",
   "execution_count": 11,
   "outputs": [],
   "source": [
    "import csv\n",
    "# Extract pitch class sequences from csv files for all tunes:\n",
    "feature = 'diatonic_scale_degree'\n",
    "in_dir = corpus_path\n",
    "filenames = [filename[:-4] for filename in os.listdir(in_dir)]\n",
    "inpaths = [f\"{in_dir}/{filename}\" for filename in os.listdir(in_dir) if filename.endswith(\".csv\")]\n",
    "# identify csv col names\n",
    "with open(inpaths[0]) as testfile:\n",
    "    csv_reader = csv.reader(testfile, delimiter=',')\n",
    "    cols = next(csv_reader)\n",
    "    colsmap = {col_name: i for i, col_name in enumerate(cols)}\n",
    "    assert feature in colsmap\n",
    "# identify index of target column\n",
    "target_col_idx = colsmap[feature]\n",
    "# extract target column from all tunes to list\n",
    "raw_data = [\n",
    "    np.genfromtxt(\n",
    "        path,\n",
    "        dtype=str,\n",
    "        delimiter=',',\n",
    "        usecols=target_col_idx,\n",
    "            skip_header=1)\n",
    "        for path in inpaths\n",
    "    ]\n"
   ],
   "metadata": {
    "collapsed": false,
    "pycharm": {
     "name": "#%%\n"
    }
   }
  },
  {
   "cell_type": "code",
   "execution_count": 12,
   "outputs": [
    {
     "name": "stdout",
     "output_type": "stream",
     "text": [
      "True\n",
      "07235501 [4, 4, 4, 5, 5, 5, 4, 3, 3, 1, 1, 1, 1, 3, 3, 2, 2, 3, 3, 3, 3, 2, 1, 1, 1, 2, 2, 2, 2, 5, 5, 5, 3, 2, 1, 2, 2, 3, 3, 2, 2, 2, 2, 1, 1, 1]\n",
      "07225501 [5, 1, 1, 3, 5, 5, 5, 6, 6, 6, 5, 5, 5, 1, 2, 3, 3, 3, 2, 1, 3, 1, 5, 5, 5, 1, 2, 2, 2, 2, 2, 3, 5, 5, 5, 3, 3, 1, 5, 5, 5, 4, 4]\n"
     ]
    }
   ],
   "source": [
    "\n",
    "\n",
    "feat_seq_data = []\n",
    "for i in raw_data:\n",
    "    numeric = []\n",
    "    for j in i:\n",
    "        num = int(float(j)) if j != '' else 0\n",
    "        numeric.append(num)\n",
    "    feat_seq_data.append(numeric)\n",
    "\n",
    "feat_seq_data =dict(zip(variant_id_nums, feat_seq_data))\n",
    "\n",
    "# # confirm ordering matches 'locations' variable above\n",
    "print(filenames == list(locations))\n",
    "# inspect sample output\n",
    "# print(feat_seq_data[0].tolist())\n",
    "\n",
    "# check output\n",
    "for k, v in list(feat_seq_data.items())[:2]:\n",
    "    print(k, v)"
   ],
   "metadata": {
    "collapsed": false,
    "pycharm": {
     "name": "#%%\n"
    }
   }
  },
  {
   "cell_type": "code",
   "execution_count": 13,
   "outputs": [],
   "source": [
    "# # add tune family annotation -- step 1: read and format tune family names:\n",
    "# tune_fams_dir = '/Users/dannydiamond/NUIG/Polifonia/thesession/test_corpus/tune_fams_ground_truth'\n",
    "# tune_family_names = [filename for filename in os.listdir(tune_fams_dir) if filename.endswith('.csv')]\n",
    "#\n",
    "# tune_family_names_formatted = [\n",
    "#     \"Jenny's Welcome to Charlie\",\n",
    "#     \"Drowsy Maggie\",\n",
    "#     \"Gilderoy\",\n",
    "#     \"Greig's Pipes\",\n",
    "#     \"Blackbird\",\n",
    "#     \"Hob or Nob\",\n",
    "#     \"O'Sullivan's March\",\n",
    "#     \"Road to Lisdoonvarna\",\n",
    "#     \"Lord McDonald's\",\n",
    "#     \"Johnny Cope\"\n",
    "# ]\n",
    "#\n",
    "# fam_names = dict(zip(tune_family_names_formatted, tune_family_names))\n",
    "# print(fam_names)\n"
   ],
   "metadata": {
    "collapsed": false,
    "pycharm": {
     "name": "#%%\n"
    }
   }
  },
  {
   "cell_type": "code",
   "execution_count": 14,
   "outputs": [],
   "source": [
    "# # add tune family annotation -- step 2: compile all tune variants in each family\n",
    "#\n",
    "# # base path to The Session ground truth dir:\n",
    "# grd_truth_basepath = '/Users/dannydiamond/NUIG/Polifonia/thesession/test_corpus/tune_fams_ground_truth/'\n",
    "# grd_truth_paths  = {}\n",
    "# for formatted, raw in fam_names.items():\n",
    "#     grd_truth_path = grd_truth_basepath + raw # 'tune_family_name' variable is defined in above code cell.\n",
    "#     assert os.path.isfile(grd_truth_path)\n",
    "#     # print(f\"Ground truth path for {formatted}:\")\n",
    "#     # print(grd_truth_path)\n",
    "#     # fix\n",
    "#     grd_truth_paths[formatted] = grd_truth_path\n",
    "#\n",
    "# print(grd_truth_paths)\n",
    "#\n",
    "#\n",
    "# def format_input_data(in_path):\n",
    "#     \"\"\"For a given tune family csv file located at 'in_path', this function extracts and lists all tune titles.\"\"\"\n",
    "#     if 'precision' not in in_path:\n",
    "#         data = pd.read_csv(in_path)\n",
    "#         return data['title'].tolist()\n",
    "#\n",
    "# # Execute above function and print sample output:\n",
    "# grd_truth = {}\n",
    "# tot = 0\n",
    "# for fam in grd_truth_paths:\n",
    "#     grd_truth[fam] = format_input_data(grd_truth_paths[fam])\n",
    "#     check = len(grd_truth[fam])\n",
    "#     print(f\"Ground truth data for {fam}:\")\n",
    "#     for title in grd_truth[fam]:\n",
    "#         print(title)\n",
    "#     print(check)\n",
    "#     tot += check\n",
    "#     print('\\n')\n",
    "# print(tot)\n"
   ],
   "metadata": {
    "collapsed": false,
    "pycharm": {
     "name": "#%%\n"
    }
   }
  },
  {
   "cell_type": "code",
   "execution_count": 15,
   "outputs": [],
   "source": [
    "# # add tune family annotation -- step 3: add annotation for all tunes in corpus\n",
    "# tune_fam_annotation_numeric = {}\n",
    "# for tune in list(locations):\n",
    "#     tune_fam_annotation_numeric[''.join(i for i in tune if i.isdigit())] = ''\n",
    "#     for fam in grd_truth:\n",
    "#         if tune in grd_truth[fam]:\n",
    "#             # print(f\"{tune} in {fam}\")\n",
    "#             tune_fam_annotation_numeric[''.join(i for i in tune if i.isdigit())] = fam\n",
    "#\n",
    "# print({i for i in tune_fam_annotation_numeric if tune_fam_annotation_numeric[i]==\"Jenny's Welcome to Charlie\"})\n",
    "# print(len(tune_fam_annotation_numeric))\n"
   ],
   "metadata": {
    "collapsed": false,
    "pycharm": {
     "name": "#%%\n"
    }
   }
  },
  {
   "cell_type": "code",
   "execution_count": 16,
   "outputs": [
    {
     "name": "stdout",
     "output_type": "stream",
     "text": [
      "07235501\n",
      "NLB072355_01\n",
      "[4, 4, 4, 5, 5, 5, 4, 3, 3, 1, 1, 1, 1, 3, 3, 2, 2, 3, 3, 3, 3, 2, 1, 1, 1, 2, 2, 2, 2, 5, 5, 5, 3, 2, 1, 2, 2, 3, 3, 2, 2, 2, 2, 1, 1, 1]\n",
      "48\n",
      "{(4, 4, 4, 5, 5, 5): [0], (4, 4, 5, 5, 5, 4): [1], (4, 5, 5, 5, 4, 3): [2], (5, 5, 5, 4, 3, 3): [3], (5, 5, 4, 3, 3, 1): [4], (5, 4, 3, 3, 1, 1): [5], (4, 3, 3, 1, 1, 1): [6], (3, 3, 1, 1, 1, 1): [7], (3, 1, 1, 1, 1, 3): [8], (1, 1, 1, 1, 3, 3): [9], (1, 1, 1, 3, 3, 2): [10], (1, 1, 3, 3, 2, 2): [11], (1, 3, 3, 2, 2, 3): [12], (3, 3, 2, 2, 3, 3): [13], (3, 2, 2, 3, 3, 3): [14], (2, 2, 3, 3, 3, 3): [15], (2, 3, 3, 3, 3, 2): [16], (3, 3, 3, 3, 2, 1): [17], (3, 3, 3, 2, 1, 1): [18], (3, 3, 2, 1, 1, 1): [19], (3, 2, 1, 1, 1, 2): [20], (2, 1, 1, 1, 2, 2): [21], (1, 1, 1, 2, 2, 2): [22], (1, 1, 2, 2, 2, 2): [23], (1, 2, 2, 2, 2, 5): [24], (2, 2, 2, 2, 5, 5): [25], (2, 2, 2, 5, 5, 5): [26], (2, 2, 5, 5, 5, 3): [27], (2, 5, 5, 5, 3, 2): [28], (5, 5, 5, 3, 2, 1): [29], (5, 5, 3, 2, 1, 2): [30], (5, 3, 2, 1, 2, 2): [31], (3, 2, 1, 2, 2, 3): [32], (2, 1, 2, 2, 3, 3): [33], (1, 2, 2, 3, 3, 2): [34], (2, 2, 3, 3, 2, 2): [35], (2, 3, 3, 2, 2, 2): [36], (3, 3, 2, 2, 2, 2): [37], (3, 2, 2, 2, 2, 1): [38], (2, 2, 2, 2, 1, 1): [39], (2, 2, 2, 1, 1, 1): [40]}\n",
      "\n",
      "\n",
      "07225501\n",
      "NLB072255_01\n",
      "[5, 1, 1, 3, 5, 5, 5, 6, 6, 6, 5, 5, 5, 1, 2, 3, 3, 3, 2, 1, 3, 1, 5, 5, 5, 1, 2, 2, 2, 2, 2, 3, 5, 5, 5, 3, 3, 1, 5, 5, 5, 4, 4]\n",
      "45\n",
      "{(1, 1, 3, 5, 5, 5): [1], (1, 3, 5, 5, 5, 6): [2], (3, 5, 5, 5, 6, 6): [3], (5, 5, 5, 6, 6, 6): [4], (5, 5, 6, 6, 6, 5): [5], (5, 6, 6, 6, 5, 5): [6], (6, 6, 6, 5, 5, 5): [7], (6, 6, 5, 5, 5, 1): [8], (6, 5, 5, 5, 1, 2): [9], (5, 5, 5, 1, 2, 3): [10], (5, 5, 1, 2, 3, 3): [11], (5, 1, 2, 3, 3, 3): [12], (1, 2, 3, 3, 3, 2): [13], (2, 3, 3, 3, 2, 1): [14], (3, 3, 3, 2, 1, 3): [15], (3, 3, 2, 1, 3, 1): [16], (3, 2, 1, 3, 1, 5): [17], (2, 1, 3, 1, 5, 5): [18], (1, 3, 1, 5, 5, 5): [19], (3, 1, 5, 5, 5, 1): [20], (1, 5, 5, 5, 1, 2): [21], (5, 5, 5, 1, 2, 2): [22], (5, 5, 1, 2, 2, 2): [23], (5, 1, 2, 2, 2, 2): [24], (1, 2, 2, 2, 2, 2): [25], (2, 2, 2, 2, 2, 3): [26], (2, 2, 2, 2, 3, 5): [27], (2, 2, 2, 3, 5, 5): [28], (2, 2, 3, 5, 5, 5): [29], (2, 3, 5, 5, 5, 3): [30], (3, 5, 5, 5, 3, 3): [31], (5, 5, 5, 3, 3, 1): [32], (5, 5, 3, 3, 1, 5): [33], (5, 3, 3, 1, 5, 5): [34], (3, 3, 1, 5, 5, 5): [35], (3, 1, 5, 5, 5, 4): [36], (1, 5, 5, 5, 4, 4): [37]}\n",
      "\n",
      "\n",
      "07630301\n",
      "NLB076303_01\n",
      "[1, 3, 3, 5, 5, 5, 6, 5, 5, 6, 5, 5, 3, 3, 5, 5, 4, 4, 4, 4, 4, 4, 4, 4, 4, 4, 6, 6, 1, 1, 5, 1, 1, 1, 1, 1, 1, 3, 3, 5, 1, 1, 7, 7, 7, 6, 6, 6, 6, 6, 6, 1, 7, 6, 5, 4, 4]\n",
      "59\n",
      "{(1, 3, 3, 5, 5, 5): [0], (3, 3, 5, 5, 5, 6): [1], (3, 5, 5, 5, 6, 5): [2], (5, 5, 5, 6, 5, 5): [3], (5, 5, 6, 5, 5, 6): [4], (5, 6, 5, 5, 6, 5): [5], (6, 5, 5, 6, 5, 5): [6], (5, 5, 6, 5, 5, 3): [7], (5, 6, 5, 5, 3, 3): [8], (6, 5, 5, 3, 3, 5): [9], (5, 5, 3, 3, 5, 5): [10], (5, 3, 3, 5, 5, 4): [11], (3, 3, 5, 5, 4, 4): [12], (3, 5, 5, 4, 4, 4): [13], (5, 5, 4, 4, 4, 4): [14], (5, 4, 4, 4, 4, 4): [15], (4, 4, 4, 4, 4, 4): [16, 17, 18, 19, 20], (4, 4, 4, 4, 4, 6): [21], (4, 4, 4, 4, 6, 6): [22], (4, 4, 4, 6, 6, 1): [23], (1, 1, 5, 1, 1, 1): [28], (1, 5, 1, 1, 1, 1): [29], (5, 1, 1, 1, 1, 1): [30], (1, 1, 1, 1, 1, 1): [31], (1, 1, 1, 1, 1, 3): [32], (1, 1, 1, 1, 3, 3): [33], (1, 1, 1, 3, 3, 5): [34], (1, 1, 3, 3, 5, 1): [35], (1, 3, 3, 5, 1, 1): [36], (3, 3, 5, 1, 1, 7): [37], (3, 5, 1, 1, 7, 7): [38], (5, 1, 1, 7, 7, 7): [39], (1, 1, 7, 7, 7, 6): [40], (1, 7, 7, 7, 6, 6): [41], (7, 7, 7, 6, 6, 6): [42], (7, 7, 6, 6, 6, 6): [43], (7, 6, 6, 6, 6, 6): [44], (6, 6, 6, 6, 6, 6): [45], (6, 6, 6, 6, 6, 1): [46], (6, 6, 6, 6, 1, 7): [47], (6, 6, 6, 1, 7, 6): [48], (6, 6, 1, 7, 6, 5): [49], (6, 1, 7, 6, 5, 4): [50], (1, 7, 6, 5, 4, 4): [51]}\n",
      "\n",
      "\n",
      "07315001\n",
      "NLB073150_01\n",
      "[5, 5, 5, 6, 6, 5, 5, 1, 1, 1, 4, 3, 2, 1, 1, 5, 5, 1, 1, 1, 1, 1, 2, 1, 1, 7, 7, 7, 6, 6, 5, 5, 5, 5, 5, 5, 5, 1, 1, 1, 1, 1, 1, 1, 7, 6, 5, 3, 3, 3, 3, 3, 3, 3, 4, 3, 4, 5, 6, 5, 5, 6, 5, 2, 2, 1]\n",
      "68\n",
      "{(5, 5, 5, 6, 6, 5): [0], (5, 5, 6, 6, 5, 5): [1], (6, 6, 5, 5, 1, 1): [3], (6, 5, 5, 1, 1, 1): [4], (1, 1, 1, 4, 3, 2): [7], (1, 1, 4, 3, 2, 1): [8], (4, 3, 2, 1, 1, 5): [10], (3, 2, 1, 1, 5, 5): [11], (2, 1, 1, 5, 5, 1): [12], (1, 1, 5, 5, 1, 1): [13], (1, 5, 5, 1, 1, 1): [14], (5, 5, 1, 1, 1, 1): [15, 35], (5, 1, 1, 1, 1, 1): [16, 36], (1, 1, 1, 1, 1, 2): [17], (1, 1, 1, 1, 2, 1): [18], (1, 1, 1, 2, 1, 1): [19], (1, 1, 2, 1, 1, 7): [20], (2, 1, 1, 7, 7, 7): [22], (1, 1, 7, 7, 7, 6): [23], (1, 7, 7, 7, 6, 6): [24], (7, 7, 7, 6, 6, 5): [25], (7, 7, 6, 6, 5, 5): [26], (7, 6, 6, 5, 5, 5): [27], (6, 6, 5, 5, 5, 5): [28], (6, 5, 5, 5, 5, 5): [29], (5, 5, 5, 5, 5, 5): [30, 31], (5, 5, 5, 5, 5, 1): [32], (5, 5, 5, 5, 1, 1): [33], (5, 5, 5, 1, 1, 1): [34], (1, 1, 1, 1, 1, 1): [37, 38], (1, 1, 1, 1, 1, 7): [39], (1, 1, 1, 1, 7, 6): [40], (1, 1, 1, 7, 6, 5): [41], (1, 1, 7, 6, 5, 3): [42], (1, 7, 6, 5, 3, 3): [43], (7, 6, 5, 3, 3, 3): [44], (6, 5, 3, 3, 3, 3): [45], (5, 3, 3, 3, 3, 3): [46], (3, 3, 3, 3, 3, 3): [47, 48], (3, 3, 3, 3, 3, 4): [49], (3, 3, 3, 3, 4, 3): [50], (3, 3, 3, 4, 3, 4): [51], (3, 3, 4, 3, 4, 5): [52], (3, 4, 3, 4, 5, 6): [53], (4, 3, 4, 5, 6, 5): [54], (3, 4, 5, 6, 5, 5): [55], (4, 5, 6, 5, 5, 6): [56], (5, 6, 5, 5, 6, 5): [57], (5, 5, 6, 5, 2, 2): [59], (5, 6, 5, 2, 2, 1): [60]}\n",
      "\n",
      "\n",
      "07256701\n",
      "NLB072567_01\n",
      "[5, 6, 7, 1, 5, 5, 6, 5, 5, 6, 5, 5, 1, 3, 4, 5, 6, 6, 5, 4, 4, 3, 5, 5, 5, 6, 7, 1, 1, 1, 2, 2, 2, 3, 5, 5, 4, 3, 2, 1, 3, 3, 2, 6, 7]\n",
      "47\n",
      "{(5, 6, 7, 1, 5, 5): [0], (6, 7, 1, 5, 5, 6): [1], (7, 1, 5, 5, 6, 5): [2], (1, 5, 5, 6, 5, 5): [3], (5, 5, 6, 5, 5, 6): [4], (5, 6, 5, 5, 6, 5): [5], (6, 5, 5, 6, 5, 5): [6], (5, 5, 6, 5, 5, 1): [7], (5, 6, 5, 5, 1, 3): [8], (6, 5, 5, 1, 3, 4): [9], (5, 5, 1, 3, 4, 5): [10], (3, 4, 5, 6, 6, 5): [13], (4, 5, 6, 6, 5, 4): [14], (5, 6, 6, 5, 4, 4): [15], (6, 6, 5, 4, 4, 3): [16], (6, 5, 4, 4, 3, 5): [17], (5, 4, 4, 3, 5, 5): [18], (4, 4, 3, 5, 5, 5): [19], (4, 3, 5, 5, 5, 6): [20], (3, 5, 5, 5, 6, 7): [21], (5, 5, 5, 6, 7, 1): [22], (5, 5, 6, 7, 1, 1): [23], (5, 6, 7, 1, 1, 1): [24], (6, 7, 1, 1, 1, 2): [25], (7, 1, 1, 1, 2, 2): [26], (1, 1, 1, 2, 2, 2): [27], (1, 1, 2, 2, 2, 3): [28], (1, 2, 2, 2, 3, 5): [29], (2, 2, 2, 3, 5, 5): [30], (2, 2, 3, 5, 5, 4): [31], (2, 3, 5, 5, 4, 3): [32], (3, 5, 5, 4, 3, 2): [33], (5, 5, 4, 3, 2, 1): [34], (5, 4, 3, 2, 1, 3): [35], (4, 3, 2, 1, 3, 3): [36], (3, 2, 1, 3, 3, 2): [37], (2, 1, 3, 3, 2, 6): [38], (1, 3, 3, 2, 6, 7): [39]}\n",
      "\n",
      "\n",
      "07329601\n",
      "NLB073296_01\n",
      "[5, 1, 1, 1, 1, 2, 2, 1, 1, 2, 3, 3, 3, 5, 5, 5, 5, 1, 1, 1, 1, 2, 2, 1, 1, 2, 3, 3, 3, 4, 4, 4, 4, 6, 5, 5, 5, 5, 5, 5, 4, 5, 6, 6, 6, 6, 6, 6, 6, 1, 5, 5, 5, 5, 5, 5, 4, 4]\n",
      "60\n",
      "{(5, 1, 1, 1, 1, 2): [0, 16], (1, 1, 1, 1, 2, 2): [1, 17], (1, 1, 1, 2, 2, 1): [2, 18], (1, 1, 2, 2, 1, 1): [3, 19], (1, 2, 2, 1, 1, 2): [4, 20], (2, 2, 1, 1, 2, 3): [5, 21], (2, 1, 1, 2, 3, 3): [6, 22], (1, 1, 2, 3, 3, 3): [7, 23], (1, 2, 3, 3, 3, 5): [8], (2, 3, 3, 3, 5, 5): [9], (3, 3, 3, 5, 5, 5): [10], (3, 3, 5, 5, 5, 5): [11], (3, 5, 5, 5, 5, 1): [12], (5, 5, 5, 5, 1, 1): [13], (5, 5, 5, 1, 1, 1): [14], (5, 5, 1, 1, 1, 1): [15], (1, 2, 3, 3, 3, 4): [24], (2, 3, 3, 3, 4, 4): [25], (3, 3, 3, 4, 4, 4): [26], (3, 3, 4, 4, 4, 4): [27], (4, 4, 6, 5, 5, 5): [31], (4, 6, 5, 5, 5, 5): [32], (6, 5, 5, 5, 5, 5): [33], (5, 5, 5, 5, 5, 5): [34, 50], (5, 5, 5, 5, 5, 4): [35, 51], (5, 5, 5, 5, 4, 5): [36], (5, 5, 5, 4, 5, 6): [37], (5, 5, 4, 5, 6, 6): [38], (5, 4, 5, 6, 6, 6): [39], (4, 5, 6, 6, 6, 6): [40], (5, 6, 6, 6, 6, 6): [41], (6, 6, 6, 6, 6, 6): [42, 43], (6, 6, 6, 6, 6, 1): [44], (6, 6, 1, 5, 5, 5): [47], (6, 1, 5, 5, 5, 5): [48], (1, 5, 5, 5, 5, 5): [49], (5, 5, 5, 5, 4, 4): [52]}\n",
      "\n",
      "\n",
      "07326902\n",
      "NLB073269_02\n",
      "[1, 2, 3, 1, 1, 1, 1, 3, 3, 6, 6, 5, 5, 5, 5, 5, 5, 5, 5, 6, 6, 7, 7, 1, 1, 7, 7, 7, 7, 6, 6, 5, 5, 5, 5, 5, 5, 5, 5, 5, 5, 1, 1, 3, 3, 3, 3, 6, 6, 6, 6, 6, 6, 6, 4, 5, 5, 6, 6, 5, 5, 5, 5, 5, 5, 3, 3, 1, 1, 5, 5, 3, 3, 3, 3, 2, 2, 1, 1, 5, 5, 5, 5, 5, 5, 5, 5, 1, 1, 3, 3, 3, 3, 6, 6, 6, 6, 6, 6, 6, 4, 5, 5, 6, 6, 5, 5, 5, 5, 5, 5, 3, 3, 1, 1, 5, 5, 3, 3, 3, 3, 2, 2, 1]\n",
      "126\n",
      "{(1, 2, 3, 1, 1, 1): [0], (2, 3, 1, 1, 1, 1): [1], (3, 1, 1, 1, 1, 3): [2], (1, 1, 1, 1, 3, 3): [3], (1, 1, 1, 3, 3, 6): [4], (1, 1, 3, 3, 6, 6): [5], (1, 3, 3, 6, 6, 5): [6], (3, 3, 6, 6, 5, 5): [7], (3, 6, 6, 5, 5, 5): [8], (6, 6, 5, 5, 5, 5): [9, 29, 57, 103], (6, 5, 5, 5, 5, 5): [10, 30, 58, 104], (5, 5, 5, 5, 5, 5): [11, 12, 13, 31, 32, 33, 34, 35, 59, 79, 80, 81, 105], (5, 5, 5, 5, 5, 6): [14], (5, 5, 5, 5, 6, 6): [15], (5, 5, 5, 6, 6, 7): [16], (5, 5, 6, 6, 7, 7): [17], (5, 6, 6, 7, 7, 1): [18], (6, 6, 7, 7, 1, 1): [19], (6, 7, 7, 1, 1, 7): [20], (7, 7, 1, 1, 7, 7): [21], (7, 1, 1, 7, 7, 7): [22], (1, 1, 7, 7, 7, 7): [23], (1, 7, 7, 7, 7, 6): [24], (7, 7, 7, 7, 6, 6): [25], (7, 7, 7, 6, 6, 5): [26], (7, 7, 6, 6, 5, 5): [27], (7, 6, 6, 5, 5, 5): [28], (5, 5, 5, 5, 5, 1): [36, 82], (5, 5, 5, 5, 1, 1): [37, 83], (5, 5, 5, 1, 1, 3): [38, 84], (5, 5, 1, 1, 3, 3): [39, 85], (5, 1, 1, 3, 3, 3): [40, 86], (1, 1, 3, 3, 3, 3): [41, 87], (1, 3, 3, 3, 3, 6): [42, 88], (3, 3, 3, 3, 6, 6): [43, 89], (3, 3, 3, 6, 6, 6): [44, 90], (3, 3, 6, 6, 6, 6): [45, 91], (3, 6, 6, 6, 6, 6): [46, 92], (6, 6, 6, 6, 6, 6): [47, 48, 93, 94], (6, 6, 6, 6, 6, 4): [49, 95], (6, 6, 6, 6, 4, 5): [50, 96], (6, 6, 6, 4, 5, 5): [51, 97], (6, 6, 4, 5, 5, 6): [52, 98], (6, 4, 5, 5, 6, 6): [53, 99], (4, 5, 5, 6, 6, 5): [54, 100], (5, 5, 6, 6, 5, 5): [55, 101], (5, 6, 6, 5, 5, 5): [56, 102], (5, 5, 5, 5, 5, 3): [60, 106], (5, 5, 5, 5, 3, 3): [61, 107], (5, 5, 5, 3, 3, 1): [62, 108], (5, 5, 3, 3, 1, 1): [63, 109], (5, 3, 3, 1, 1, 5): [64, 110], (3, 3, 1, 1, 5, 5): [65, 111], (3, 1, 1, 5, 5, 3): [66, 112], (1, 1, 5, 5, 3, 3): [67, 113], (1, 5, 5, 3, 3, 3): [68, 114], (5, 5, 3, 3, 3, 3): [69, 115], (5, 3, 3, 3, 3, 2): [70, 116], (3, 3, 3, 3, 2, 2): [71, 117], (3, 3, 3, 2, 2, 1): [72, 118], (3, 3, 2, 2, 1, 1): [73], (3, 2, 2, 1, 1, 5): [74], (2, 2, 1, 1, 5, 5): [75], (2, 1, 1, 5, 5, 5): [76], (1, 1, 5, 5, 5, 5): [77], (1, 5, 5, 5, 5, 5): [78]}\n",
      "\n",
      "\n",
      "07621101\n",
      "NLB076211_01\n",
      "[1, 4, 3, 3, 2, 5, 6, 6, 5, 3, 1, 1, 4, 4, 4, 4, 4, 4, 3, 3, 2, 5, 6, 6, 5, 3, 1, 1, 5, 5, 5, 5, 5, 5, 5, 5, 5, 5, 1, 1, 1, 7, 7, 6, 5, 4, 4, 4, 4, 4, 4, 4, 4, 5, 4, 4, 4, 5, 5, 2, 2]\n",
      "63\n",
      "{(1, 4, 3, 3, 2, 5): [0], (4, 3, 3, 2, 5, 6): [1, 17], (3, 3, 2, 5, 6, 6): [2, 18], (3, 2, 5, 6, 6, 5): [3, 19], (2, 5, 6, 6, 5, 3): [4, 20], (5, 6, 6, 5, 3, 1): [5, 21], (6, 6, 5, 3, 1, 1): [6, 22], (1, 4, 4, 4, 4, 4): [11], (4, 4, 4, 4, 4, 4): [12, 45, 46, 47], (4, 4, 4, 4, 4, 3): [13], (4, 4, 4, 4, 3, 3): [14], (4, 4, 4, 3, 3, 2): [15], (4, 4, 3, 3, 2, 5): [16], (3, 1, 1, 5, 5, 5): [25], (1, 1, 5, 5, 5, 5): [26], (1, 5, 5, 5, 5, 5): [27], (5, 5, 5, 5, 5, 5): [28, 29, 30, 31, 32], (5, 5, 5, 5, 5, 1): [33], (5, 5, 5, 5, 1, 1): [34], (5, 5, 5, 1, 1, 1): [35], (5, 5, 1, 1, 1, 7): [36], (5, 1, 1, 1, 7, 7): [37], (1, 1, 1, 7, 7, 6): [38], (1, 1, 7, 7, 6, 5): [39], (7, 6, 5, 4, 4, 4): [42], (6, 5, 4, 4, 4, 4): [43], (5, 4, 4, 4, 4, 4): [44], (4, 4, 4, 4, 4, 5): [48], (4, 4, 4, 4, 5, 4): [49], (4, 4, 4, 5, 4, 4): [50], (5, 4, 4, 4, 5, 5): [53], (4, 4, 4, 5, 5, 2): [54], (4, 4, 5, 5, 2, 2): [55]}\n",
      "\n",
      "\n",
      "07235901\n",
      "NLB072359_01\n",
      "[4, 5, 5, 5, 4, 3, 3, 1, 1, 1, 1, 2, 3, 2, 2, 3, 3, 2, 1, 1, 1, 2, 2, 2, 2, 5, 5, 4, 3, 2, 1, 5, 5, 3, 3, 2, 2, 2, 2, 1, 1, 1]\n",
      "44\n",
      "{(4, 5, 5, 5, 4, 3): [0], (5, 5, 5, 4, 3, 3): [1], (5, 5, 4, 3, 3, 1): [2], (5, 4, 3, 3, 1, 1): [3], (4, 3, 3, 1, 1, 1): [4], (3, 3, 1, 1, 1, 1): [5], (3, 1, 1, 1, 1, 2): [6], (1, 1, 1, 1, 2, 3): [7], (1, 1, 1, 2, 3, 2): [8], (1, 1, 2, 3, 2, 2): [9], (1, 2, 3, 2, 2, 3): [10], (2, 3, 2, 2, 3, 3): [11], (3, 2, 2, 3, 3, 2): [12], (2, 2, 3, 3, 2, 1): [13], (2, 3, 3, 2, 1, 1): [14], (3, 3, 2, 1, 1, 1): [15], (3, 2, 1, 1, 1, 2): [16], (2, 1, 1, 1, 2, 2): [17], (1, 1, 1, 2, 2, 2): [18], (1, 1, 2, 2, 2, 2): [19], (1, 2, 2, 2, 2, 5): [20], (2, 2, 2, 2, 5, 5): [21], (2, 2, 2, 5, 5, 4): [22], (2, 2, 5, 5, 4, 3): [23], (2, 5, 5, 4, 3, 2): [24], (5, 5, 4, 3, 2, 1): [25], (5, 4, 3, 2, 1, 5): [26], (4, 3, 2, 1, 5, 5): [27], (3, 2, 1, 5, 5, 3): [28], (2, 1, 5, 5, 3, 3): [29], (1, 5, 5, 3, 3, 2): [30], (5, 5, 3, 3, 2, 2): [31], (5, 3, 3, 2, 2, 2): [32], (3, 3, 2, 2, 2, 2): [33], (3, 2, 2, 2, 2, 1): [34], (2, 2, 2, 2, 1, 1): [35], (2, 2, 2, 1, 1, 1): [36]}\n",
      "\n",
      "\n",
      "07573903\n",
      "NLB075739_03\n",
      "[5, 1, 2, 2, 3, 2, 1, 5, 6, 6, 5, 5, 5, 6, 7, 7, 1, 7, 6, 6, 5, 6, 5, 3, 3, 5, 5, 5, 3, 2, 1, 4, 3, 3, 3, 3, 3, 2, 2, 5, 2, 1, 2, 1, 5, 5, 5, 5, 5, 5, 5, 5, 3, 2, 1, 4, 3, 3, 3, 3, 3, 2, 2, 5, 2, 1, 2]\n",
      "69\n",
      "{(5, 1, 2, 2, 3, 2): [0], (1, 2, 2, 3, 2, 1): [1], (2, 2, 3, 2, 1, 5): [2], (3, 2, 1, 5, 6, 6): [4], (2, 1, 5, 6, 6, 5): [5], (1, 5, 6, 6, 5, 5): [6], (5, 6, 6, 5, 5, 5): [7], (6, 6, 5, 5, 5, 6): [8], (6, 5, 5, 5, 6, 7): [9], (5, 5, 5, 6, 7, 7): [10], (5, 5, 6, 7, 7, 1): [11], (6, 7, 7, 1, 7, 6): [13], (7, 7, 1, 7, 6, 6): [14], (7, 1, 7, 6, 6, 5): [15], (1, 7, 6, 6, 5, 6): [16], (7, 6, 6, 5, 6, 5): [17], (6, 6, 5, 6, 5, 3): [18], (5, 3, 3, 5, 5, 5): [22], (3, 3, 5, 5, 5, 3): [23], (3, 5, 5, 5, 3, 2): [24], (5, 5, 5, 3, 2, 1): [25, 49], (5, 5, 3, 2, 1, 4): [26, 50], (5, 3, 2, 1, 4, 3): [27, 51], (3, 2, 1, 4, 3, 3): [28, 52], (2, 1, 4, 3, 3, 3): [29, 53], (1, 4, 3, 3, 3, 3): [30, 54], (4, 3, 3, 3, 3, 3): [31, 55], (3, 3, 3, 3, 3, 2): [32, 56], (3, 3, 3, 3, 2, 2): [33, 57], (3, 3, 3, 2, 2, 5): [34, 58], (3, 3, 2, 2, 5, 2): [35, 59], (3, 2, 2, 5, 2, 1): [36, 60], (2, 2, 5, 2, 1, 2): [37, 61], (5, 2, 1, 2, 1, 5): [39], (2, 1, 2, 1, 5, 5): [40], (1, 2, 1, 5, 5, 5): [41], (2, 1, 5, 5, 5, 5): [42], (1, 5, 5, 5, 5, 5): [43], (5, 5, 5, 5, 5, 5): [44, 45, 46], (5, 5, 5, 5, 5, 3): [47], (5, 5, 5, 5, 3, 2): [48]}\n",
      "\n",
      "\n"
     ]
    }
   ],
   "source": [
    "# Setup namedtuple:\n",
    "from typing import NamedTuple\n",
    "KG_Data = NamedTuple('KG_Data', [\n",
    "    ('identifiers', str),   #  previously 'id_number'\n",
    "    ('title', str),\n",
    "    # removed ('tune_family', str),\n",
    "    ('feature', str),\n",
    "    ('level', str),\n",
    "    ('n_vals', tuple),\n",
    "    ('duration', int),  # previously 'duration_beats\n",
    "    ('pattern_locations', dict),    # previously 'locations'\n",
    "    ('data', list)  # previously 'feature_sequence_data'\n",
    "])\n",
    "\n",
    "for tune_id_num in list(id_dict)[:10]:\n",
    "    print(tune_id_num)\n",
    "    print(id_dict[tune_id_num])\n",
    "    # print(tune_fam_annotation_numeric[tune_id_num])\n",
    "    print(feat_seq_data[tune_id_num])\n",
    "    print(tune_lengths[tune_id_num])\n",
    "    print(res[tune_id_num])\n",
    "    print('\\n')\n",
    "\n",
    "\n",
    "\n",
    "\n",
    "\n"
   ],
   "metadata": {
    "collapsed": false,
    "pycharm": {
     "name": "#%%\n"
    }
   }
  },
  {
   "cell_type": "code",
   "execution_count": 17,
   "outputs": [
    {
     "name": "stdout",
     "output_type": "stream",
     "text": [
      "KG_Data(identifiers='07235501', title='NLB072355_01', feature='diatonic scale degree', level='(duration-weighted) note', n_vals=(4, 5, 6), duration=48, pattern_locations={(4, 4, 4, 5, 5, 5): [0], (4, 4, 5, 5, 5, 4): [1], (4, 5, 5, 5, 4, 3): [2], (5, 5, 5, 4, 3, 3): [3], (5, 5, 4, 3, 3, 1): [4], (5, 4, 3, 3, 1, 1): [5], (4, 3, 3, 1, 1, 1): [6], (3, 3, 1, 1, 1, 1): [7], (3, 1, 1, 1, 1, 3): [8], (1, 1, 1, 1, 3, 3): [9], (1, 1, 1, 3, 3, 2): [10], (1, 1, 3, 3, 2, 2): [11], (1, 3, 3, 2, 2, 3): [12], (3, 3, 2, 2, 3, 3): [13], (3, 2, 2, 3, 3, 3): [14], (2, 2, 3, 3, 3, 3): [15], (2, 3, 3, 3, 3, 2): [16], (3, 3, 3, 3, 2, 1): [17], (3, 3, 3, 2, 1, 1): [18], (3, 3, 2, 1, 1, 1): [19], (3, 2, 1, 1, 1, 2): [20], (2, 1, 1, 1, 2, 2): [21], (1, 1, 1, 2, 2, 2): [22], (1, 1, 2, 2, 2, 2): [23], (1, 2, 2, 2, 2, 5): [24], (2, 2, 2, 2, 5, 5): [25], (2, 2, 2, 5, 5, 5): [26], (2, 2, 5, 5, 5, 3): [27], (2, 5, 5, 5, 3, 2): [28], (5, 5, 5, 3, 2, 1): [29], (5, 5, 3, 2, 1, 2): [30], (5, 3, 2, 1, 2, 2): [31], (3, 2, 1, 2, 2, 3): [32], (2, 1, 2, 2, 3, 3): [33], (1, 2, 2, 3, 3, 2): [34], (2, 2, 3, 3, 2, 2): [35], (2, 3, 3, 2, 2, 2): [36], (3, 3, 2, 2, 2, 2): [37], (3, 2, 2, 2, 2, 1): [38], (2, 2, 2, 2, 1, 1): [39], (2, 2, 2, 1, 1, 1): [40]}, data=[4, 4, 4, 5, 5, 5, 4, 3, 3, 1, 1, 1, 1, 3, 3, 2, 2, 3, 3, 3, 3, 2, 1, 1, 1, 2, 2, 2, 2, 5, 5, 5, 3, 2, 1, 2, 2, 3, 3, 2, 2, 2, 2, 1, 1, 1])\n",
      "360\n"
     ]
    }
   ],
   "source": [
    "# populate output class instances\n",
    "\n",
    "output = []\n",
    "# for tune_id_num in id_dict:\n",
    "#     tune_data = KG_Data(id_number= tune_id_num, tune_title=id_dict[tune_id_num], tune_family=tune_fam_annotation_numeric[tune_id_num], feature='diatonic scale degree', level='accent', feature_sequence_data=feat_seq_data[tune_id_num], n_vals=(4, 5, 6), duration=duration_beats[tune_id_num], locations=res[tune_id_num])\n",
    "#     output.append(tune_data)\n",
    "\n",
    "for tune_id_num in id_dict:\n",
    "    tune_data = KG_Data(identifiers= tune_id_num, title=id_dict[tune_id_num], feature='diatonic scale degree', level='(duration-weighted) note', data=feat_seq_data[tune_id_num], n_vals=(4, 5, 6), duration=tune_lengths[tune_id_num], pattern_locations=res[tune_id_num])\n",
    "    output.append(tune_data)\n",
    "\n",
    "print(output[0])\n",
    "print(len(output))"
   ],
   "metadata": {
    "collapsed": false,
    "pycharm": {
     "name": "#%%\n"
    }
   }
  },
  {
   "cell_type": "code",
   "execution_count": 18,
   "outputs": [],
   "source": [
    "# # slice output & write to disc\n",
    "# sample_output = output[:200]\n",
    "# print(len(sample_output))\n",
    "# print(sample_output[0])\n",
    "\n",
    "# # write sample output\n",
    "# sample_output_filename = 'thesession_kg_data.pkl'\n",
    "# sample_output_path =  '/Users/dannydiamond/Desktop/' + sample_output_filename\n",
    "# with open(sample_output_path, 'wb') as f_out:\n",
    "#     pickle.dump(sample_output, f_out)"
   ],
   "metadata": {
    "collapsed": false,
    "pycharm": {
     "name": "#%%\n"
    }
   }
  },
  {
   "cell_type": "code",
   "execution_count": 19,
   "outputs": [],
   "source": [
    "# write output\n",
    "output_filename = 'mtc_kg_data_6.pkl'\n",
    "locations_output_path = locations_dir + '/' + output_filename\n",
    "with open(locations_output_path, 'wb') as f_out:\n",
    "    pickle.dump(output, f_out)\n"
   ],
   "metadata": {
    "collapsed": false,
    "pycharm": {
     "name": "#%%\n"
    }
   }
  },
  {
   "cell_type": "code",
   "execution_count": null,
   "outputs": [],
   "source": [],
   "metadata": {
    "collapsed": false,
    "pycharm": {
     "name": "#%%\n"
    }
   }
  }
 ],
 "metadata": {
  "kernelspec": {
   "display_name": "Python 3",
   "language": "python",
   "name": "python3"
  },
  "language_info": {
   "codemirror_mode": {
    "name": "ipython",
    "version": 2
   },
   "file_extension": ".py",
   "mimetype": "text/x-python",
   "name": "python",
   "nbconvert_exporter": "python",
   "pygments_lexer": "ipython2",
   "version": "2.7.6"
  }
 },
 "nbformat": 4,
 "nbformat_minor": 0
}