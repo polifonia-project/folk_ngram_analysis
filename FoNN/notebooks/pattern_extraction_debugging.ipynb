{
 "cells": [
  {
   "cell_type": "code",
   "execution_count": 1,
   "outputs": [],
   "source": [
    "# imports\n",
    "from FoNN.pattern_extraction import NgramPatternCorpus"
   ],
   "metadata": {
    "collapsed": false,
    "pycharm": {
     "name": "#%%\n"
    }
   }
  },
  {
   "cell_type": "code",
   "execution_count": 2,
   "outputs": [],
   "source": [
    "# TODO: fix issue with pattern extraction @ accent-level"
   ],
   "metadata": {
    "collapsed": false,
    "pycharm": {
     "name": "#%%\n"
    }
   }
  },
  {
   "cell_type": "markdown",
   "source": [],
   "metadata": {
    "collapsed": false,
    "pycharm": {
     "name": "#%% md\n"
    }
   }
  },
  {
   "cell_type": "code",
   "execution_count": 3,
   "outputs": [
    {
     "name": "stdout",
     "output_type": "stream",
     "text": [
      "Reading input data...\n"
     ]
    },
    {
     "ename": "TypeError",
     "evalue": "unhashable type: 'slice'",
     "output_type": "error",
     "traceback": [
      "\u001B[0;31m---------------------------------------------------------------------------\u001B[0m",
      "\u001B[0;31mTypeError\u001B[0m                                 Traceback (most recent call last)",
      "\u001B[0;32m/var/folders/f2/nfhj736110sdghjsb6m_97q80000gn/T/ipykernel_8710/3726698009.py\u001B[0m in \u001B[0;36m<module>\u001B[0;34m\u001B[0m\n\u001B[1;32m      4\u001B[0m \u001B[0mtest_path\u001B[0m \u001B[0;34m=\u001B[0m \u001B[0;34m'/Users/dannydiamond/NUIG/Polifonia/neuma/cdc_feat_seq_corpus/feat_seq_accents'\u001B[0m\u001B[0;34m\u001B[0m\u001B[0;34m\u001B[0m\u001B[0m\n\u001B[1;32m      5\u001B[0m \u001B[0mtest_outpath\u001B[0m \u001B[0;34m=\u001B[0m \u001B[0;34m'//Users/dannydiamond/NUIG/Polifonia/neuma/cdc_feat_seq_corpus/acc_pattern_corpus/'\u001B[0m\u001B[0;34m\u001B[0m\u001B[0;34m\u001B[0m\u001B[0m\n\u001B[0;32m----> 6\u001B[0;31m \u001B[0mtest_corpus\u001B[0m \u001B[0;34m=\u001B[0m \u001B[0mNgramPatternCorpus\u001B[0m\u001B[0;34m(\u001B[0m\u001B[0min_dir\u001B[0m\u001B[0;34m=\u001B[0m\u001B[0mtest_path\u001B[0m\u001B[0;34m,\u001B[0m \u001B[0mout_dir\u001B[0m\u001B[0;34m=\u001B[0m\u001B[0mtest_outpath\u001B[0m\u001B[0;34m,\u001B[0m \u001B[0mfeature\u001B[0m\u001B[0;34m=\u001B[0m\u001B[0;34m'diatonic_scale_degree'\u001B[0m\u001B[0;34m)\u001B[0m\u001B[0;34m\u001B[0m\u001B[0;34m\u001B[0m\u001B[0m\n\u001B[0m",
      "\u001B[0;32m~/NUIG/Polifonia/repo/folk_ngram_analysis/folk_ngram_analysis/FoNN/pattern_extraction.py\u001B[0m in \u001B[0;36m__init__\u001B[0;34m(self, feature, in_dir, out_dir)\u001B[0m\n\u001B[1;32m     36\u001B[0m         \u001B[0;32massert\u001B[0m \u001B[0mos\u001B[0m\u001B[0;34m.\u001B[0m\u001B[0mpath\u001B[0m\u001B[0;34m.\u001B[0m\u001B[0misdir\u001B[0m\u001B[0;34m(\u001B[0m\u001B[0mout_dir\u001B[0m\u001B[0;34m)\u001B[0m\u001B[0;34m\u001B[0m\u001B[0;34m\u001B[0m\u001B[0m\n\u001B[1;32m     37\u001B[0m         \u001B[0mself\u001B[0m\u001B[0;34m.\u001B[0m\u001B[0mout_dir\u001B[0m \u001B[0;34m=\u001B[0m \u001B[0mout_dir\u001B[0m\u001B[0;34m\u001B[0m\u001B[0;34m\u001B[0m\u001B[0m\n\u001B[0;32m---> 38\u001B[0;31m         \u001B[0mself\u001B[0m\u001B[0;34m.\u001B[0m\u001B[0mdata\u001B[0m \u001B[0;34m=\u001B[0m \u001B[0mself\u001B[0m\u001B[0;34m.\u001B[0m\u001B[0mcheck_data_for_null_entries\u001B[0m\u001B[0;34m(\u001B[0m\u001B[0mself\u001B[0m\u001B[0;34m.\u001B[0m\u001B[0mread_input_data\u001B[0m\u001B[0;34m(\u001B[0m\u001B[0;34m)\u001B[0m\u001B[0;34m)\u001B[0m\u001B[0;34m\u001B[0m\u001B[0;34m\u001B[0m\u001B[0m\n\u001B[0m\u001B[1;32m     39\u001B[0m         \u001B[0mself\u001B[0m\u001B[0;34m.\u001B[0m\u001B[0mtitles\u001B[0m \u001B[0;34m=\u001B[0m \u001B[0mlist\u001B[0m\u001B[0;34m(\u001B[0m\u001B[0mself\u001B[0m\u001B[0;34m.\u001B[0m\u001B[0mdata\u001B[0m\u001B[0;34m)\u001B[0m\u001B[0;34m\u001B[0m\u001B[0;34m\u001B[0m\u001B[0m\n\u001B[1;32m     40\u001B[0m         \u001B[0mself\u001B[0m\u001B[0;34m.\u001B[0m\u001B[0mpatterns\u001B[0m \u001B[0;34m=\u001B[0m \u001B[0;32mNone\u001B[0m\u001B[0;34m\u001B[0m\u001B[0;34m\u001B[0m\u001B[0m\n",
      "\u001B[0;32m~/NUIG/Polifonia/repo/folk_ngram_analysis/folk_ngram_analysis/FoNN/pattern_extraction.py\u001B[0m in \u001B[0;36mread_input_data\u001B[0;34m(self)\u001B[0m\n\u001B[1;32m     75\u001B[0m \u001B[0;34m\u001B[0m\u001B[0m\n\u001B[1;32m     76\u001B[0m         \u001B[0mdata\u001B[0m \u001B[0;34m=\u001B[0m \u001B[0mdict\u001B[0m\u001B[0;34m(\u001B[0m\u001B[0mzip\u001B[0m\u001B[0;34m(\u001B[0m\u001B[0mtitles\u001B[0m\u001B[0;34m,\u001B[0m \u001B[0;34m[\u001B[0m\u001B[0mi\u001B[0m\u001B[0;34m.\u001B[0m\u001B[0mtolist\u001B[0m\u001B[0;34m(\u001B[0m\u001B[0;34m)\u001B[0m \u001B[0;32mfor\u001B[0m \u001B[0mi\u001B[0m \u001B[0;32min\u001B[0m \u001B[0minput_data\u001B[0m\u001B[0;34m]\u001B[0m\u001B[0;34m)\u001B[0m\u001B[0;34m)\u001B[0m\u001B[0;34m\u001B[0m\u001B[0;34m\u001B[0m\u001B[0m\n\u001B[0;32m---> 77\u001B[0;31m         \u001B[0mprint\u001B[0m\u001B[0;34m(\u001B[0m\u001B[0mdata\u001B[0m\u001B[0;34m[\u001B[0m\u001B[0;34m:\u001B[0m\u001B[0;36m2\u001B[0m\u001B[0;34m]\u001B[0m\u001B[0;34m)\u001B[0m\u001B[0;34m\u001B[0m\u001B[0;34m\u001B[0m\u001B[0m\n\u001B[0m\u001B[1;32m     78\u001B[0m         \u001B[0;32mreturn\u001B[0m \u001B[0mdata\u001B[0m\u001B[0;34m\u001B[0m\u001B[0;34m\u001B[0m\u001B[0m\n\u001B[1;32m     79\u001B[0m \u001B[0;34m\u001B[0m\u001B[0m\n",
      "\u001B[0;31mTypeError\u001B[0m: unhashable type: 'slice'"
     ]
    }
   ],
   "source": [
    "# TODO: Re-index input data at accent level\n",
    "\n",
    "# Test:\n",
    "test_path = '/Users/dannydiamond/NUIG/Polifonia/neuma/cdc_feat_seq_corpus/feat_seq_accents'\n",
    "test_outpath = '//Users/dannydiamond/NUIG/Polifonia/neuma/cdc_feat_seq_corpus/acc_pattern_corpus/'\n",
    "test_corpus = NgramPatternCorpus(in_dir=test_path, out_dir=test_outpath, feature='diatonic_scale_degree')"
   ],
   "metadata": {
    "collapsed": false,
    "pycharm": {
     "name": "#%%\n"
    }
   }
  },
  {
   "cell_type": "code",
   "execution_count": 13,
   "outputs": [
    {
     "name": "stdout",
     "output_type": "stream",
     "text": [
      "0 5\n",
      "1 5\n",
      "2 3\n",
      "3 5\n",
      "4 5\n",
      "5 5\n",
      "6 5\n",
      "7 5\n",
      "8 5\n",
      "9 5\n",
      "10 3\n",
      "11 5\n",
      "12 5\n",
      "13 1\n",
      "14 4\n",
      "15 3\n",
      "16 5\n",
      "17 4\n",
      "18 3\n",
      "19 2\n",
      "20 5\n",
      "21 2\n",
      "22 5\n",
      "23 5\n",
      "24 5\n",
      "25 5\n",
      "26 5\n",
      "27 3\n",
      "28 5\n",
      "29 5\n",
      "30 3\n",
      "31 1\n",
      "32 5\n",
      "33 1\n",
      "34 3\n",
      "35 5\n",
      "36 5\n",
      "37 5\n",
      "38 5\n",
      "39 1\n",
      "40 2\n",
      "41 2\n",
      "42 5\n",
      "43 5\n",
      "44 2\n",
      "45 2\n",
      "46 5\n",
      "47 5\n",
      "48 3\n",
      "49 3\n",
      "50 5\n",
      "51 1\n",
      "52 1\n",
      "53 3\n",
      "54 3\n",
      "55 1\n",
      "56 5\n",
      "57 5\n",
      "58 4\n",
      "59 3\n",
      "60 4\n",
      "61 2\n",
      "62 5\n",
      "63 5\n",
      "64 7\n",
      "65 7\n",
      "66 6\n",
      "67 2\n",
      "68 5\n",
      "69 5\n",
      "70 3\n",
      "71 5\n",
      "72 5\n",
      "73 5\n",
      "74 5\n",
      "75 5\n",
      "76 5\n",
      "77 5\n",
      "78 3\n",
      "79 5\n",
      "80 7\n",
      "81 1\n",
      "82 3\n",
      "83 5\n",
      "84 4\n",
      "85 3\n",
      "86 2\n",
      "87 5\n",
      "88 2\n",
      "89 5\n",
      "90 5\n",
      "91 5\n",
      "92 5\n",
      "93 5\n",
      "94 5\n",
      "95 5\n",
      "96 2\n",
      "97 2\n",
      "98 2\n",
      "99 3\n",
      "100 5\n",
      "101 5\n",
      "102 5\n",
      "103 5\n",
      "104 4\n",
      "105 4\n",
      "106 6\n",
      "107 2\n",
      "108 4\n",
      "109 3\n",
      "110 6\n",
      "111 2\n",
      "112 6\n",
      "113 3\n",
      "114 1\n",
      "115 2\n",
      "116 1\n",
      "117 3\n",
      "118 1\n",
      "119 4\n",
      "120 7\n",
      "121 5\n",
      "122 3\n",
      "123 3\n",
      "124 3\n",
      "125 3\n",
      "126 1\n"
     ]
    }
   ],
   "source": [
    "# re-index input data\n",
    "test_tune = list(test_corpus.data.values())[1]\n",
    "for i, val in enumerate(test_tune):\n",
    "    print(i, val)"
   ],
   "metadata": {
    "collapsed": false,
    "pycharm": {
     "name": "#%%\n"
    }
   }
  },
  {
   "cell_type": "code",
   "execution_count": 14,
   "outputs": [],
   "source": [
    "# try running pattern extraction\n",
    "\n",
    "# save tune titles to 'titles' attr and write to file\n",
    "test_corpus.save_tune_titles_to_file()\n",
    "# extract n-gram patterns; populate pattern freq corpus, save both to file\n",
    "test_corpus.create_pattern_frequency_matrix()"
   ],
   "metadata": {
    "collapsed": false,
    "pycharm": {
     "name": "#%%\n"
    }
   }
  },
  {
   "cell_type": "code",
   "execution_count": 15,
   "outputs": [
    {
     "name": "stdout",
     "output_type": "stream",
     "text": [
      "False\n"
     ]
    }
   ],
   "source": [
    "# check n-gram patterns for duplicates:\n",
    "patterns_hashable = [tuple(p) for p in test_corpus.patterns]\n",
    "print(len(test_corpus.patterns) == len(set(patterns_hashable)))"
   ],
   "metadata": {
    "collapsed": false,
    "pycharm": {
     "name": "#%%\n"
    }
   }
  },
  {
   "cell_type": "code",
   "execution_count": null,
   "outputs": [],
   "source": [],
   "metadata": {
    "collapsed": false,
    "pycharm": {
     "name": "#%%\n"
    }
   }
  }
 ],
 "metadata": {
  "kernelspec": {
   "display_name": "Python 3",
   "language": "python",
   "name": "python3"
  },
  "language_info": {
   "codemirror_mode": {
    "name": "ipython",
    "version": 2
   },
   "file_extension": ".py",
   "mimetype": "text/x-python",
   "name": "python",
   "nbconvert_exporter": "python",
   "pygments_lexer": "ipython2",
   "version": "2.7.6"
  }
 },
 "nbformat": 4,
 "nbformat_minor": 0
}