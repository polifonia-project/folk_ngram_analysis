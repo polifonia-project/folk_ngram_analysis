{
 "cells": [
  {
   "cell_type": "code",
   "execution_count": 1,
   "metadata": {
    "pycharm": {
     "name": "#%%\n"
    }
   },
   "outputs": [
    {
     "name": "stdout",
     "output_type": "stream",
     "text": [
      "\n",
      "Setting up lookup table for root assignment:\n",
      "  note names  midi num  root num\n",
      "0          C        60         0\n",
      "1   C# or D-        61         1\n",
      "2          D        62         2\n",
      "3   D# or E-        63         3\n",
      "4          E        64         4 \n",
      "\n",
      "\n",
      "\n",
      "Setting up Music21 root detection lookup table:\n",
      "  note name  pitch class\n",
      "0         C          0.0\n",
      "1        C#          1.0\n",
      "2        D-          1.0\n",
      "3         D          2.0\n",
      "4        D#          3.0 \n",
      "\n",
      "\n"
     ]
    }
   ],
   "source": [
    "from corpus_processing_tools import Corpus, Tune"
   ]
  },
  {
   "cell_type": "markdown",
   "metadata": {
    "pycharm": {
     "name": "#%% md\n"
    }
   },
   "source": [
    "Test ingest of single MIDI file"
   ]
  },
  {
   "cell_type": "code",
   "execution_count": null,
   "metadata": {
    "pycharm": {
     "name": "#%%\n"
    }
   },
   "outputs": [],
   "source": [
    "in_path = '/Users/dannydiamond/NUIG/Polifonia/thesession/testing/MIDI_revised100'\n",
    "in_file = '1stAugust935.mid'\n",
    "\n",
    "# FULL TUNE INGEST TEST for midi data\n",
    "test_tune = Tune(in_path + '/' + in_file)\n",
    "print(test_tune.title)\n",
    "test_tune.extract_root()\n",
    "test_tune.create_feature_sequences(level='note')\n",
    "print(\"Note-level data:\")\n",
    "print(test_tune.feat_seq.head())\n",
    "test_tune.feat_seq.to_csv(f'/Users/dannydiamond/NUIG/Polifonia/thesession/testing/feat_seq_csvs/{in_file[:-4]}.csv')"
   ]
  },
  {
   "cell_type": "markdown",
   "metadata": {
    "pycharm": {
     "name": "#%% md\n"
    }
   },
   "source": [
    "Run ingest on test corpus containing subset of TheSession material:"
   ]
  },
  {
   "cell_type": "code",
   "execution_count": null,
   "metadata": {
    "pycharm": {
     "name": "#%%\n"
    }
   },
   "outputs": [],
   "source": [
    "# In-path for corpus:\n",
    "in_path = '/Users/dannydiamond/NUIG/Polifonia/thesession/testing/MIDI5k'\n",
    "# Setup external midi corpus and read all files to music21 streams:\n",
    "corpus = Corpus(in_path)\n",
    "corpus.setup_corpus_iteratively()\n",
    "# corpus.read_all_midi_files_to_music21()\n",
    "# corpus.filter_empty_scores()\n",
    "# corpus.extract_roots()\n"
   ]
  },
  {
   "cell_type": "code",
   "execution_count": null,
   "metadata": {
    "pycharm": {
     "name": "#%%\n"
    }
   },
   "outputs": [],
   "source": [
    "# Convert note-level scores to feature sequences:\n",
    "corpus.convert_scores_to_feat_seqs(level='note')"
   ]
  },
  {
   "cell_type": "code",
   "execution_count": null,
   "metadata": {
    "pycharm": {
     "name": "#%%\n"
    }
   },
   "outputs": [],
   "source": [
    "# Print sample note-level output:\n",
    "print(corpus.tunes[0].title)\n",
    "print(corpus.tunes[0].feat_seq.head())\n"
   ]
  },
  {
   "cell_type": "code",
   "execution_count": null,
   "metadata": {
    "pycharm": {
     "name": "#%%\n"
    }
   },
   "outputs": [],
   "source": [
    "# Extract roots for all tunes in corpus, print output:\n",
    "corpus.extract_roots()\n",
    "corpus.del_scores()\n",
    "# for tune in corpus.tunes:\n",
    "#     print(f\"{tune.title} -- diatonic: {tune.diatonic_root} | chromatic: {tune.chromatic_root}\")"
   ]
  },
  {
   "cell_type": "code",
   "execution_count": null,
   "metadata": {
    "pycharm": {
     "name": "#%%\n"
    }
   },
   "outputs": [],
   "source": [
    "# Toggle this cell to include/exclude anacruses\n",
    "\n",
    "# Add bar count and strip anacruses\n",
    "corpus.add_bar_numbers()\n",
    "corpus.strip_anacruses()\n",
    "# Print sample output:\n",
    "print(corpus.tunes[0].title)\n",
    "print(corpus.tunes[0].feat_seq.head())\n",
    "print(corpus.tunes[0].feat_seq_accents.head())"
   ]
  },
  {
   "cell_type": "code",
   "execution_count": null,
   "metadata": {
    "pycharm": {
     "name": "#%%\n"
    }
   },
   "outputs": [],
   "source": [
    "# Add relative chromatic & diatonic pitch:\n",
    "corpus.calc_relative_chromatic_pitch_seqs()\n",
    "corpus.calc_relative_diatonic_pitch_seqs()\n",
    "# Print sample note-level output:\n",
    "print(corpus.tunes[0].title)\n",
    "print(corpus.tunes[0].feat_seq.head())"
   ]
  },
  {
   "cell_type": "code",
   "execution_count": null,
   "metadata": {
    "pycharm": {
     "name": "#%%\n"
    }
   },
   "outputs": [],
   "source": [
    "# Add chromatic & diatonic scale degrees:\n",
    "corpus.calc_chromatic_scale_degree_seqs()\n",
    "corpus.calc_diatonic_scale_degree_seqs()\n",
    "# Print sample note-level output:\n",
    "print(corpus.tunes[0].title)\n",
    "print(corpus.tunes[0].feat_seq.head())"
   ]
  },
  {
   "cell_type": "code",
   "execution_count": null,
   "metadata": {
    "pycharm": {
     "name": "#%%\n"
    }
   },
   "outputs": [],
   "source": [
    "# Add chromatic & diatonic intervals:\n",
    "corpus.calc_chromatic_intervals()\n",
    "corpus.calc_diatonic_intervals()\n",
    "# Print sample note-level output:\n",
    "print(corpus.tunes[0].title)\n",
    "print(corpus.tunes[0].feat_seq.head())"
   ]
  },
  {
   "cell_type": "code",
   "execution_count": null,
   "metadata": {
    "pycharm": {
     "name": "#%%\n"
    }
   },
   "outputs": [],
   "source": [
    "# Generate accent-level sequences\n",
    "corpus.filter_feat_seq_accents(by='velocity', thresh=80)\n",
    "# Print sample accent-level output:\n",
    "print(corpus.tunes[0].title)\n",
    "print(corpus.tunes[0].feat_seq_accents.head())"
   ]
  },
  {
   "cell_type": "code",
   "execution_count": null,
   "metadata": {
    "pycharm": {
     "name": "#%%\n"
    }
   },
   "outputs": [],
   "source": [
    "# Add Parsons code (simple contour)\n",
    "corpus.calc_parsons_codes()\n",
    "# Print sample note-level output:\n",
    "print(\"Note-level output\\n\")\n",
    "print(corpus.tunes[0].title)\n",
    "print(corpus.tunes[0].feat_seq.head())\n",
    "# Print sample accent-level output:\n",
    "print(\"\\nAccent-level output\\n\")\n",
    "print(corpus.tunes[0].title)\n",
    "print(corpus.tunes[0].feat_seq_accents.head())\n"
   ]
  },
  {
   "cell_type": "code",
   "execution_count": null,
   "metadata": {
    "pycharm": {
     "name": "#%%\n"
    }
   },
   "outputs": [],
   "source": [
    "# Duration-weight the note-level data:\n",
    "\n",
    "features = [col for col in corpus.tunes[0].feat_seq.columns]\n",
    "features.remove('duration')\n",
    "print(features)\n",
    "corpus.calc_duration_weighted_feat_seqs(level='note',features=features)"
   ]
  },
  {
   "cell_type": "code",
   "execution_count": null,
   "metadata": {
    "pycharm": {
     "name": "#%%\n"
    }
   },
   "outputs": [],
   "source": [
    "# The above steps give us a complete feature sequence corpus with all features, labels, etc up-to-date as per Oct 2022.\n",
    "\n",
    "# write outputs to file:\n",
    "corpus.csv_outpath = '//Users/dannydiamond/NUIG/Polifonia/thesession/testing/feat_seq_corpus5k'\n",
    "corpus.save_feat_seq_data_to_csv()\n",
    "\n",
    "# remember to repeat with and without anacruses"
   ]
  },
  {
   "cell_type": "code",
   "execution_count": null,
   "metadata": {
    "pycharm": {
     "name": "#%%\n"
    }
   },
   "outputs": [],
   "source": []
  },
  {
   "cell_type": "markdown",
   "metadata": {
    "pycharm": {
     "name": "#%% md\n"
    }
   },
   "source": []
  }
 ],
 "metadata": {
  "kernelspec": {
   "display_name": "Python 3 (ipykernel)",
   "language": "python",
   "name": "python3"
  },
  "language_info": {
   "codemirror_mode": {
    "name": "ipython",
    "version": 3
   },
   "file_extension": ".py",
   "mimetype": "text/x-python",
   "name": "python",
   "nbconvert_exporter": "python",
   "pygments_lexer": "ipython3",
   "version": "3.8.7"
  }
 },
 "nbformat": 4,
 "nbformat_minor": 1
}