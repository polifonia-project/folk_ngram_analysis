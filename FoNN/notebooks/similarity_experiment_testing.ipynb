{
 "cells": [
  {
   "cell_type": "code",
   "execution_count": 4,
   "outputs": [],
   "source": [
    "import pandas as pd\n",
    "\n",
    "from FoNN.similarity_search_dev import PatternSimilarity"
   ],
   "metadata": {
    "collapsed": false,
    "pycharm": {
     "name": "#%%\n"
    }
   }
  },
  {
   "cell_type": "code",
   "execution_count": null,
   "outputs": [],
   "source": [
    "# set up class instance:\n",
    "print('Initializing experimental instance...')\n",
    "inpath = '/Users/dannydiamond/NUIG/Polifonia/thesession/3_7gram_pattern_corpus/pitch_class_accent_ngrams.pkl'\n",
    "similarity_experiment = PatternSimilarity(inpath)\n",
    "similarity_experiment.calculate_tune_lengths(feat_seq_path='/Users/dannydiamond/NUIG/Polifonia/thesession/feat_seq_corpus/feat_seq_accents')\n",
    "print(\"Experiment successfully initialized.\")"
   ],
   "metadata": {
    "collapsed": false,
    "pycharm": {
     "name": "#%%\n"
    }
   }
  },
  {
   "cell_type": "code",
   "execution_count": null,
   "outputs": [],
   "source": [
    "tune = 'LordMcDonalds507'\n",
    "\n",
    "modes = ['idx', 'max']  # defines experimental parameters: alternative 'idx' (index) and 'max' (maximum tf-idf) pattern extraction methods.\n",
    "norm = {True: 'norm', False: 'raw'}  # defines parameters and labelling: allowing output of both normalized and raw experimental results\n",
    "\n",
    "# set resutlts root path:\n",
    "results_root_dir = f\"/Users/dannydiamond/NUIG/Polifonia/thesession/similarity_results/testing/{tune}\"\n",
    "# extract pattern data for candidate tune:\n",
    "similarity_experiment.extract_candidate_tune(title=tune, n=6)\n",
    "\n",
    "for m in modes:\n",
    "    # set results root dir path\n",
    "    similarity_experiment.pattern_results_path = f\"{results_root_dir}/{tune}/patterns/{m}/\"\n",
    "    # extract search term patterns from candidate tune ; use these to find similar patterns across the corpus\n",
    "    similarity_experiment.extract_candidate_patterns(title=tune, mode=m, indices=[0])\n",
    "    similarity_experiment.find_similar_patterns(edit_dist_threshold=1)\n",
    "    for n in norm.items():\n",
    "        # set tune similarity results outpaths:\n",
    "        out_path = f\"{results_root_dir}/{tune}/results/fonn/{m}/{n[1]}\"\n",
    "        similarity_experiment.presence_results_path = similarity_experiment.freq_count_results_path = out_path\n",
    "        print(similarity_experiment.presence_results_path)\n",
    "        # run tune similarity experiment:\n",
    "        similarity_experiment.find_similar_tunes()\n",
    "        similarity_experiment.calc_pattern_presence_results(normalize=n[0])\n",
    "        similarity_experiment.calc_freq_count_results(normalize=n[0])"
   ],
   "metadata": {
    "collapsed": false,
    "pycharm": {
     "name": "#%%\n"
    }
   }
  },
  {
   "cell_type": "code",
   "execution_count": null,
   "outputs": [],
   "source": [],
   "metadata": {
    "collapsed": false,
    "pycharm": {
     "name": "#%%\n"
    }
   }
  }
 ],
 "metadata": {
  "kernelspec": {
   "display_name": "Python 3",
   "language": "python",
   "name": "python3"
  },
  "language_info": {
   "codemirror_mode": {
    "name": "ipython",
    "version": 2
   },
   "file_extension": ".py",
   "mimetype": "text/x-python",
   "name": "python",
   "nbconvert_exporter": "python",
   "pygments_lexer": "ipython2",
   "version": "2.7.6"
  }
 },
 "nbformat": 4,
 "nbformat_minor": 0
}