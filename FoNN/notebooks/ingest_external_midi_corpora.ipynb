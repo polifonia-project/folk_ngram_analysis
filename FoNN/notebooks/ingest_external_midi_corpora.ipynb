{
 "cells": [
  {
   "cell_type": "markdown",
   "source": [
    "Test ingest of MIDI file (without initial ABC-to-MIDI preprocessing step)"
   ],
   "metadata": {
    "collapsed": false,
    "pycharm": {
     "name": "#%% md\n"
    }
   }
  },
  {
   "cell_type": "code",
   "execution_count": 1,
   "outputs": [
    {
     "name": "stdout",
     "output_type": "stream",
     "text": [
      "\n",
      "Setting up lookup table for root assignment:\n",
      "  note names  midi num  root num\n",
      "0          C        60         0\n",
      "1   C# or D-        61         1\n",
      "2          D        62         2\n",
      "3   D# or E-        63         3\n",
      "4          E        64         4 \n",
      "\n",
      "\n",
      "\n",
      "Setting up Music21 root detection lookup table:\n",
      "  note name  pitch class\n",
      "0         C          0.0\n",
      "1        C#          1.0\n",
      "2        D-          1.0\n",
      "3         D          2.0\n",
      "4        D#          3.0 \n",
      "\n",
      "\n",
      "NLB015569_01\n",
      "Note-level data:\n",
      "   midi_note_num  diatonic_note_num  chromatic_pitch_class     onset  \\\n",
      "0             67                 33                      7  0.000000   \n",
      "1             66                 32                      6  0.669922   \n",
      "2             67                 33                      7  1.330078   \n",
      "3             69                 34                      9  2.000000   \n",
      "4             69                 34                      9  4.000000   \n",
      "\n",
      "   duration  velocity  \n",
      "0  0.669922        67  \n",
      "1  0.669922        58  \n",
      "2  0.669922        60  \n",
      "3  2.000000        63  \n",
      "4  1.000000        63  \n"
     ]
    }
   ],
   "source": [
    "from FoNN.corpus_processing_tools import Corpus, Tune\n",
    "\n",
    "in_path = '/Users/dannydiamond/NUIG/Polifonia/MTC/MTC-ANN-2.0/mid'\n",
    "in_file = 'NLB015569_01.mid'\n",
    "\n",
    "# FULL TUNE INGEST TEST for midi data\n",
    "test_tune = Tune(in_path + '/' + in_file)\n",
    "print(test_tune.title)\n",
    "test_tune.extract_root()\n",
    "test_tune.create_feature_sequence()\n",
    "print(\"Note-level data:\")\n",
    "print(test_tune.feat_seq.head())\n",
    "# test_tune.feat_seq.to_csv(f'/Users/dannydiamond/NUIG/Polifonia/thesession/testing/feat_seq_csvs/{in_file[:-4]}.csv')\n",
    "\n",
    "\n"
   ],
   "metadata": {
    "collapsed": false,
    "pycharm": {
     "name": "#%%\n"
    }
   }
  },
  {
   "cell_type": "code",
   "execution_count": 2,
   "outputs": [
    {
     "name": "stderr",
     "output_type": "stream",
     "text": [
      "Extracting primary feature sequence data from MIDI: 100%|██████████| 360/360 [00:02<00:00, 123.84it/s]"
     ]
    },
    {
     "name": "stdout",
     "output_type": "stream",
     "text": [
      "NLB070078_01\n",
      "Note-level output\n",
      "   midi_note_num  diatonic_note_num  chromatic_pitch_class  onset  duration  \\\n",
      "0             74                 37                      2    0.0       2.0   \n",
      "1             74                 37                      2    2.0       3.0   \n",
      "2             74                 37                      2    5.0       1.0   \n",
      "3             76                 38                      4    6.0       2.0   \n",
      "4             74                 37                      2    8.0       2.0   \n",
      "\n",
      "   velocity  \n",
      "0        65  \n",
      "1        69  \n",
      "2        57  \n",
      "3        67  \n",
      "4        61  \n"
     ]
    },
    {
     "name": "stderr",
     "output_type": "stream",
     "text": [
      "\n"
     ]
    }
   ],
   "source": [
    "corpus = Corpus(in_path)\n",
    "corpus.setup_corpus_iteratively()\n",
    "# Print sample output:\n",
    "print(corpus.tunes[0].title)\n",
    "print(\"Note-level output\")\n",
    "print(corpus.tunes[0].feat_seq.head())\n"
   ],
   "metadata": {
    "collapsed": false,
    "pycharm": {
     "name": "#%%\n"
    }
   }
  },
  {
   "cell_type": "code",
   "execution_count": 3,
   "outputs": [
    {
     "name": "stderr",
     "output_type": "stream",
     "text": [
      "Calculating relative chromatic pitch sequences: 100%|██████████| 360/360 [00:00<00:00, 1675.08it/s]\n",
      "Calculating relative diatonic pitch sequences: 100%|██████████| 360/360 [00:00<00:00, 1797.46it/s]"
     ]
    },
    {
     "name": "stdout",
     "output_type": "stream",
     "text": [
      "NLB073777_01\n",
      "   midi_note_num  diatonic_note_num  chromatic_pitch_class  onset  duration  \\\n",
      "0             74                 37                      2    0.0       1.0   \n",
      "1             76                 38                      4    1.0       1.0   \n",
      "2             78                 39                      6    2.0       1.0   \n",
      "3             79                 40                      7    3.0       1.0   \n",
      "4             78                 39                      6    4.0       1.0   \n",
      "\n",
      "   velocity  relative_chromatic_pitch  relative_diatonic_pitch  \n",
      "0        69                        67                       32  \n",
      "1        59                        69                       33  \n",
      "2        64                        71                       34  \n",
      "3        58                        72                       35  \n",
      "4        56                        71                       34  \n"
     ]
    },
    {
     "name": "stderr",
     "output_type": "stream",
     "text": [
      "\n"
     ]
    }
   ],
   "source": [
    "# Add relative chromatic & diatonic pitch:\n",
    "corpus.calc_relative_chromatic_pitch_seqs()\n",
    "corpus.calc_relative_diatonic_pitch_seqs()\n",
    "# Print sample note-level output:\n",
    "print(corpus.tunes[4].title)\n",
    "print(corpus.tunes[4].feat_seq.head())"
   ],
   "metadata": {
    "collapsed": false,
    "pycharm": {
     "name": "#%%\n"
    }
   }
  },
  {
   "cell_type": "code",
   "execution_count": 4,
   "outputs": [
    {
     "name": "stderr",
     "output_type": "stream",
     "text": [
      "Calculating chromatic scale degree sequences: 100%|██████████| 360/360 [00:00<00:00, 1568.81it/s]\n",
      "Calculating diatonic scale degree sequences: 100%|██████████| 360/360 [00:00<00:00, 1422.00it/s]"
     ]
    },
    {
     "name": "stdout",
     "output_type": "stream",
     "text": [
      "NLB070078_01\n",
      "   midi_note_num  diatonic_note_num  chromatic_pitch_class  onset  duration  \\\n",
      "0             74                 37                      2    0.0       2.0   \n",
      "1             74                 37                      2    2.0       3.0   \n",
      "2             74                 37                      2    5.0       1.0   \n",
      "3             76                 38                      4    6.0       2.0   \n",
      "4             74                 37                      2    8.0       2.0   \n",
      "\n",
      "   velocity  relative_chromatic_pitch  relative_diatonic_pitch  \\\n",
      "0        65                        67                       32   \n",
      "1        69                        67                       32   \n",
      "2        57                        67                       32   \n",
      "3        67                        69                       33   \n",
      "4        61                        67                       32   \n",
      "\n",
      "   chromatic_scale_degree  diatonic_scale_degree  \n",
      "0                       7                      5  \n",
      "1                       7                      5  \n",
      "2                       7                      5  \n",
      "3                       9                      6  \n",
      "4                       7                      5  \n"
     ]
    },
    {
     "name": "stderr",
     "output_type": "stream",
     "text": [
      "\n"
     ]
    }
   ],
   "source": [
    "# Add chromatic & diatonic scale degrees:\n",
    "corpus.calc_chromatic_scale_degree_seqs()\n",
    "corpus.calc_diatonic_scale_degree_seqs()\n",
    "# Print sample note-level output:\n",
    "print(corpus.tunes[0].title)\n",
    "print(corpus.tunes[0].feat_seq.head())"
   ],
   "metadata": {
    "collapsed": false,
    "pycharm": {
     "name": "#%%\n"
    }
   }
  },
  {
   "cell_type": "code",
   "execution_count": 5,
   "outputs": [
    {
     "name": "stderr",
     "output_type": "stream",
     "text": [
      "Calculating chromatic interval sequences: 100%|██████████| 360/360 [00:00<00:00, 1301.20it/s]\n",
      "Calculating diatonic interval sequences: 100%|██████████| 360/360 [00:00<00:00, 1347.37it/s]"
     ]
    },
    {
     "name": "stdout",
     "output_type": "stream",
     "text": [
      "NLB070078_01\n",
      "   midi_note_num  diatonic_note_num  chromatic_pitch_class  onset  duration  \\\n",
      "0             74                 37                      2    0.0       2.0   \n",
      "1             74                 37                      2    2.0       3.0   \n",
      "2             74                 37                      2    5.0       1.0   \n",
      "3             76                 38                      4    6.0       2.0   \n",
      "4             74                 37                      2    8.0       2.0   \n",
      "\n",
      "   velocity  relative_chromatic_pitch  relative_diatonic_pitch  \\\n",
      "0        65                        67                       32   \n",
      "1        69                        67                       32   \n",
      "2        57                        67                       32   \n",
      "3        67                        69                       33   \n",
      "4        61                        67                       32   \n",
      "\n",
      "   chromatic_scale_degree  diatonic_scale_degree  chromatic_interval  \\\n",
      "0                       7                      5                   0   \n",
      "1                       7                      5                   0   \n",
      "2                       7                      5                   0   \n",
      "3                       9                      6                   2   \n",
      "4                       7                      5                  -2   \n",
      "\n",
      "   diatonic_interval  \n",
      "0                  0  \n",
      "1                  0  \n",
      "2                  0  \n",
      "3                  1  \n",
      "4                 -1  \n"
     ]
    },
    {
     "name": "stderr",
     "output_type": "stream",
     "text": [
      "\n"
     ]
    }
   ],
   "source": [
    "# Add chromatic & diatonic intervals:\n",
    "corpus.calc_chromatic_intervals()\n",
    "corpus.calc_diatonic_intervals()\n",
    "# Print sample note-level output:\n",
    "print(corpus.tunes[0].title)\n",
    "print(corpus.tunes[0].feat_seq.head())"
   ],
   "metadata": {
    "collapsed": false,
    "pycharm": {
     "name": "#%%\n"
    }
   }
  },
  {
   "cell_type": "code",
   "execution_count": 6,
   "outputs": [
    {
     "name": "stderr",
     "output_type": "stream",
     "text": [
      "Calculating cumulative Parsons code sequences: 100%|██████████| 360/360 [00:01<00:00, 226.41it/s]"
     ]
    },
    {
     "name": "stdout",
     "output_type": "stream",
     "text": [
      "NLB070078_01\n",
      "Note-level output\n",
      "\n",
      "   midi_note_num  diatonic_note_num  chromatic_pitch_class  onset  duration  \\\n",
      "0             74                 37                      2    0.0       2.0   \n",
      "1             74                 37                      2    2.0       3.0   \n",
      "2             74                 37                      2    5.0       1.0   \n",
      "3             76                 38                      4    6.0       2.0   \n",
      "4             74                 37                      2    8.0       2.0   \n",
      "\n",
      "   velocity  relative_chromatic_pitch  relative_diatonic_pitch  \\\n",
      "0        65                        67                       32   \n",
      "1        69                        67                       32   \n",
      "2        57                        67                       32   \n",
      "3        67                        69                       33   \n",
      "4        61                        67                       32   \n",
      "\n",
      "   chromatic_scale_degree  diatonic_scale_degree  chromatic_interval  \\\n",
      "0                       7                      5                   0   \n",
      "1                       7                      5                   0   \n",
      "2                       7                      5                   0   \n",
      "3                       9                      6                   2   \n",
      "4                       7                      5                  -2   \n",
      "\n",
      "   diatonic_interval  parsons_code  parsons_cumsum  \n",
      "0                  0             0               0  \n",
      "1                  0             0               0  \n",
      "2                  0             0               0  \n",
      "3                  1             1               1  \n",
      "4                 -1            -1               0  \n"
     ]
    },
    {
     "name": "stderr",
     "output_type": "stream",
     "text": [
      "\n"
     ]
    }
   ],
   "source": [
    "# Add Parsons code (simple contour)\n",
    "corpus.calc_parsons_codes()\n",
    "print(corpus.tunes[0].title)\n",
    "# Print sample note-level output:\n",
    "print(\"Note-level output\\n\")\n",
    "print(corpus.tunes[0].feat_seq.head())\n"
   ],
   "metadata": {
    "collapsed": false,
    "pycharm": {
     "name": "#%%\n"
    }
   }
  },
  {
   "cell_type": "code",
   "execution_count": 7,
   "outputs": [
    {
     "name": "stderr",
     "output_type": "stream",
     "text": [
      "Calculating duration-weighted feature sequences:  11%|█         | 39/360 [00:00<00:00, 378.78it/s]"
     ]
    },
    {
     "name": "stdout",
     "output_type": "stream",
     "text": [
      "['midi_note_num', 'diatonic_note_num', 'chromatic_pitch_class', 'onset', 'velocity', 'relative_chromatic_pitch', 'relative_diatonic_pitch', 'chromatic_scale_degree', 'diatonic_scale_degree', 'chromatic_interval', 'diatonic_interval', 'parsons_code', 'parsons_cumsum']\n"
     ]
    },
    {
     "name": "stderr",
     "output_type": "stream",
     "text": [
      "Calculating duration-weighted feature sequences: 100%|██████████| 360/360 [00:00<00:00, 383.72it/s]"
     ]
    },
    {
     "name": "stdout",
     "output_type": "stream",
     "text": [
      "NLB070078_01\n",
      "Duration-weighted note-level output\n",
      "\n",
      "             midi_note_num  diatonic_note_num  chromatic_pitch_class  \\\n",
      "eighth_note                                                            \n",
      "0                       74                 37                      2   \n",
      "1                       74                 37                      2   \n",
      "2                       74                 37                      2   \n",
      "3                       74                 37                      2   \n",
      "4                       74                 37                      2   \n",
      "\n",
      "             velocity  relative_chromatic_pitch  relative_diatonic_pitch  \\\n",
      "eighth_note                                                                \n",
      "0                  65                        67                       32   \n",
      "1                  69                        67                       32   \n",
      "2                  69                        67                       32   \n",
      "3                  57                        67                       32   \n",
      "4                  57                        67                       32   \n",
      "\n",
      "             chromatic_scale_degree  diatonic_scale_degree  \\\n",
      "eighth_note                                                  \n",
      "0                                 7                      5   \n",
      "1                                 7                      5   \n",
      "2                                 7                      5   \n",
      "3                                 7                      5   \n",
      "4                                 7                      5   \n",
      "\n",
      "             chromatic_interval  diatonic_interval  parsons_code  \\\n",
      "eighth_note                                                        \n",
      "0                             0                  0             0   \n",
      "1                             0                  0             0   \n",
      "2                             0                  0             0   \n",
      "3                             0                  0             0   \n",
      "4                             0                  0             0   \n",
      "\n",
      "             parsons_cumsum  \n",
      "eighth_note                  \n",
      "0                         0  \n",
      "1                         0  \n",
      "2                         0  \n",
      "3                         0  \n",
      "4                         0  \n"
     ]
    },
    {
     "name": "stderr",
     "output_type": "stream",
     "text": [
      "\n"
     ]
    }
   ],
   "source": [
    "# Duration-weight the note-level data:\n",
    "features = [col for col in corpus.tunes[0].feat_seq.columns]\n",
    "features.remove('duration')\n",
    "print(features)\n",
    "corpus.calc_duration_weighted_feat_seqs(features=features)\n",
    "print(corpus.tunes[0].title)\n",
    "# Print sample note-level output:\n",
    "print(\"Duration-weighted note-level output\\n\")\n",
    "print(corpus.tunes[0].duration_weighted.head())\n"
   ],
   "metadata": {
    "collapsed": false,
    "pycharm": {
     "name": "#%%\n"
    }
   }
  },
  {
   "cell_type": "code",
   "execution_count": 9,
   "outputs": [
    {
     "name": "stderr",
     "output_type": "stream",
     "text": [
      "Saving feature sequence data to csv: 100%|██████████| 360/360 [00:00<00:00, 472.26it/s]\n"
     ]
    }
   ],
   "source": [
    "# write outputs to file:\n",
    "corpus.csv_outpath = '//Users/dannydiamond/NUIG/Polifonia/MTC/MTC-ANN-2.0/mtc_ann_feat_seq_corpus'\n",
    "corpus.save_feat_seq_data_to_csv()\n"
   ],
   "metadata": {
    "collapsed": false,
    "pycharm": {
     "name": "#%%\n"
    }
   }
  },
  {
   "cell_type": "markdown",
   "source": [],
   "metadata": {
    "collapsed": false,
    "pycharm": {
     "name": "#%% md\n"
    }
   }
  }
 ],
 "metadata": {
  "kernelspec": {
   "display_name": "Python 3",
   "language": "python",
   "name": "python3"
  },
  "language_info": {
   "codemirror_mode": {
    "name": "ipython",
    "version": 2
   },
   "file_extension": ".py",
   "mimetype": "text/x-python",
   "name": "python",
   "nbconvert_exporter": "python",
   "pygments_lexer": "ipython2",
   "version": "2.7.6"
  }
 },
 "nbformat": 4,
 "nbformat_minor": 0
}