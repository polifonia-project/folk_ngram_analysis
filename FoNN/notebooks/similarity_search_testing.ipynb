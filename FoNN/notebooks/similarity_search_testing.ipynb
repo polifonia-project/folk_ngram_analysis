{
 "cells": [
  {
   "cell_type": "code",
   "execution_count": 5,
   "outputs": [],
   "source": [
    "from similarity_search_dev import PatternSimilarity"
   ],
   "metadata": {
    "collapsed": false,
    "pycharm": {
     "name": "#%%\n"
    }
   }
  },
  {
   "cell_type": "code",
   "execution_count": 2,
   "outputs": [],
   "source": [
    "# basepath = \"/Users/dannydiamond/NUIG/Polifonia/thesession/testing/feat_seq_corpus2k/test_acc/\"\n",
    "# patterns = basepath + 'patterns.npy'\n",
    "# titles = basepath + 'titles.npy'\n",
    "# tfidf = basepath + \"tfidf_matrix.npz\"\n",
    "# freq = basepath + \"freq_matrix.npz\"\n",
    "# feat_seq_path = \"/Users/dannydiamond/NUIG/Polifonia/thesession/testing/feat_seq_corpus2k/feat_seq_accents\"\n",
    "# tfidf_similarity = '/Users/dannydiamond/NUIG/Polifonia/thesession/testing/feat_seq_corpus2k/test_acc/tfidf_vector_cos_sim.mm'\n",
    "# out_path = \"/Users/dannydiamond/NUIG/Polifonia/thesession/testing/feat_seq_corpus2k/results_acc\"\n"
   ],
   "metadata": {
    "collapsed": false,
    "pycharm": {
     "name": "#%%\n"
    }
   }
  },
  {
   "cell_type": "code",
   "execution_count": 8,
   "outputs": [],
   "source": [
    "basepath = \"/Users/dannydiamond/NUIG/Polifonia/thesession/revised_feat_seq_corpus_no_pickups/acc_pattern_corpus/\"\n",
    "patterns = basepath + 'patterns.npy'\n",
    "titles = basepath + 'titles.npy'\n",
    "tfidf = basepath + \"tfidf_matrix.npz\"\n",
    "freq = basepath + \"freq_matrix.npz\"\n",
    "feat_seq_path = \"/Users/dannydiamond/NUIG/Polifonia/thesession/revised_feat_seq_corpus_no_pickups/feat_seq_accents\"\n",
    "tfidf_similarity = '//Users/dannydiamond/NUIG/Polifonia/thesession/revised_feat_seq_corpus_no_pickups/acc_pattern_corpus/tfidf_vector_cos_sim.mm'\n",
    "out_path = \"/Users/dannydiamond/NUIG/Polifonia/thesession/testing/feat_seq_corpus2k/results_acc\""
   ],
   "metadata": {
    "collapsed": false,
    "pycharm": {
     "name": "#%%\n"
    }
   }
  },
  {
   "cell_type": "markdown",
   "source": [],
   "metadata": {
    "collapsed": false,
    "pycharm": {
     "name": "#%% md\n"
    }
   }
  },
  {
   "cell_type": "code",
   "execution_count": 9,
   "outputs": [
    {
     "data": {
      "text/plain": "Pandas Apply:   0%|          | 0/2177751 [00:00<?, ?it/s]",
      "application/vnd.jupyter.widget-view+json": {
       "version_major": 2,
       "version_minor": 0,
       "model_id": "07927f15b1fd46d196ccf91ff03b1fe3"
      }
     },
     "metadata": {},
     "output_type": "display_data"
    },
    {
     "data": {
      "text/plain": "Pandas Apply:   0%|          | 0/2177751 [00:00<?, ?it/s]",
      "application/vnd.jupyter.widget-view+json": {
       "version_major": 2,
       "version_minor": 0,
       "model_id": "709c411954544140a71992575d823921"
      }
     },
     "metadata": {},
     "output_type": "display_data"
    }
   ],
   "source": [
    "# setup class instance\n",
    "test = PatternSimilarity(titles_path=titles, patterns_path=patterns, feat_seq_path=feat_seq_path, feature='diatonic_scale_degree', input_filter='broad')\n",
    "test.n = 6\n",
    "test.query_tune = \"AnDroDesPetitsBateaux27002\"\n",
    "test.freq_matrix = freq\n",
    "test.tfidf_matrix = tfidf\n",
    "# test.tfidf_vector_cos_similarity_matrix = tfidf_similarity\n",
    "test.out_dir = out_path\n"
   ],
   "metadata": {
    "collapsed": false,
    "pycharm": {
     "name": "#%%\n"
    }
   }
  },
  {
   "cell_type": "code",
   "execution_count": 10,
   "outputs": [
    {
     "name": "stderr",
     "output_type": "stream",
     "text": [
      "Reformatting pattern database:   0%|          | 0/531866 [00:00<?, ?it/s]"
     ]
    },
    {
     "name": "stdout",
     "output_type": "stream",
     "text": [
      "levenshtein\n"
     ]
    },
    {
     "name": "stderr",
     "output_type": "stream",
     "text": [
      "Reformatting pattern database: 100%|██████████| 531866/531866 [00:01<00:00, 308612.98it/s]\n"
     ]
    },
    {
     "name": "stdout",
     "output_type": "stream",
     "text": [
      "ngram search terms:\n",
      "880548    [3, 3, 3, 2, 5, 5]\n",
      "dtype: object\n"
     ]
    },
    {
     "data": {
      "text/plain": "Pandas Apply:   0%|          | 0/531866 [00:00<?, ?it/s]",
      "application/vnd.jupyter.widget-view+json": {
       "version_major": 2,
       "version_minor": 0,
       "model_id": "5b20e255b86a4d09be7299ca879fd840"
      }
     },
     "metadata": {},
     "output_type": "display_data"
    },
    {
     "name": "stdout",
     "output_type": "stream",
     "text": [
      "Levenshtein patterns:\n",
      "        [3 3 3 2 5 5]               patterns\n",
      "162944              1     [1, 3, 3, 2, 5, 5]\n",
      "163916              1  [1, 3, 3, 3, 2, 5, 5]\n",
      "550226              1     [2, 3, 3, 2, 5, 5]\n",
      "550929              1  [2, 3, 3, 3, 2, 5, 5]\n",
      "763790              1     [3, 1, 3, 2, 5, 5]\n",
      "Similar pattern indices (Levenshtein:)\n",
      "[162944, 163916, 550226, 550929, 763790, 764767, 829549, 830250, 863299, 864053, 872655, 873407, 875731, 878304, 879046, 879647, 879673, 879971, 880000, 880273, 880416, 880420, 880433, 880434, 880452, 880465, 880490, 880503, 880534, 880540, 880548, 880549, 880552, 880564, 880571, 880578, 880583, 880590, 880608, 880744, 880757, 880863, 881430, 882479, 883236, 883833, 884471, 885127, 885266, 885992, 886671, 887213, 887581, 889417, 890005, 896426, 897124, 903993, 904603, 910116, 910412, 927483, 928107, 971473, 1020238, 1020846, 1054638, 1072660, 1072823, 1072869, 1072870, 1072901, 1177278, 1177833, 1483005, 1483802, 1813671, 2054043]\n",
      "Tune lengths:\n",
      "        BoysOfPatstaiThe4772  MouldyPintThe7496  LongfordCollectorThe24745  \\\n",
      "length                    32                 65                         64   \n",
      "\n",
      "        BraesOfTulliemetThe23904  CamowenThe11581  QuimperThe20663  \\\n",
      "length                        33               62               32   \n",
      "\n",
      "        WellAllLieTogether19130  LInconnuDeLimoise17950  MerryReapersThe35815  \\\n",
      "length                       48                      29                    64   \n",
      "\n",
      "        GanAinm7377  ...  OlympusMons41569  MineAinHoose36350  PulletThe8003  \\\n",
      "length           64  ...                96                 18             65   \n",
      "\n",
      "        SilverTipThe42437  BumperSquireJones2623  CatInTheCornerThe36729  \\\n",
      "length                 32                     17                      64   \n",
      "\n",
      "        AnUglyCustomer32800  RustyGulleyThe30917  HuntThe29171  \\\n",
      "length                   32                   16            81   \n",
      "\n",
      "        MrsJamesMacInnesEdinburgh36755  \n",
      "length                              32  \n",
      "\n",
      "[1 rows x 40152 columns]\n",
      "Length normalization lookup table: check this output...\n",
      "KansasCity30048             65\n",
      "MikeSaunders21797           65\n",
      "GreenMountainThe33664       64\n",
      "JewelsOfTheOceanThe37242    49\n",
      "SimonsWart9663              65\n",
      "                            ..\n",
      "PaudeenORafferty16806       64\n",
      "DinTarrants1914             30\n",
      "EarlOfSpaceThe36462         60\n",
      "PatDonald9454               60\n",
      "CrossingTheShannon33472     65\n",
      "Name: length, Length: 662, dtype: int64\n",
      "Normalized: check this output\n",
      "Tune lengths:\n",
      "        BoysOfPatstaiThe4772  MouldyPintThe7496  LongfordCollectorThe24745  \\\n",
      "length                    32                 65                         64   \n",
      "\n",
      "        BraesOfTulliemetThe23904  CamowenThe11581  QuimperThe20663  \\\n",
      "length                        33               62               32   \n",
      "\n",
      "        WellAllLieTogether19130  LInconnuDeLimoise17950  MerryReapersThe35815  \\\n",
      "length                       48                      29                    64   \n",
      "\n",
      "        GanAinm7377  ...  OlympusMons41569  MineAinHoose36350  PulletThe8003  \\\n",
      "length           64  ...                96                 18             65   \n",
      "\n",
      "        SilverTipThe42437  BumperSquireJones2623  CatInTheCornerThe36729  \\\n",
      "length                 32                     17                      64   \n",
      "\n",
      "        AnUglyCustomer32800  RustyGulleyThe30917  HuntThe29171  \\\n",
      "length                   32                   16            81   \n",
      "\n",
      "        MrsJamesMacInnesEdinburgh36755  \n",
      "length                              32  \n",
      "\n",
      "[1 rows x 40152 columns]\n",
      "Length normalization lookup table: check this output...\n",
      "KansasCity30048             65\n",
      "MikeSaunders21797           65\n",
      "GreenMountainThe33664       64\n",
      "JewelsOfTheOceanThe37242    49\n",
      "SimonsWart9663              65\n",
      "                            ..\n",
      "PaudeenORafferty16806       64\n",
      "DinTarrants1914             30\n",
      "EarlOfSpaceThe36462         60\n",
      "PatDonald9454               60\n",
      "CrossingTheShannon33472     65\n",
      "Name: length, Length: 662, dtype: int64\n",
      "Normalized: check this output\n"
     ]
    }
   ],
   "source": [
    "# test.weighted_hamming_threshold = 1\n",
    "test.find_similar_tunes(mode='levenshtein')\n",
    "# test.find_similar_tunes(mode='weighted hamming')\n",
    "# test.find_similar_tunes(mode='weighted hamming')\n",
    "# # test._run_incipit_and_cadence_similarity()"
   ],
   "metadata": {
    "collapsed": false,
    "pycharm": {
     "name": "#%%\n"
    }
   }
  },
  {
   "cell_type": "code",
   "execution_count": 5,
   "outputs": [
    {
     "name": "stderr",
     "output_type": "stream",
     "text": [
      "Reformatting pattern database:  28%|██▊       | 25705/92838 [00:00<00:00, 257034.92it/s]"
     ]
    },
    {
     "name": "stdout",
     "output_type": "stream",
     "text": [
      "weighted hamming\n"
     ]
    },
    {
     "name": "stderr",
     "output_type": "stream",
     "text": [
      "Reformatting pattern database: 100%|██████████| 92838/92838 [00:00<00:00, 273676.91it/s]\n"
     ]
    },
    {
     "name": "stdout",
     "output_type": "stream",
     "text": [
      "Weighted Hamming patterns:\n",
      "       [2 2 3 2 2 1]            patterns\n",
      "47247            0.5  [2, 2, 1, 2, 2, 1]\n",
      "49220            0.0  [2, 2, 3, 2, 2, 1]\n",
      "49254            0.5  [2, 2, 3, 2, 2, 3]\n",
      "49259            0.5  [2, 2, 3, 2, 2, 5]\n",
      "49492            0.5  [2, 2, 3, 4, 2, 1]\n",
      "Tune lengths:\n",
      "        72ndHighlandersFarewellToAberdeenThe28289  AnneFraserMacKenzie21588  \\\n",
      "length                                         63                        65   \n",
      "\n",
      "        AndyDeJarlis13997  BagOfSpudsThe13569  AuldPipeThe16032  \\\n",
      "length                 65                  64                65   \n",
      "\n",
      "        ATripToBavaria28317  Annas16972  AnRaibhTAgAnGCarraig33742  \\\n",
      "length                   65          72                         18   \n",
      "\n",
      "        AidanCuffes7481  ARainyDay10657  ...  AllInAGardenGreen26090  \\\n",
      "length               64              65  ...                      33   \n",
      "\n",
      "        AutumnLeaves10823  AnotherDay37522  AiresDePontevedra4587  \\\n",
      "length                 32               17                     38   \n",
      "\n",
      "        AnChearcIsAHAl28478  AhSurely13564  AbbotsBromleyHornDanceThe23319  \\\n",
      "length                   34             64                              49   \n",
      "\n",
      "        AllistrumsMarch26055  BaddeckGatheringThe22956  AnUglyCustomer32800  \n",
      "length                    32                        65                   32  \n",
      "\n",
      "[1 rows x 2100 columns]\n",
      "Length normalization lookup table: check this output...\n",
      "AllistrumsMarch31294               128\n",
      "AnCupanTae19188                     64\n",
      "BackToBelfast9917                   48\n",
      "ArLanYMor20467                      16\n",
      "AssInTheGraveyardThe37746           33\n",
      "AlanDavidson32575                   33\n",
      "AlstonThe8165                       61\n",
      "ArdaneenThe27734                    29\n",
      "AmysFavourite30797                  63\n",
      "Anhysbys2140                        64\n",
      "ActionJunkieExtraordinaire33390     62\n",
      "ANightInGardenOfEden7328            78\n",
      "Andersons26284                      32\n",
      "AfterTheBattleOfAughrim14636        65\n",
      "ArThirAnDonn22451                   64\n",
      "AJigForChristmas23163               64\n",
      "AnFeochn17451                       33\n",
      "AHighlandQuickstep17225            119\n",
      "AQuietAutumn4932                    62\n",
      "ADuncanMacQuarrie36323              33\n",
      "AnnikasButterfly37897              126\n",
      "BabyBroon11326                      48\n",
      "ATripToGalloway33269                33\n",
      "AbsentmindedManThe23290             61\n",
      "Alices41538                         64\n",
      "Arnies1489                          64\n",
      "AnnRossOfTurriff36881               29\n",
      "AJigForSarah10035                   65\n",
      "AnDroDesPetitsBateaux27002         136\n",
      "Name: length, dtype: int64\n",
      "Normalized: check this output\n",
      "Tune lengths:\n",
      "        72ndHighlandersFarewellToAberdeenThe28289  AnneFraserMacKenzie21588  \\\n",
      "length                                         63                        65   \n",
      "\n",
      "        AndyDeJarlis13997  BagOfSpudsThe13569  AuldPipeThe16032  \\\n",
      "length                 65                  64                65   \n",
      "\n",
      "        ATripToBavaria28317  Annas16972  AnRaibhTAgAnGCarraig33742  \\\n",
      "length                   65          72                         18   \n",
      "\n",
      "        AidanCuffes7481  ARainyDay10657  ...  AllInAGardenGreen26090  \\\n",
      "length               64              65  ...                      33   \n",
      "\n",
      "        AutumnLeaves10823  AnotherDay37522  AiresDePontevedra4587  \\\n",
      "length                 32               17                     38   \n",
      "\n",
      "        AnChearcIsAHAl28478  AhSurely13564  AbbotsBromleyHornDanceThe23319  \\\n",
      "length                   34             64                              49   \n",
      "\n",
      "        AllistrumsMarch26055  BaddeckGatheringThe22956  AnUglyCustomer32800  \n",
      "length                    32                        65                   32  \n",
      "\n",
      "[1 rows x 2100 columns]\n",
      "Length normalization lookup table: check this output...\n",
      "AllistrumsMarch31294               128\n",
      "AnCupanTae19188                     64\n",
      "BackToBelfast9917                   48\n",
      "ArLanYMor20467                      16\n",
      "AssInTheGraveyardThe37746           33\n",
      "AlanDavidson32575                   33\n",
      "AlstonThe8165                       61\n",
      "ArdaneenThe27734                    29\n",
      "AmysFavourite30797                  63\n",
      "Anhysbys2140                        64\n",
      "ActionJunkieExtraordinaire33390     62\n",
      "ANightInGardenOfEden7328            78\n",
      "Andersons26284                      32\n",
      "AfterTheBattleOfAughrim14636        65\n",
      "ArThirAnDonn22451                   64\n",
      "AJigForChristmas23163               64\n",
      "AnFeochn17451                       33\n",
      "AHighlandQuickstep17225            119\n",
      "AQuietAutumn4932                    62\n",
      "ADuncanMacQuarrie36323              33\n",
      "AnnikasButterfly37897              126\n",
      "BabyBroon11326                      48\n",
      "ATripToGalloway33269                33\n",
      "AbsentmindedManThe23290             61\n",
      "Alices41538                         64\n",
      "Arnies1489                          64\n",
      "AnnRossOfTurriff36881               29\n",
      "AJigForSarah10035                   65\n",
      "AnDroDesPetitsBateaux27002         136\n",
      "Name: length, dtype: int64\n",
      "Normalized: check this output\n"
     ]
    }
   ],
   "source": [
    "test.find_similar_tunes(mode='weighted hamming')\n"
   ],
   "metadata": {
    "collapsed": false,
    "pycharm": {
     "name": "#%%\n"
    }
   }
  },
  {
   "cell_type": "code",
   "execution_count": 5,
   "outputs": [],
   "source": [],
   "metadata": {
    "collapsed": false,
    "pycharm": {
     "name": "#%%\n"
    }
   }
  }
 ],
 "metadata": {
  "kernelspec": {
   "display_name": "Python 3",
   "language": "python",
   "name": "python3"
  },
  "language_info": {
   "codemirror_mode": {
    "name": "ipython",
    "version": 2
   },
   "file_extension": ".py",
   "mimetype": "text/x-python",
   "name": "python",
   "nbconvert_exporter": "python",
   "pygments_lexer": "ipython2",
   "version": "2.7.6"
  }
 },
 "nbformat": 4,
 "nbformat_minor": 0
}