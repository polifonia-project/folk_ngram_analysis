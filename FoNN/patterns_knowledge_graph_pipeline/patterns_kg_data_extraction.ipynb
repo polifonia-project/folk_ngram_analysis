{
 "cells": [
  {
   "cell_type": "markdown",
   "source": [
    "## Polifonia [Patterns Knowledge Graph](https://github.com/polifonia-project/patterns-knowledge-graph) (KG) ingest pipeline. Step 1: Data extraction.\n",
    "\n",
    "This notebook uses FoNN to extract patterns, pattern occurrences and pattern locations from an input music corpus in feature sequence format, as outputted by ```../demo_notebooks/feature_extraction_demo.ipynb```.\n",
    "Any corpus for which a KG is being generated must first be processed via this notebook.\n",
    "\n",
    "This is the first of two FoNN KG preprocessing steps. Step two can be found in ```./patterns_kg_data_processing.ipynb```"
   ],
   "metadata": {
    "collapsed": false,
    "pycharm": {
     "name": "#%% md\n"
    }
   }
  },
  {
   "cell_type": "code",
   "execution_count": 8,
   "outputs": [],
   "source": [
    "# imports\n",
    "\n",
    "from FoNN.pattern_extraction import NgramPatternCorpus\n"
   ],
   "metadata": {
    "collapsed": false,
    "pycharm": {
     "name": "#%%\n"
    }
   }
  },
  {
   "cell_type": "code",
   "execution_count": 9,
   "outputs": [
    {
     "name": "stderr",
     "output_type": "stream",
     "text": [
      "Reading input data:  69%|██████▉   | 27872/40147 [00:48<00:17, 703.54it/s]/Users/dannydiamond/NUIG/Polifonia/repo/folk_ngram_analysis/folk_ngram_analysis/FoNN/pattern_extraction.py:169: UserWarning: genfromtxt: Empty input file: \"/Users/dannydiamond/NUIG/Polifonia/thesession/feat_seq_corpus_may23/feature_sequence_data/duration_weighted/GoodForTheTongue6499.csv\"\n",
      "  np.genfromtxt(\n",
      "Reading input data: 100%|██████████| 40147/40147 [01:08<00:00, 583.03it/s]\n",
      "Formatting data: 100%|██████████| 40147/40147 [00:00<00:00, 109468.43it/s]\n"
     ]
    },
    {
     "name": "stdout",
     "output_type": "stream",
     "text": [
      "Process completed.\n",
      "Null sequences detected and removed from input data\n",
      "GoodForTheTongue6499\n"
     ]
    }
   ],
   "source": [
    "# set n_vals variable as tuple containing min and max pattern lengths for which patterns will be extracted\n",
    "n_vals = (12, 12)\n",
    "# Note: as above, maximum range is 4-6 pattern elements. If only a single pattern length is under investigation, the tuple still requires two elements, per (4, 4) for 4-element patterns.\n",
    "# Set musical feature under investigation. Default is 'diatonic_scale_degree'. A full list of feature names and explanations is available at ./README.md and in ../feature_sequence_extraction_tools.py top docstring.\n",
    "feature= 'diatonic_scale_degree'\n",
    "# set in path corresponding to the level of granularity of input corpus data under investigation -- this value can be either\n",
    "# 'note', 'accent' or 'duration_weighted' as discussed in FoNN README.md.\n",
    "in_path = '/Users/dannydiamond/NUIG/Polifonia/thesession/feat_seq_corpus_may23/feature_sequence_data/duration_weighted'\n",
    "out_path = '/Users/dannydiamond/NUIG/Polifonia/for_james/thesession'\n",
    "\n",
    "# For each pattern length, create an NgramPatternCorpus object\n",
    "# Note: this differs from the standard FoNN ingest pipeline, which extracts patterns at all lengths via a single NgramPatternCorpus obj.\n",
    "\n",
    "_pattern_lengths = range(n_vals[0], n_vals[1] + 1)\n",
    "data = []\n",
    "for n in _pattern_lengths:\n",
    "    pattern_corpus = NgramPatternCorpus(in_dir=in_path, out_dir=out_path, feature=feature, n_vals=(n, n))\n",
    "    data.append(pattern_corpus)"
   ],
   "metadata": {
    "collapsed": false,
    "pycharm": {
     "name": "#%%\n"
    }
   }
  },
  {
   "cell_type": "code",
   "execution_count": 10,
   "outputs": [
    {
     "name": "stdout",
     "output_type": "stream",
     "text": [
      "\n",
      "Corpus name: feat_seq_corpus_may23\n",
      "Level: note-level (duration-weighted)\n",
      "Input directory: /Users/dannydiamond/NUIG/Polifonia/thesession/feat_seq_corpus_may23/feature_sequence_data/duration_weighted\n",
      "Corpus contains 40146 tunes.\n",
      "Number of patterns extracted: 3299381\n",
      "\n"
     ]
    }
   ],
   "source": [
    "# create a corpus-level pattern occurrences matrix for each n value (i.e.: for each patter length)\n",
    "for pattern_corpus in data:\n",
    "    pattern_corpus.create_pattern_frequency_matrix(write_output=False)\n",
    "    print(pattern_corpus)"
   ],
   "metadata": {
    "collapsed": false,
    "pycharm": {
     "name": "#%%\n"
    }
   }
  },
  {
   "cell_type": "code",
   "execution_count": 11,
   "outputs": [
    {
     "name": "stdout",
     "output_type": "stream",
     "text": [
      "                                      BoysOfPatstaiThe4772  MouldyPintThe7496  \\\n",
      "patterns                                                                        \n",
      "[1, 1, 1, 1, 1, 1, 1, 1, 1, 1, 1, 1]                   NaN                NaN   \n",
      "[1, 1, 1, 1, 1, 1, 1, 1, 1, 1, 1, 2]                   NaN                NaN   \n",
      "[1, 1, 1, 1, 1, 1, 1, 1, 1, 1, 1, 3]                   NaN                NaN   \n",
      "[1, 1, 1, 1, 1, 1, 1, 1, 1, 1, 1, 4]                   NaN                NaN   \n",
      "[1, 1, 1, 1, 1, 1, 1, 1, 1, 1, 1, 5]                   NaN                NaN   \n",
      "\n",
      "                                      LongfordCollectorThe24745  \\\n",
      "patterns                                                          \n",
      "[1, 1, 1, 1, 1, 1, 1, 1, 1, 1, 1, 1]                        NaN   \n",
      "[1, 1, 1, 1, 1, 1, 1, 1, 1, 1, 1, 2]                        NaN   \n",
      "[1, 1, 1, 1, 1, 1, 1, 1, 1, 1, 1, 3]                        NaN   \n",
      "[1, 1, 1, 1, 1, 1, 1, 1, 1, 1, 1, 4]                        NaN   \n",
      "[1, 1, 1, 1, 1, 1, 1, 1, 1, 1, 1, 5]                        NaN   \n",
      "\n",
      "                                      BraesOfTulliemetThe23904  \\\n",
      "patterns                                                         \n",
      "[1, 1, 1, 1, 1, 1, 1, 1, 1, 1, 1, 1]                       NaN   \n",
      "[1, 1, 1, 1, 1, 1, 1, 1, 1, 1, 1, 2]                       NaN   \n",
      "[1, 1, 1, 1, 1, 1, 1, 1, 1, 1, 1, 3]                       NaN   \n",
      "[1, 1, 1, 1, 1, 1, 1, 1, 1, 1, 1, 4]                       NaN   \n",
      "[1, 1, 1, 1, 1, 1, 1, 1, 1, 1, 1, 5]                       NaN   \n",
      "\n",
      "                                      CamowenThe11581  QuimperThe20663  \\\n",
      "patterns                                                                 \n",
      "[1, 1, 1, 1, 1, 1, 1, 1, 1, 1, 1, 1]              NaN              NaN   \n",
      "[1, 1, 1, 1, 1, 1, 1, 1, 1, 1, 1, 2]              NaN              NaN   \n",
      "[1, 1, 1, 1, 1, 1, 1, 1, 1, 1, 1, 3]              NaN              NaN   \n",
      "[1, 1, 1, 1, 1, 1, 1, 1, 1, 1, 1, 4]              NaN              NaN   \n",
      "[1, 1, 1, 1, 1, 1, 1, 1, 1, 1, 1, 5]              NaN              NaN   \n",
      "\n",
      "                                      WellAllLieTogether19130  \\\n",
      "patterns                                                        \n",
      "[1, 1, 1, 1, 1, 1, 1, 1, 1, 1, 1, 1]                      NaN   \n",
      "[1, 1, 1, 1, 1, 1, 1, 1, 1, 1, 1, 2]                      NaN   \n",
      "[1, 1, 1, 1, 1, 1, 1, 1, 1, 1, 1, 3]                      NaN   \n",
      "[1, 1, 1, 1, 1, 1, 1, 1, 1, 1, 1, 4]                      NaN   \n",
      "[1, 1, 1, 1, 1, 1, 1, 1, 1, 1, 1, 5]                      NaN   \n",
      "\n",
      "                                      LInconnuDeLimoise17950  \\\n",
      "patterns                                                       \n",
      "[1, 1, 1, 1, 1, 1, 1, 1, 1, 1, 1, 1]                     NaN   \n",
      "[1, 1, 1, 1, 1, 1, 1, 1, 1, 1, 1, 2]                     NaN   \n",
      "[1, 1, 1, 1, 1, 1, 1, 1, 1, 1, 1, 3]                     NaN   \n",
      "[1, 1, 1, 1, 1, 1, 1, 1, 1, 1, 1, 4]                     NaN   \n",
      "[1, 1, 1, 1, 1, 1, 1, 1, 1, 1, 1, 5]                     NaN   \n",
      "\n",
      "                                      MerryReapersThe35815  GanAinm7377  ...  \\\n",
      "patterns                                                                 ...   \n",
      "[1, 1, 1, 1, 1, 1, 1, 1, 1, 1, 1, 1]                   NaN          NaN  ...   \n",
      "[1, 1, 1, 1, 1, 1, 1, 1, 1, 1, 1, 2]                   NaN          NaN  ...   \n",
      "[1, 1, 1, 1, 1, 1, 1, 1, 1, 1, 1, 3]                   NaN          NaN  ...   \n",
      "[1, 1, 1, 1, 1, 1, 1, 1, 1, 1, 1, 4]                   NaN          NaN  ...   \n",
      "[1, 1, 1, 1, 1, 1, 1, 1, 1, 1, 1, 5]                   NaN          NaN  ...   \n",
      "\n",
      "                                      OlympusMons41569  MineAinHoose36350  \\\n",
      "patterns                                                                    \n",
      "[1, 1, 1, 1, 1, 1, 1, 1, 1, 1, 1, 1]               NaN                NaN   \n",
      "[1, 1, 1, 1, 1, 1, 1, 1, 1, 1, 1, 2]               NaN                NaN   \n",
      "[1, 1, 1, 1, 1, 1, 1, 1, 1, 1, 1, 3]               NaN                NaN   \n",
      "[1, 1, 1, 1, 1, 1, 1, 1, 1, 1, 1, 4]               NaN                NaN   \n",
      "[1, 1, 1, 1, 1, 1, 1, 1, 1, 1, 1, 5]               NaN                NaN   \n",
      "\n",
      "                                      PulletThe8003  SilverTipThe42437  \\\n",
      "patterns                                                                 \n",
      "[1, 1, 1, 1, 1, 1, 1, 1, 1, 1, 1, 1]            NaN                NaN   \n",
      "[1, 1, 1, 1, 1, 1, 1, 1, 1, 1, 1, 2]            NaN                NaN   \n",
      "[1, 1, 1, 1, 1, 1, 1, 1, 1, 1, 1, 3]            NaN                NaN   \n",
      "[1, 1, 1, 1, 1, 1, 1, 1, 1, 1, 1, 4]            NaN                NaN   \n",
      "[1, 1, 1, 1, 1, 1, 1, 1, 1, 1, 1, 5]            NaN                NaN   \n",
      "\n",
      "                                      BumperSquireJones2623  \\\n",
      "patterns                                                      \n",
      "[1, 1, 1, 1, 1, 1, 1, 1, 1, 1, 1, 1]                    NaN   \n",
      "[1, 1, 1, 1, 1, 1, 1, 1, 1, 1, 1, 2]                    NaN   \n",
      "[1, 1, 1, 1, 1, 1, 1, 1, 1, 1, 1, 3]                    NaN   \n",
      "[1, 1, 1, 1, 1, 1, 1, 1, 1, 1, 1, 4]                    NaN   \n",
      "[1, 1, 1, 1, 1, 1, 1, 1, 1, 1, 1, 5]                    NaN   \n",
      "\n",
      "                                      CatInTheCornerThe36729  \\\n",
      "patterns                                                       \n",
      "[1, 1, 1, 1, 1, 1, 1, 1, 1, 1, 1, 1]                     NaN   \n",
      "[1, 1, 1, 1, 1, 1, 1, 1, 1, 1, 1, 2]                     NaN   \n",
      "[1, 1, 1, 1, 1, 1, 1, 1, 1, 1, 1, 3]                     NaN   \n",
      "[1, 1, 1, 1, 1, 1, 1, 1, 1, 1, 1, 4]                     NaN   \n",
      "[1, 1, 1, 1, 1, 1, 1, 1, 1, 1, 1, 5]                     NaN   \n",
      "\n",
      "                                      AnUglyCustomer32800  \\\n",
      "patterns                                                    \n",
      "[1, 1, 1, 1, 1, 1, 1, 1, 1, 1, 1, 1]                  NaN   \n",
      "[1, 1, 1, 1, 1, 1, 1, 1, 1, 1, 1, 2]                  NaN   \n",
      "[1, 1, 1, 1, 1, 1, 1, 1, 1, 1, 1, 3]                  NaN   \n",
      "[1, 1, 1, 1, 1, 1, 1, 1, 1, 1, 1, 4]                  NaN   \n",
      "[1, 1, 1, 1, 1, 1, 1, 1, 1, 1, 1, 5]                  NaN   \n",
      "\n",
      "                                      RustyGulleyThe30917  HuntThe29171  \\\n",
      "patterns                                                                  \n",
      "[1, 1, 1, 1, 1, 1, 1, 1, 1, 1, 1, 1]                  NaN           NaN   \n",
      "[1, 1, 1, 1, 1, 1, 1, 1, 1, 1, 1, 2]                  NaN           NaN   \n",
      "[1, 1, 1, 1, 1, 1, 1, 1, 1, 1, 1, 3]                  NaN           NaN   \n",
      "[1, 1, 1, 1, 1, 1, 1, 1, 1, 1, 1, 4]                  NaN           NaN   \n",
      "[1, 1, 1, 1, 1, 1, 1, 1, 1, 1, 1, 5]                  NaN           NaN   \n",
      "\n",
      "                                      MrsJamesMacInnesEdinburgh36755  \n",
      "patterns                                                              \n",
      "[1, 1, 1, 1, 1, 1, 1, 1, 1, 1, 1, 1]                             NaN  \n",
      "[1, 1, 1, 1, 1, 1, 1, 1, 1, 1, 1, 2]                             NaN  \n",
      "[1, 1, 1, 1, 1, 1, 1, 1, 1, 1, 1, 3]                             NaN  \n",
      "[1, 1, 1, 1, 1, 1, 1, 1, 1, 1, 1, 4]                             NaN  \n",
      "[1, 1, 1, 1, 1, 1, 1, 1, 1, 1, 1, 5]                             NaN  \n",
      "\n",
      "[5 rows x 40146 columns]\n",
      "<class 'pandas.core.frame.DataFrame'>\n",
      "Index: 3299381 entries, [1 1 1 1 1 1 1 1 1 1 1 1] to [7 7 7 7 7 7 7 7 7 7 7 7]\n",
      "Columns: 40146 entries, BoysOfPatstaiThe4772 to MrsJamesMacInnesEdinburgh36755\n",
      "dtypes: Sparse[float16, nan](40146)\n",
      "memory usage: 51.6+ MB\n",
      "None\n"
     ]
    }
   ],
   "source": [
    "# convert pattern occurrences matrices to pandas DataFrames and write to file\n",
    "for idx, pattern_corpus in enumerate(data):\n",
    "    n = _pattern_lengths[idx]\n",
    "    pattern_corpus.convert_matrix_to_df(pattern_corpus.pattern_freq_matrix, write_output=True, filename=f\"{n}gram_patterns\")"
   ],
   "metadata": {
    "collapsed": false,
    "pycharm": {
     "name": "#%%\n"
    }
   }
  },
  {
   "cell_type": "code",
   "execution_count": 12,
   "outputs": [
    {
     "name": "stderr",
     "output_type": "stream",
     "text": [
      "/Users/dannydiamond/NUIG/Polifonia/repo/folk_ngram_analysis/folk_ngram_analysis/FoNN/pattern_locations.py:48: UserWarning: genfromtxt: Empty input file: \"/Users/dannydiamond/NUIG/Polifonia/thesession/feat_seq_corpus_may23/feature_sequence_data/duration_weighted/GoodForTheTongue6499.csv\"\n",
      "  return np.genfromtxt(filepath, dtype='int16', delimiter=',', usecols=target_col, skip_header=1)\n"
     ]
    }
   ],
   "source": [
    "# Run functions from pattern_locations.py to extract pattern locations data.\n",
    "# What we call 'locations' are the offset location or index of each pattern occurrence in the feature sequences\n",
    "# representing each tune in the corpus. For example, pattern [1 2 3 4] occurring in tune [1 2 3 4 5 1 2 3 4 5] will have\n",
    "# locations 0 and 5, representing the two indices at which the pattern's first element occurs in the tune sequence.\n",
    "\n",
    "# Note: The call below will automatically extract locations for all patterns between 4-6 elements in length, corresponding to\n",
    "# the range of pattern lengths defined above in 'n_vals' for which patterns were extracted.\n",
    "\n",
    "from FoNN.pattern_locations import *\n",
    "\n",
    "for n in _pattern_lengths:\n",
    "    results = {}\n",
    "    # call functions from FoNN.pattern_locations and run them:\n",
    "    in_files = read_file_paths(in_path)\n",
    "    for path in in_files:   # for all files in corpus\n",
    "        title = read_tune_title(path)                   # read titles\n",
    "        data = read_tune_data(path, feature)            # read feature sequence data\n",
    "        patterns = list(extract_patterns(data, n))      # extract n-gram patterns\n",
    "        locations = find_pattern_locations(patterns)    # calculate pattern locations\n",
    "        results[title] = dict(locations)                # return in nested dict per: {tune title: {pattern: locations}}\n",
    "\n",
    "    # store output as pickle file in out_path directory\n",
    "    f_name = f'{n}gram_locations.pkl'\n",
    "    locations_path = f\"{out_path}/{f_name}\"\n",
    "    with open(locations_path, 'wb') as f_out:\n",
    "        pickle.dump(results, f_out)"
   ],
   "metadata": {
    "collapsed": false,
    "pycharm": {
     "name": "#%%\n"
    }
   }
  },
  {
   "cell_type": "code",
   "execution_count": 12,
   "outputs": [],
   "source": [],
   "metadata": {
    "collapsed": false,
    "pycharm": {
     "name": "#%%\n"
    }
   }
  },
  {
   "cell_type": "code",
   "execution_count": null,
   "outputs": [],
   "source": [],
   "metadata": {
    "collapsed": false,
    "pycharm": {
     "name": "#%%\n"
    }
   }
  }
 ],
 "metadata": {
  "kernelspec": {
   "display_name": "Python 3",
   "language": "python",
   "name": "python3"
  },
  "language_info": {
   "codemirror_mode": {
    "name": "ipython",
    "version": 2
   },
   "file_extension": ".py",
   "mimetype": "text/x-python",
   "name": "python",
   "nbconvert_exporter": "python",
   "pygments_lexer": "ipython2",
   "version": "2.7.6"
  }
 },
 "nbformat": 4,
 "nbformat_minor": 0
}