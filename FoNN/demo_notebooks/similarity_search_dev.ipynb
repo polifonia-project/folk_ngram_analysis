{
 "cells": [
  {
   "cell_type": "markdown",
   "source": [
    "## Working notebook for FoNN similarity search tools\n",
    "# Curently testing similarity experiment 3, exploring variations on the 'motif' similarity method for n=6, 8 and 10."
   ],
   "metadata": {
    "collapsed": false,
    "pycharm": {
     "name": "#%% md\n"
    }
   }
  },
  {
   "cell_type": "markdown",
   "source": [
    "## Testing on single query tune"
   ],
   "metadata": {
    "collapsed": false,
    "pycharm": {
     "name": "#%% md\n"
    }
   }
  },
  {
   "cell_type": "code",
   "execution_count": 1,
   "outputs": [],
   "source": [
    "# imports\n",
    "\n",
    "import os\n",
    "# os.chdir('../')\n",
    "# print(os.getcwd())\n",
    "# print(os.listdir('../'))\n",
    "from FoNN.similarity_search import PatternSimilarityDev\n",
    "\n",
    "\n"
   ],
   "metadata": {
    "collapsed": false,
    "pycharm": {
     "name": "#%%\n"
    }
   }
  },
  {
   "cell_type": "markdown",
   "source": [
    "Initialize PatternSimilarityDev class object to conduct similarity searches for n=6 and Hamming distance"
   ],
   "metadata": {
    "collapsed": false,
    "pycharm": {
     "name": "#%% md\n"
    }
   }
  },
  {
   "cell_type": "code",
   "execution_count": 2,
   "outputs": [],
   "source": [
    "# set input corpus path\n",
    "test_corpus_path = '/Users/dannydiamond/NUIG/Polifonia/thesession/exp3_input_data_annotated_subset/motif'\n",
    "\n",
    "# set up PatternSimilarity class instance:\n",
    "\n",
    "# Args:\n",
    "# corpus_path -- set to root dir of input corpus\n",
    "# level -- sets level of input data granularity ('duration_weighted', 'note', or 'accent')\n",
    "# n -- sets length of representative search term patterns(s) extracted from query tune in 'motif' similarity method. Can be an integer value between 3 and 12.\n",
    "# query_tune -- Name of query tune for similarity search. Must be selected from the filenames from the original corpus, in this case '''../mtc_ann_corpus/krn''' dir.\n",
    "# feature -- the musical feature for which pattern data has been extracted. For a list of the 16 features extracted by FoNN's ingest pipeline, see NgramPatternCorpus.FEATURES or ./README.md.\n",
    "\n",
    "similarity_search = PatternSimilarityDev(\n",
    "    corpus_path=test_corpus_path,\n",
    "    level='accent',\n",
    "    n=6,\n",
    "    query_tune='LordMcDonalds507',\n",
    "    feature='diatonic_scale_degree'\n",
    ")\n",
    "# global settings\n",
    "similarity_search.include_query_tune_in_results = False"
   ],
   "metadata": {
    "collapsed": false,
    "pycharm": {
     "name": "#%%\n"
    }
   }
  },
  {
   "cell_type": "code",
   "execution_count": 3,
   "outputs": [
    {
     "name": "stdout",
     "output_type": "stream",
     "text": [
      "Query tune: LordMcDonalds507.\n",
      "Similarity search method: TFIDF\n",
      "                    Cosine similarity\n",
      "LordMcDonalds507             1.000000\n",
      "LordMcDonalds13430           0.750977\n",
      "LordMcDonalds13432           0.713867\n",
      "LordMcDonalds23658           0.629395\n",
      "LordMcDonalds30618           0.629395\n"
     ]
    }
   ],
   "source": [
    "similarity_search.run_similarity_search(method='tfidf')"
   ],
   "metadata": {
    "collapsed": false,
    "pycharm": {
     "name": "#%%\n"
    }
   }
  },
  {
   "cell_type": "markdown",
   "source": [
    "Run accent-level similarity search using 'motif' method in 'edit distance' mode, using custom-weighted Hamming distance as metric.\n",
    "Distance threshold is 0.5, allowing a single musically-consonant element to be different between the patterns under comparison.\n",
    "Query is tune excluded from results and no results normalization applied.\n",
    "Target 6-element representative patterns."
   ],
   "metadata": {
    "collapsed": false,
    "pycharm": {
     "name": "#%% md\n"
    }
   }
  },
  {
   "cell_type": "code",
   "execution_count": 4,
   "outputs": [
    {
     "name": "stdout",
     "output_type": "stream",
     "text": [
      "Query tune: LordMcDonalds507.\n",
      "Search method: motif\n",
      "Edit distance metric: custom_weighted_hamming\n",
      "                title  count\n",
      "0  LordMcDonalds13432    4.0\n",
      "1  LordMcDonalds13430    4.0\n",
      "2  LordMcDonalds30618    4.0\n",
      "3  LordMcDonalds23658    4.0\n",
      "4  LordMcDonalds13431    2.0\n"
     ]
    }
   ],
   "source": [
    "similarity_search.motif_edit_distance_filter_range = (0, 0.5)\n",
    "similarity_search.run_similarity_search(method='motif', motif_mode='edit_distance', motif_norm=False, edit_dist_metric='custom_weighted_hamming')"
   ],
   "metadata": {
    "collapsed": false,
    "pycharm": {
     "name": "#%%\n"
    }
   }
  },
  {
   "cell_type": "markdown",
   "source": [
    "Initialize PatternSimilarityDev class object to conduct similarity searches for n=6 and Levenshtein distance"
   ],
   "metadata": {
    "collapsed": false,
    "pycharm": {
     "name": "#%% md\n"
    }
   }
  },
  {
   "cell_type": "markdown",
   "source": [
    "Run accent-level similarity search using 'motif' method in 'edit distance' mode, using Hamming distance as metric.\n",
    "Distance threshold is 1, allowing a single element to be different between the patterns under comparison.\n",
    "Query is tune excluded from results and no results normalization applied.\n",
    "Target 6-element representative patterns."
   ],
   "metadata": {
    "collapsed": false,
    "pycharm": {
     "name": "#%% md\n"
    }
   }
  },
  {
   "cell_type": "code",
   "execution_count": 5,
   "outputs": [
    {
     "name": "stdout",
     "output_type": "stream",
     "text": [
      "Query tune: LordMcDonalds507.\n",
      "Search method: motif\n",
      "Edit distance metric: hamming\n",
      "                title  count\n",
      "0  LordMcDonalds13432    9.0\n",
      "1  LordMcDonalds13430    9.0\n",
      "2  LordMcDonalds30618    9.0\n",
      "3  LordMcDonalds23658    9.0\n",
      "4  LordMcDonalds13431    5.0\n"
     ]
    }
   ],
   "source": [
    "similarity_search.motif_edit_distance_filter_range = (0, 1)\n",
    "similarity_search.run_similarity_search(method='motif', motif_mode='edit_distance', motif_norm=False, edit_dist_metric='hamming')"
   ],
   "metadata": {
    "collapsed": false,
    "pycharm": {
     "name": "#%%\n"
    }
   }
  },
  {
   "cell_type": "code",
   "execution_count": 6,
   "outputs": [],
   "source": [
    "# TODO: WH and H composite mode"
   ],
   "metadata": {
    "collapsed": false,
    "pycharm": {
     "name": "#%%\n"
    }
   }
  },
  {
   "cell_type": "code",
   "execution_count": 7,
   "outputs": [],
   "source": [
    "# set input corpus path\n",
    "test_corpus_path = '/Users/dannydiamond/NUIG/Polifonia/thesession/exp3_input_data_annotated_subset/motif'\n",
    "\n",
    "# set up PatternSimilarity class instance:\n",
    "\n",
    "# Args:\n",
    "# corpus_path -- set to root dir of input corpus\n",
    "# level -- sets level of input data granularity ('duration_weighted', 'note', or 'accent')\n",
    "# n -- sets length of representative search term patterns(s) extracted from query tune in 'motif' similarity method. Can be an integer value between 3 and 12.\n",
    "# query_tune -- Name of query tune for similarity search. Must be selected from the filenames from the original corpus, in this case '''../mtc_ann_corpus/krn''' dir.\n",
    "# feature -- the musical feature for which pattern data has been extracted. For a list of the 16 features extracted by FoNN's ingest pipeline, see NgramPatternCorpus.FEATURES or ./README.md.\n",
    "\n",
    "similarity_search2 = PatternSimilarityDev(\n",
    "    corpus_path=test_corpus_path,\n",
    "    level='accent',\n",
    "    n=6,\n",
    "    query_tune='LordMcDonalds507',\n",
    "    feature='diatonic_scale_degree'\n",
    ")\n"
   ],
   "metadata": {
    "collapsed": false,
    "pycharm": {
     "name": "#%%\n"
    }
   }
  },
  {
   "cell_type": "markdown",
   "source": [
    "Global settings for this test run: exclude query tune from results"
   ],
   "metadata": {
    "collapsed": false,
    "pycharm": {
     "name": "#%% md\n"
    }
   }
  },
  {
   "cell_type": "code",
   "execution_count": 8,
   "outputs": [],
   "source": [
    "similarity_search2.include_query_tune_in_results = False"
   ],
   "metadata": {
    "collapsed": false,
    "pycharm": {
     "name": "#%%\n"
    }
   }
  },
  {
   "cell_type": "markdown",
   "source": [
    "Run accent-level similarity search using 'motif' method in 'edit distance' mode, using weighted Levenshtein distance as metric.\n",
    "Distance threshold is 1, allowing a single element to be different between the patterns under comparison.\n",
    "Query is tune excluded from results and no results normalization applied.\n",
    "Target 6-element representative patterns."
   ],
   "metadata": {
    "collapsed": false,
    "pycharm": {
     "name": "#%% md\n"
    }
   }
  },
  {
   "cell_type": "code",
   "execution_count": 9,
   "outputs": [
    {
     "name": "stdout",
     "output_type": "stream",
     "text": [
      "Query tune: LordMcDonalds507.\n",
      "Search method: motif\n",
      "Edit distance metric: custom_weighted_levenshtein\n",
      "                title  count\n",
      "0  LordMcDonalds30618   21.0\n",
      "1  LordMcDonalds23658   21.0\n",
      "2  LordMcDonalds13432   20.0\n",
      "3  LordMcDonalds13430   20.0\n",
      "4  LordMcDonalds13431   14.0\n"
     ]
    }
   ],
   "source": [
    "similarity_search2.motif_edit_distance_filter_range = (0, .5)\n",
    "similarity_search2.run_similarity_search(method='motif', motif_mode='edit_distance', motif_norm=False, edit_dist_metric='custom_weighted_levenshtein')"
   ],
   "metadata": {
    "collapsed": false,
    "pycharm": {
     "name": "#%%\n"
    }
   }
  },
  {
   "cell_type": "markdown",
   "source": [
    "Run accent-level similarity search using 'motif' method in 'edit distance' mode, using Levenshtein distance as metric.\n",
    "Levenshtein threshold is 1, allowing a single element to be different between the patterns under comparison.\n",
    "Query is tune excluded from results and no results normalization applied.\n",
    "Target 6-element representative patterns."
   ],
   "metadata": {
    "collapsed": false,
    "pycharm": {
     "name": "#%% md\n"
    }
   }
  },
  {
   "cell_type": "code",
   "execution_count": 10,
   "outputs": [
    {
     "name": "stdout",
     "output_type": "stream",
     "text": [
      "Query tune: LordMcDonalds507.\n",
      "Search method: motif\n",
      "Edit distance metric: levenshtein\n",
      "                title  count\n",
      "0  LordMcDonalds30618   27.0\n",
      "1  LordMcDonalds13432   27.0\n",
      "2  LordMcDonalds13430   27.0\n",
      "3  LordMcDonalds23658   27.0\n",
      "4  LordMcDonalds13431   15.0\n"
     ]
    }
   ],
   "source": [
    "similarity_search2.motif_edit_distance_filter_range = (0, 1)\n",
    "similarity_search2.run_similarity_search(method='motif', motif_mode='edit_distance', motif_norm=False, edit_dist_metric='levenshtein')"
   ],
   "metadata": {
    "collapsed": false,
    "pycharm": {
     "name": "#%%\n"
    }
   }
  },
  {
   "cell_type": "markdown",
   "source": [
    "Run accent-level similarity search using 'motif' method in 'exact' mode with query tune excluded from results and no results normalization.\n"
   ],
   "metadata": {
    "collapsed": false,
    "pycharm": {
     "name": "#%% md\n"
    }
   }
  },
  {
   "cell_type": "code",
   "execution_count": 11,
   "outputs": [
    {
     "name": "stdout",
     "output_type": "stream",
     "text": [
      "Query tune: LordMcDonalds507.\n",
      "Search method: motif\n",
      "Edit distance metric: levenshtein\n",
      "                title  count\n",
      "0  LordMcDonalds13432    4.0\n",
      "1  LordMcDonalds13430    4.0\n",
      "2  LordMcDonalds30618    4.0\n",
      "3  LordMcDonalds23658    4.0\n",
      "4  LordMcDonalds13431    2.0\n"
     ]
    }
   ],
   "source": [
    "similarity_search2.run_similarity_search(method='motif', motif_mode='exact', motif_norm=False)\n",
    "# TODO: Results formatting: 'levenshtein' -> 'exact'"
   ],
   "metadata": {
    "collapsed": false,
    "pycharm": {
     "name": "#%%\n"
    }
   }
  },
  {
   "cell_type": "markdown",
   "source": [
    "Run accent-level similarity search using 'motif' method in 'composite' mode with query tune excluded from results and no results normalization.\n",
    "Edit distance is Levenshtein filter range is adjusted to avoid duplication of exact matches.\n",
    "Weighting factor of 1.5 applied to count, boosting importance of exact matches"
   ],
   "metadata": {
    "collapsed": false,
    "pycharm": {
     "name": "#%% md\n"
    }
   }
  },
  {
   "cell_type": "code",
   "execution_count": 12,
   "outputs": [
    {
     "name": "stdout",
     "output_type": "stream",
     "text": [
      "Query tune: LordMcDonalds507.\n",
      "Search method: motif\n",
      "Edit distance metric: levenshtein\n",
      "                title  count\n",
      "0  LordMcDonalds13432   29.0\n",
      "1  LordMcDonalds23658   29.0\n",
      "2  LordMcDonalds13430   29.0\n",
      "3  LordMcDonalds30618   29.0\n",
      "4  LordMcDonalds13431   16.0\n"
     ]
    },
    {
     "name": "stderr",
     "output_type": "stream",
     "text": [
      "/Users/dannydiamond/.pyenv/versions/3.8.7/lib/python3.8/site-packages/swifter/swifter.py:87: UserWarning: This pandas object has duplicate indices, and swifter may not be able to improve performance. Consider resetting the indices with `df.reset_index(drop=True)`.\n",
      "  warnings.warn(\n"
     ]
    }
   ],
   "source": [
    "similarity_search2.motif_count_weighting_factor = 1.5\n",
    "similarity_search2.motif_edit_distance_filter_range = (0.1, 1)\n",
    "similarity_search2.run_similarity_search(method='motif', motif_mode='composite', motif_norm=False, metric='levenshtein')"
   ],
   "metadata": {
    "collapsed": false,
    "pycharm": {
     "name": "#%%\n"
    }
   }
  },
  {
   "cell_type": "code",
   "execution_count": 13,
   "outputs": [],
   "source": [
    "# TODO: WL composite mode"
   ],
   "metadata": {
    "collapsed": false,
    "pycharm": {
     "name": "#%%\n"
    }
   }
  },
  {
   "cell_type": "markdown",
   "source": [
    "Run similarity search using 'incipit and cadence' method, with default Levenshtein distance metric."
   ],
   "metadata": {
    "collapsed": false,
    "pycharm": {
     "name": "#%% md\n"
    }
   }
  },
  {
   "cell_type": "code",
   "execution_count": 14,
   "outputs": [],
   "source": [
    "# similarity_search.run_similarity_search(mode='incipit_and_cadence', edit_dist_metric='levenshtein')\n",
    "#\n",
    "# # alternate edit distance metrics can be selected as follows:\n",
    "# # Hamming distance\n",
    "# similarity_search.run_similarity_search(mode='incipit_and_cadence', edit_dist_metric='hamming')\n",
    "# # custom-weighted Hamming distance\n",
    "# similarity_search.run_similarity_search(mode='incipit_and_cadence', edit_dist_metric='custom_weighted_hamming')"
   ],
   "metadata": {
    "collapsed": false,
    "pycharm": {
     "name": "#%%\n"
    }
   }
  },
  {
   "cell_type": "markdown",
   "source": [],
   "metadata": {
    "collapsed": false,
    "pycharm": {
     "name": "#%% md\n"
    }
   }
  }
 ],
 "metadata": {
  "kernelspec": {
   "display_name": "Python 3",
   "language": "python",
   "name": "python3"
  },
  "language_info": {
   "codemirror_mode": {
    "name": "ipython",
    "version": 2
   },
   "file_extension": ".py",
   "mimetype": "text/x-python",
   "name": "python",
   "nbconvert_exporter": "python",
   "pygments_lexer": "ipython2",
   "version": "2.7.6"
  }
 },
 "nbformat": 4,
 "nbformat_minor": 0
}