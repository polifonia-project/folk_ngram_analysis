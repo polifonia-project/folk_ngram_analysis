{
 "cells": [
  {
   "cell_type": "markdown",
   "source": [
    "##  Demo notebook using FoNN pattern extraction tools to calculate a pairwise TF-IDF vector Cosine similarity matrix between all tunes in the corpus."
   ],
   "metadata": {
    "collapsed": false,
    "pycharm": {
     "name": "#%% md\n"
    }
   }
  },
  {
   "cell_type": "markdown",
   "source": [
    "Note: Running this notebook in full is a requirement for the 'TF-IDF' similarity method, as is '''setup_pattern_corpus_demo.py'''."
   ],
   "metadata": {
    "collapsed": false,
    "pycharm": {
     "name": "#%% md\n"
    }
   }
  },
  {
   "cell_type": "code",
   "execution_count": 2,
   "outputs": [],
   "source": [
    "# imports\n",
    "from FoNN.pattern_extraction import NgramPatternCorpus"
   ],
   "metadata": {
    "collapsed": false,
    "pycharm": {
     "name": "#%%\n"
    }
   }
  },
  {
   "cell_type": "markdown",
   "source": [
    "Setup NgramPatternCorpus class instance to extract and store patterns from feature sequence data."
   ],
   "metadata": {
    "collapsed": false,
    "pycharm": {
     "name": "#%% md\n"
    }
   }
  },
  {
   "cell_type": "code",
   "execution_count": 3,
   "outputs": [
    {
     "name": "stderr",
     "output_type": "stream",
     "text": [
      "Reading input data: 100%|██████████| 360/360 [00:00<00:00, 1330.52it/s]\n",
      "Formatting data: 100%|██████████| 360/360 [00:00<00:00, 206785.74it/s]"
     ]
    },
    {
     "name": "stdout",
     "output_type": "stream",
     "text": [
      "Process completed.\n"
     ]
    },
    {
     "name": "stderr",
     "output_type": "stream",
     "text": [
      "\n"
     ]
    }
   ],
   "source": [
    "# define paths\n",
    "\n",
    "# 'inpath' must point to a directory of feature sequence data csv files extracted from the corpus via feature_extraction_demo.ipynb.\n",
    "# The pattern extraction class (FoNN.pattern_extraction.NgramPatternCorpus) will auto-detect the level of input data representation (i.e. 'note', 'accent', or 'duration_weighted' from the filepath provided to 'inpath' var.)\n",
    "inpath = '../mtc_ann_corpus/feature_sequence_data/duration_weighted'\n",
    "# the 'outpath' location may be changed if desired, but please retain the convention of locating these files in a dir per /[corpus name]/pattern_corpus/[level] to retain compatibility with ../FoNN/similarity_search.py, which is hard-coded took look in this location for corpus pattern data.\n",
    "outpath = '../mtc_ann_corpus/pattern_corpus/duration_weighted'\n",
    "# define n_vals variable as tuple containing min and max pattern lengths for which patterns will be extracted. Allowable values range from 3 to 16.\n",
    "# In our experimental inputs for the 'TF-IDF' similarity method, we standardise on (6, 12), extracting all patterns between 6 and 12 elements in length, but other ranges are permissible if desired, up to a maximum range of (3, 16).\n",
    "n_vals = (6, 12)\n",
    "# setup NgramPatternCorpus instance for MTC-ANN corpus:\n",
    "# Args:\n",
    "# 'in_dir' and 'out_dir' -- map to in and out paths defined above.\n",
    "# 'feature' -- the target musical feature for which patterns will be extracted.\n",
    "# 16 features are available; names of all feature are accessible by reading NgramPatternCorpus.FEATURES, are listed in ./README.md, and in feature_extraction_tools.py docstring.\n",
    "\n",
    "# In this example we are extracting duration-weighted note-level diatonic scale degree patterns of 6-12 elements in length from the MTC-ANN corpus.\n",
    "mtc_ann_pattern_corpus = NgramPatternCorpus(in_dir=inpath, out_dir=outpath, feature='diatonic_scale_degree', n_vals=n_vals)"
   ],
   "metadata": {
    "collapsed": false,
    "pycharm": {
     "name": "#%%\n"
    }
   }
  },
  {
   "cell_type": "markdown",
   "source": [
    "Extract all tune titles from corpus, store as NgramPatternCorpus.titles attr"
   ],
   "metadata": {
    "collapsed": false,
    "pycharm": {
     "name": "#%% md\n"
    }
   }
  },
  {
   "cell_type": "code",
   "execution_count": 4,
   "outputs": [],
   "source": [
    "# save tune titles to 'titles' attr and write to file\n",
    "mtc_ann_pattern_corpus.save_tune_titles_to_file()"
   ],
   "metadata": {
    "collapsed": false,
    "pycharm": {
     "name": "#%%\n"
    }
   }
  },
  {
   "cell_type": "markdown",
   "source": [
    "One-step call to perform two related tasks:\n",
    "1. Extract all n-gram patterns of user-selected length which occur at least once in the corpus. Store as NgramPatternCorpus.patterns attr and write to file.\n",
    "2. Count occurrences of these patterns in all tunes in corpus and store in a sparse matrix as NgramPatternCorpus.pattern_freq_matrix and write to file.\n",
    "attr."
   ],
   "metadata": {
    "collapsed": false,
    "pycharm": {
     "name": "#%% md\n"
    }
   }
  },
  {
   "cell_type": "code",
   "execution_count": 5,
   "outputs": [],
   "source": [
    "# extract all patterns via n-grams; populate pattern frequency matrix\n",
    "mtc_ann_pattern_corpus.create_pattern_frequency_matrix(write_output=False)"
   ],
   "metadata": {
    "collapsed": false,
    "pycharm": {
     "name": "#%%\n"
    }
   }
  },
  {
   "cell_type": "markdown",
   "source": [
    "Print corpus info: (via custom NgramPatternCorpus.__repr__)"
   ],
   "metadata": {
    "collapsed": false,
    "pycharm": {
     "name": "#%% md\n"
    }
   }
  },
  {
   "cell_type": "code",
   "execution_count": 6,
   "outputs": [
    {
     "name": "stdout",
     "output_type": "stream",
     "text": [
      "\n",
      "Corpus name: mtc_ann_corpus\n",
      "Level: note-level (duration-weighted)\n",
      "Input directory: ../mtc_ann_corpus/feature_sequence_data/duration_weighted\n",
      "Corpus contains 360 tunes.\n",
      "Number of patterns extracted: 10154\n",
      "\n"
     ]
    }
   ],
   "source": [
    "# print corpus info\n",
    "print(mtc_ann_pattern_corpus)"
   ],
   "metadata": {
    "collapsed": false,
    "pycharm": {
     "name": "#%%\n"
    }
   }
  },
  {
   "cell_type": "markdown",
   "source": [
    "Transform pattern occurrence counts in NgramPatternCorpus.pattern_freq_matrix into TF-IDF values. Store the output matrix as NgramPatternCorpus.pattern_tfidf_matrix attr."
   ],
   "metadata": {
    "collapsed": false,
    "pycharm": {
     "name": "#%% md\n"
    }
   }
  },
  {
   "cell_type": "code",
   "execution_count": 7,
   "outputs": [],
   "source": [
    "# convert values in pattern frequency matrix from raw pattern occurrence counts to TF-IDF values.\n",
    "mtc_ann_pattern_corpus.calculate_tfidf_vals(write_output=False)"
   ],
   "metadata": {
    "collapsed": false,
    "pycharm": {
     "name": "#%%\n"
    }
   }
  },
  {
   "cell_type": "markdown",
   "source": [
    "Precalculate the \"TFIDF\" similarity results: create a pairwise Cosine similarity matrix between the pattern TF-IDF vectors of all tunes in the corpus, and write output to file.\n"
   ],
   "metadata": {
    "collapsed": false,
    "pycharm": {
     "name": "#%% md\n"
    }
   }
  },
  {
   "cell_type": "code",
   "execution_count": 7,
   "outputs": [],
   "source": [
    "# generate TF-IDF vector Cosine similarity matrix\n",
    "mtc_ann_pattern_corpus.calculate_tfidf_vector_cos_similarity()"
   ],
   "metadata": {
    "collapsed": false,
    "pycharm": {
     "name": "#%%\n"
    }
   }
  },
  {
   "cell_type": "markdown",
   "source": [
    "NOTE: All files outputted via pattern extraction pipeline are stored in automatically-generated ```./pattern_corpus``` dir under the corpus root dir. They are input requirements for the similarity search tools in FoNN.similarity_search.PatternSimilarity class, which are illustrated in ./similarity_search_demo.ipynb notebook."
   ],
   "metadata": {
    "collapsed": false,
    "pycharm": {
     "name": "#%% md\n"
    }
   }
  },
  {
   "cell_type": "markdown",
   "source": [],
   "metadata": {
    "collapsed": false,
    "pycharm": {
     "name": "#%% md\n"
    }
   }
  }
 ],
 "metadata": {
  "kernelspec": {
   "display_name": "Python 3",
   "language": "python",
   "name": "python3"
  },
  "language_info": {
   "codemirror_mode": {
    "name": "ipython",
    "version": 2
   },
   "file_extension": ".py",
   "mimetype": "text/x-python",
   "name": "python",
   "nbconvert_exporter": "python",
   "pygments_lexer": "ipython2",
   "version": "2.7.6"
  }
 },
 "nbformat": 4,
 "nbformat_minor": 0
}