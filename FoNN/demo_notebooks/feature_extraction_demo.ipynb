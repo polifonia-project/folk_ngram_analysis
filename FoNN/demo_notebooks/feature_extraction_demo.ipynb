{
 "cells": [
  {
   "cell_type": "markdown",
   "source": [
    "## Demo notebook for FoNN feature sequence extraction tools"
   ],
   "metadata": {
    "collapsed": false,
    "pycharm": {
     "name": "#%% md\n"
    }
   }
  },
  {
   "cell_type": "markdown",
   "source": [
    "Imports"
   ],
   "metadata": {
    "collapsed": false,
    "pycharm": {
     "name": "#%% md\n"
    }
   }
  },
  {
   "cell_type": "code",
   "execution_count": 1,
   "outputs": [],
   "source": [
    "# import required classes from local FoNN module\n",
    "from FoNN.feature_sequence_extraction_tools import Corpus, Tune"
   ],
   "metadata": {
    "collapsed": false,
    "pycharm": {
     "name": "#%%\n"
    }
   }
  },
  {
   "cell_type": "markdown",
   "source": [
    "Step 1: Load test tune from input corpus; extract root and primary feature sequence data"
   ],
   "metadata": {
    "collapsed": false,
    "pycharm": {
     "name": "#%% md\n"
    }
   }
  },
  {
   "cell_type": "code",
   "execution_count": 2,
   "outputs": [
    {
     "name": "stdout",
     "output_type": "stream",
     "text": [
      "Title: NLB075057_01\n",
      "Note-level primary feature sequence data:\n",
      "   midi_note_num  diatonic_note_num  chromatic_pitch_class  beat_strength  \\\n",
      "0             74                 37                      2            0.0   \n",
      "1             74                 37                      2            0.0   \n",
      "2             74                 37                      2            0.0   \n",
      "3             78                 39                      6            0.0   \n",
      "4             76                 38                      4            0.0   \n",
      "\n",
      "   bar_num  offset  duration  velocity  \n",
      "0        1     0.0       0.5         0  \n",
      "1        1     0.5       0.5         0  \n",
      "2        1     1.0       1.0         0  \n",
      "3        1     2.0       1.0         0  \n",
      "4        1     3.0       2.0         0  \n"
     ]
    }
   ],
   "source": [
    "# local path to MTC-ANN corpus\n",
    "corpus_path = '../mtc_ann_corpus/krn'\n",
    "# test file\n",
    "in_file = 'NLB075057_01.krn'\n",
    "\n",
    "# single-tune MIDI ingest test\n",
    "#  initialize Tune class object\n",
    "test_tune = Tune(corpus_path + '/' + in_file)\n",
    "# print title (extracted from filename)\n",
    "print(f\"Title: {test_tune.title}\")\n",
    "# extract root of input music document in diatonic and chromatic pitch class formats\n",
    "test_tune.extract_root()\n",
    "# extract primary feature sequence data\n",
    "test_tune.extract_primary_feature_sequences()\n",
    "print(\"Note-level primary feature sequence data:\")\n",
    "print(test_tune.feat_seq.head())"
   ],
   "metadata": {
    "collapsed": false,
    "pycharm": {
     "name": "#%%\n"
    }
   }
  },
  {
   "cell_type": "markdown",
   "source": [
    "Step 2. Repeat for entire corpus"
   ],
   "metadata": {
    "collapsed": false,
    "pycharm": {
     "name": "#%% md\n"
    }
   }
  },
  {
   "cell_type": "code",
   "execution_count": null,
   "outputs": [
    {
     "name": "stderr",
     "output_type": "stream",
     "text": [
      "Extracting primary feature sequence data:  12%|█▏        | 43/360 [00:02<00:21, 14.70it/s]"
     ]
    }
   ],
   "source": [
    "# initialize corpus object\n",
    "mtc_ann_corpus = Corpus(corpus_path)\n",
    "# Corpus.setup_corpus_iteratively() populates corpus tune titles, extracts primary feature sequence data and root for all music score files in input dir.\n",
    "mtc_ann_corpus.setup_corpus_iteratively()\n",
    "# Print sample output:\n",
    "print(f\"Title: {mtc_ann_corpus.tunes[0].title}\")\n",
    "print(\"Note-level feature sequence output\")\n",
    "print(mtc_ann_corpus.tunes[0].feat_seq.head())\n",
    "print(f\"Corpus contains {len(mtc_ann_corpus.tunes)} tunes.\")"
   ],
   "metadata": {
    "collapsed": false,
    "pycharm": {
     "name": "#%%\n"
    }
   }
  },
  {
   "cell_type": "markdown",
   "source": [
    "Step 3. Extract secondary feature sequence data"
   ],
   "metadata": {
    "collapsed": false,
    "pycharm": {
     "name": "#%% md\n"
    }
   }
  },
  {
   "cell_type": "code",
   "execution_count": null,
   "outputs": [],
   "source": [
    "# Note: calls below can be commented-out if a full set of input features is not necessary/desired.\n",
    "\n",
    "# Add relative chromatic & diatonic pitch:\n",
    "mtc_ann_corpus.extract_relative_chromatic_pitch_seqs()\n",
    "mtc_ann_corpus.extract_relative_diatonic_pitch_seqs()\n",
    "# Add chromatic & diatonic scale degrees:\n",
    "mtc_ann_corpus.extract_chromatic_scale_degree_seqs()\n",
    "mtc_ann_corpus.extract_diatonic_scale_degree_seqs()\n",
    "# Add chromatic & diatonic intervals:\n",
    "mtc_ann_corpus.extract_chromatic_intervals()\n",
    "mtc_ann_corpus.extract_diatonic_intervals()\n",
    "print(mtc_ann_corpus.tunes[0].title)\n",
    "# Print sample output:\n",
    "print(f\"Title: {mtc_ann_corpus.tunes[0].title}\")\n",
    "print(\"Note-level feature sequence output\")\n",
    "print(mtc_ann_corpus.tunes[0].feat_seq.head())\n",
    "print(f\"Corpus contains {len(mtc_ann_corpus.tunes)} tunes.\")"
   ],
   "metadata": {
    "collapsed": false,
    "pycharm": {
     "name": "#%%\n"
    }
   }
  },
  {
   "cell_type": "markdown",
   "source": [
    "Step 4. Filter sequences to create 'accent-level' representation"
   ],
   "metadata": {
    "collapsed": false,
    "pycharm": {
     "name": "#%% md\n"
    }
   }
  },
  {
   "cell_type": "code",
   "execution_count": null,
   "outputs": [],
   "source": [
    "# This step is not applied to the MTC-ANN corpus as it was conceived specifically for the study of Irish dance tune melodies.\n",
    "# The shorter song melodies in MTC-ANN are not necessarily suited to analysis at this higher level of granularity.\n",
    "\n",
    " # To apply accent-level filtering, please call Corpus.filter_feat_seq() method as instructed below:\n",
    " # For corpora originating in ABC Notation format: Corpus.filter_feat_seq_accents(thresh=80, by='velocity')\n",
    " # For all other corpora: Corpus.filter_feat_seq(self, thresh=0.5, by='beat_strength')"
   ],
   "metadata": {
    "collapsed": false,
    "pycharm": {
     "name": "#%%\n"
    }
   }
  },
  {
   "cell_type": "markdown",
   "source": [
    "Step 5. Add Parsons code sequence data"
   ],
   "metadata": {
    "collapsed": false,
    "pycharm": {
     "name": "#%% md\n"
    }
   }
  },
  {
   "cell_type": "code",
   "execution_count": null,
   "outputs": [],
   "source": [
    "# Note: If accent-level sequence filtering is applied, Parsons code must be calculated after filtration to ensure accuracy of the accent-level output sequences.\n",
    "\n",
    "# Add Parsons code (simple contour)\n",
    "mtc_ann_corpus.extract_parsons_codes()\n",
    "print(mtc_ann_corpus.tunes[0].title)\n",
    "# Print sample output:\n",
    "print(f\"Title: {mtc_ann_corpus.tunes[0].title}\")\n",
    "print(\"Note-level feature sequence output\")\n",
    "print(mtc_ann_corpus.tunes[0].feat_seq.head())\n",
    "print(f\"Corpus contains {len(mtc_ann_corpus.tunes)} tunes.\")"
   ],
   "metadata": {
    "collapsed": false,
    "pycharm": {
     "name": "#%%\n"
    }
   }
  },
  {
   "cell_type": "markdown",
   "source": [
    "Step 6: Apply duration-weighting to feature sequence data"
   ],
   "metadata": {
    "collapsed": false,
    "pycharm": {
     "name": "#%% md\n"
    }
   }
  },
  {
   "cell_type": "code",
   "execution_count": null,
   "outputs": [],
   "source": [
    "# Step 1: select features for inclusion\n",
    "\n",
    "# select all available features for input into duration-weighting process\n",
    "features = [col for col in mtc_ann_corpus.tunes[0].feat_seq.columns]\n",
    "# the 'duration' feature is no longer of use after duration-weighting and can be removed\n",
    "features.remove('duration')\n",
    "# print names of all remaining features for inclusion in duration-weighting process\n",
    "print(\"Input features for duration weighting:\")\n",
    "for feat in features:\n",
    "    print(feat)\n",
    "\n",
    "# Note: to apply duration-weighting to a custom subset of features, please select from the list of feature names printed below and pass in a list or tuple to mtc_ann_corpus.extract_duration_weighted_feat_seqs() as 'features' arg."
   ],
   "metadata": {
    "collapsed": false,
    "pycharm": {
     "name": "#%%\n"
    }
   }
  },
  {
   "cell_type": "markdown",
   "source": [
    "Step 7. Write output data to file"
   ],
   "metadata": {
    "collapsed": false,
    "pycharm": {
     "name": "#%% md\n"
    }
   }
  },
  {
   "cell_type": "code",
   "execution_count": null,
   "outputs": [],
   "source": [
    "# Run duration-weighting\n",
    "mtc_ann_corpus.extract_duration_weighted_feat_seqs(features=features)\n",
    "# Print sample output:\n",
    "print(f\"Title: {mtc_ann_corpus.tunes[0].title}\")\n",
    "print(\"Note-level feature sequence output\")\n",
    "print(mtc_ann_corpus.tunes[0].feat_seq.head())\n",
    "print(f\"Duration-weighted corpus contains {len(mtc_ann_corpus.tunes)} tunes.\")"
   ],
   "metadata": {
    "collapsed": false,
    "pycharm": {
     "name": "#%%\n"
    }
   }
  },
  {
   "cell_type": "code",
   "execution_count": null,
   "outputs": [],
   "source": [
    "# set outpath\n",
    "mtc_ann_corpus.out_path = '../mtc_ann_corpus/feature_sequence_data'\n",
    "# write output to csv\n",
    "mtc_ann_corpus.save_feat_seq_data_to_csv()"
   ],
   "metadata": {
    "collapsed": false,
    "pycharm": {
     "name": "#%%\n"
    }
   }
  },
  {
   "cell_type": "code",
   "execution_count": null,
   "outputs": [],
   "source": [],
   "metadata": {
    "collapsed": false,
    "pycharm": {
     "name": "#%%\n"
    }
   }
  }
 ],
 "metadata": {
  "kernelspec": {
   "display_name": "Python 3",
   "language": "python",
   "name": "python3"
  },
  "language_info": {
   "codemirror_mode": {
    "name": "ipython",
    "version": 2
   },
   "file_extension": ".py",
   "mimetype": "text/x-python",
   "name": "python",
   "nbconvert_exporter": "python",
   "pygments_lexer": "ipython2",
   "version": "2.7.6"
  }
 },
 "nbformat": 4,
 "nbformat_minor": 0
}