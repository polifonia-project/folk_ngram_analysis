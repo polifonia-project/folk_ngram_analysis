{
 "cells": [
  {
   "cell_type": "markdown",
   "source": [
    "## Demo notebook for FoNN similarity search tools"
   ],
   "metadata": {
    "collapsed": false,
    "pycharm": {
     "name": "#%% md\n"
    }
   }
  },
  {
   "cell_type": "markdown",
   "source": [],
   "metadata": {
    "collapsed": false,
    "pycharm": {
     "name": "#%% md\n"
    }
   }
  },
  {
   "cell_type": "code",
   "execution_count": 1,
   "outputs": [],
   "source": [
    "# imports\n",
    "\n",
    "import os\n",
    "\n",
    "from FoNN.similarity_search import PatternSimilarity"
   ],
   "metadata": {
    "collapsed": false,
    "pycharm": {
     "name": "#%%\n"
    }
   }
  },
  {
   "cell_type": "markdown",
   "source": [
    "Initialize PatternSimilarity class object to conduct similarity searches"
   ],
   "metadata": {
    "collapsed": false,
    "pycharm": {
     "name": "#%% md\n"
    }
   }
  },
  {
   "cell_type": "code",
   "execution_count": 2,
   "outputs": [],
   "source": [
    "# set input corpus path\n",
    "mtc_ann_corpus_path = '../mtc_ann_corpus'\n",
    "\n",
    "# set up PatternSimilarity class instance:\n",
    "\n",
    "# Args:\n",
    "# corpus_path -- set to root dir of input corpus\n",
    "# level -- sets level of input data granularity ('duration_weighted', 'note', or 'accent')\n",
    "# n -- sets length of representative search term patterns(s) extracted from query tune in 'motif' similarity method. Can be an integer value between 3 and 12.\n",
    "# query_tune -- Name of query tune for similarity search. Must be selected from the filenames from the original corpus, in this case '''../mtc_ann_corpus/krn''' dir.\n",
    "# feature -- the musical feature for which pattern data has been extracted. For a list of the 16 features extracted by FoNN's ingest pipeline, see NgramPatternCorpus.FEATURES or ./README.md.\n",
    "\n",
    "similarity_search = PatternSimilarity(\n",
    "    corpus_path=mtc_ann_corpus_path,\n",
    "    level='duration_weighted',\n",
    "    n=5,\n",
    "    query_tune='NLB015569_01',\n",
    "    feature='diatonic_scale_degree'\n",
    ")"
   ],
   "metadata": {
    "collapsed": false,
    "pycharm": {
     "name": "#%%\n"
    }
   }
  },
  {
   "cell_type": "markdown",
   "source": [
    "Run similarity search using 'TFIDF' method."
   ],
   "metadata": {
    "collapsed": false,
    "pycharm": {
     "name": "#%% md\n"
    }
   }
  },
  {
   "cell_type": "code",
   "execution_count": 3,
   "outputs": [
    {
     "name": "stdout",
     "output_type": "stream",
     "text": [
      "Query tune: NLB015569_01.\n",
      "Similarity search mode: TFIDF\n",
      "              Cosine similarity\n",
      "NLB015569_01           1.000000\n",
      "NLB070089_01           0.107788\n",
      "NLB074769_02           0.092102\n",
      "NLB072311_01           0.085999\n",
      "NLB072883_01           0.083984\n"
     ]
    }
   ],
   "source": [
    "similarity_search.run_similarity_search(mode='tfidf')"
   ],
   "metadata": {
    "collapsed": false,
    "pycharm": {
     "name": "#%%\n"
    }
   }
  },
  {
   "cell_type": "markdown",
   "source": [
    "Run similarity search using 'motif' method."
   ],
   "metadata": {
    "collapsed": false,
    "pycharm": {
     "name": "#%% md\n"
    }
   }
  },
  {
   "cell_type": "code",
   "execution_count": 4,
   "outputs": [
    {
     "name": "stdout",
     "output_type": "stream",
     "text": [
      "Query tune: NLB015569_01.\n",
      "Search mode: motif (normalized)\n",
      "          title  normalized_count\n",
      "0  NLB071957_03             0.667\n",
      "1  NLB015569_01             0.532\n",
      "2  NLB075532_01             0.378\n",
      "3  NLB070089_01             0.279\n",
      "4  NLB072311_01             0.221\n"
     ]
    }
   ],
   "source": [
    "similarity_search.run_similarity_search('motif')"
   ],
   "metadata": {
    "collapsed": false,
    "pycharm": {
     "name": "#%%\n"
    }
   }
  },
  {
   "cell_type": "markdown",
   "source": [
    "Run similarity search using 'incipit and cadence' method, with default Levenshtein distance metric."
   ],
   "metadata": {
    "collapsed": false,
    "pycharm": {
     "name": "#%% md\n"
    }
   }
  },
  {
   "cell_type": "code",
   "execution_count": 5,
   "outputs": [
    {
     "name": "stdout",
     "output_type": "stream",
     "text": [
      "Query tune: NLB015569_01.\n",
      "Similarity search mode: incipit and cadence (Levenshtein distance)\n",
      "              Levenshtein distance\n",
      "NLB015569_01                     0\n",
      "NLB138219_01                     8\n",
      "NLB072886_01                     9\n",
      "NLB071666_01                    10\n",
      "NLB072886_02                    10\n",
      "Query tune: NLB015569_01.\n",
      "Similarity search mode: incipit and cadence (Hamming distance)\n",
      "              NLB015569_01\n",
      "NLB015569_01      0.000000\n",
      "NLB070089_01      0.302979\n",
      "NLB072311_01      0.363525\n",
      "NLB072946_01      0.424316\n",
      "NLB075635_01      0.515137\n",
      "Query tune: NLB015569_01.\n",
      "Similarity search mode: incipit and cadence (Custom Weighted Hamming distance)\n",
      "              Hamming distance (weighted)\n",
      "NLB015569_01                          0.0\n",
      "NLB138219_01                          9.0\n",
      "NLB072886_01                         12.0\n",
      "NLB071666_01                         12.0\n",
      "NLB071441_01                         13.0\n"
     ]
    }
   ],
   "source": [
    "similarity_search.run_similarity_search(mode='incipit_and_cadence', edit_dist_metric='levenshtein')\n",
    "\n",
    "# alternate edit distance metrics can be selected as follows:\n",
    "# Hamming distance\n",
    "similarity_search.run_similarity_search(mode='incipit_and_cadence', edit_dist_metric='hamming')\n",
    "# custom-weighted Hamming distance\n",
    "similarity_search.run_similarity_search(mode='incipit_and_cadence', edit_dist_metric='custom_weighted_hamming')"
   ],
   "metadata": {
    "collapsed": false,
    "pycharm": {
     "name": "#%%\n"
    }
   }
  },
  {
   "cell_type": "code",
   "execution_count": 5,
   "outputs": [],
   "source": [],
   "metadata": {
    "collapsed": false,
    "pycharm": {
     "name": "#%%\n"
    }
   }
  }
 ],
 "metadata": {
  "kernelspec": {
   "display_name": "Python 3",
   "language": "python",
   "name": "python3"
  },
  "language_info": {
   "codemirror_mode": {
    "name": "ipython",
    "version": 2
   },
   "file_extension": ".py",
   "mimetype": "text/x-python",
   "name": "python",
   "nbconvert_exporter": "python",
   "pygments_lexer": "ipython2",
   "version": "2.7.6"
  }
 },
 "nbformat": 4,
 "nbformat_minor": 0
}