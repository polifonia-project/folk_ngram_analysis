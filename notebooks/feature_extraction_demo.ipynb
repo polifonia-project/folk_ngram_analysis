{
 "cells": [
  {
   "cell_type": "markdown",
   "source": [
    "## Demo notebook for FoNN feature sequence extraction tools"
   ],
   "metadata": {
    "collapsed": false,
    "pycharm": {
     "name": "#%% md\n"
    }
   }
  },
  {
   "cell_type": "markdown",
   "source": [
    "Imports"
   ],
   "metadata": {
    "collapsed": false,
    "pycharm": {
     "name": "#%% md\n"
    }
   }
  },
  {
   "cell_type": "code",
   "execution_count": 1,
   "outputs": [],
   "source": [
    "# import required classes from local FoNN module\n",
    "from FoNN.feature_sequence_extraction_tools import Corpus, Tune"
   ],
   "metadata": {
    "collapsed": false,
    "pycharm": {
     "name": "#%%\n"
    }
   }
  },
  {
   "cell_type": "markdown",
   "source": [
    "Step 1: Load test tune from input corpus; extract root and primary feature sequence data"
   ],
   "metadata": {
    "collapsed": false,
    "pycharm": {
     "name": "#%% md\n"
    }
   }
  },
  {
   "cell_type": "code",
   "execution_count": 2,
   "outputs": [
    {
     "name": "stdout",
     "output_type": "stream",
     "text": [
      "Title: NLB075057_01\n",
      "Note-level primary feature sequence data:\n",
      "   midi_note_num  diatonic_note_num  chromatic_pitch_class  beat_strength  \\\n",
      "0             74                 37                      2            0.0   \n",
      "1             74                 37                      2            0.0   \n",
      "2             74                 37                      2            0.0   \n",
      "3             78                 39                      6            0.0   \n",
      "4             76                 38                      4            0.0   \n",
      "\n",
      "   bar_num  onset  duration  velocity  \n",
      "0        1    0.0       0.5         0  \n",
      "1        1    0.5       0.5         0  \n",
      "2        1    1.0       1.0         0  \n",
      "3        1    2.0       1.0         0  \n",
      "4        1    3.0       2.0         0  \n"
     ]
    }
   ],
   "source": [
    "# local path to MTC-ANN corpus\n",
    "corpus_path = '../mtc_ann_corpus/krn'\n",
    "# test file\n",
    "in_file = 'NLB075057_01.krn'\n",
    "\n",
    "# single-tune MIDI ingest test\n",
    "#  initialize Tune class object\n",
    "test_tune = Tune(corpus_path + '/' + in_file)\n",
    "# print title (extracted from filename)\n",
    "print(f\"Title: {test_tune.title}\")\n",
    "# extract root of input music document in diatonic and chromatic pitch class formats\n",
    "test_tune.extract_root()\n",
    "# extract primary feature sequence data\n",
    "test_tune.extract_primary_feature_sequences()\n",
    "print(\"Note-level primary feature sequence data:\")\n",
    "print(test_tune.feat_seq.head())"
   ],
   "metadata": {
    "collapsed": false,
    "pycharm": {
     "name": "#%%\n"
    }
   }
  },
  {
   "cell_type": "markdown",
   "source": [
    "Step 2. Repeat for entire corpus"
   ],
   "metadata": {
    "collapsed": false,
    "pycharm": {
     "name": "#%% md\n"
    }
   }
  },
  {
   "cell_type": "code",
   "execution_count": 3,
   "outputs": [
    {
     "name": "stderr",
     "output_type": "stream",
     "text": [
      "Extracting primary feature sequence data: 100%|██████████| 360/360 [00:11<00:00, 30.58it/s]"
     ]
    },
    {
     "name": "stdout",
     "output_type": "stream",
     "text": [
      "Title: NLB074840_01\n",
      "Note-level feature sequence output\n",
      "   midi_note_num  diatonic_note_num  chromatic_pitch_class  beat_strength  \\\n",
      "0             67                 33                      7           1.00   \n",
      "1             71                 35                     11           0.25   \n",
      "2             74                 37                      2           0.50   \n",
      "3             74                 37                      2           0.25   \n",
      "4             76                 38                      4           1.00   \n",
      "\n",
      "   bar_num  onset  duration  velocity  \n",
      "0        1    0.0       2.0         0  \n",
      "1        1    2.0       1.0         0  \n",
      "2        1    3.0       2.0         0  \n",
      "3        1    5.0       1.0         0  \n",
      "4        2    0.0       1.0         0  \n",
      "Corpus contains 360 tunes.\n"
     ]
    },
    {
     "name": "stderr",
     "output_type": "stream",
     "text": [
      "\n"
     ]
    }
   ],
   "source": [
    "# initialize corpus object\n",
    "mtc_ann_corpus = Corpus(corpus_path)\n",
    "# Corpus.setup_corpus_iteratively() populates corpus tune titles, extracts primary feature sequence data and root for all music files in input dir.\n",
    "mtc_ann_corpus.setup_corpus_iteratively()\n",
    "# Print sample output:\n",
    "print(f\"Title: {mtc_ann_corpus.tunes[0].title}\")\n",
    "print(\"Note-level feature sequence output\")\n",
    "print(mtc_ann_corpus.tunes[0].feat_seq.head())\n",
    "print(f\"Corpus contains {len(mtc_ann_corpus.tunes)} tunes.\")"
   ],
   "metadata": {
    "collapsed": false,
    "pycharm": {
     "name": "#%%\n"
    }
   }
  },
  {
   "cell_type": "markdown",
   "source": [
    "Step 3. Extract secondary feature sequence data"
   ],
   "metadata": {
    "collapsed": false,
    "pycharm": {
     "name": "#%% md\n"
    }
   }
  },
  {
   "cell_type": "code",
   "execution_count": 4,
   "outputs": [
    {
     "name": "stderr",
     "output_type": "stream",
     "text": [
      "Calculating relative chromatic pitch sequences: 100%|██████████| 360/360 [00:00<00:00, 1725.16it/s]\n",
      "Calculating relative diatonic pitch sequences: 100%|██████████| 360/360 [00:00<00:00, 1805.85it/s]\n",
      "Calculating chromatic scale degree sequences: 100%|██████████| 360/360 [00:00<00:00, 1867.36it/s]\n",
      "Calculating diatonic scale degree sequences: 100%|██████████| 360/360 [00:00<00:00, 1226.69it/s]\n",
      "Calculating chromatic interval sequences: 100%|██████████| 360/360 [00:00<00:00, 1324.83it/s]\n",
      "Calculating diatonic interval sequences: 100%|██████████| 360/360 [00:00<00:00, 1389.57it/s]\n",
      "Calculating cumulative Parsons code sequences: 100%|██████████| 360/360 [00:01<00:00, 242.13it/s]"
     ]
    },
    {
     "name": "stdout",
     "output_type": "stream",
     "text": [
      "NLB074840_01\n",
      "Title: NLB074840_01\n",
      "Note-level feature sequence output\n",
      "   midi_note_num  diatonic_note_num  chromatic_pitch_class  beat_strength  \\\n",
      "0             67                 33                      7           1.00   \n",
      "1             71                 35                     11           0.25   \n",
      "2             74                 37                      2           0.50   \n",
      "3             74                 37                      2           0.25   \n",
      "4             76                 38                      4           1.00   \n",
      "\n",
      "   bar_num  onset  duration  velocity  relative_chromatic_pitch  \\\n",
      "0        1    0.0       2.0         0                         0   \n",
      "1        1    2.0       1.0         0                         4   \n",
      "2        1    3.0       2.0         0                         7   \n",
      "3        1    5.0       1.0         0                         7   \n",
      "4        2    0.0       1.0         0                         9   \n",
      "\n",
      "   relative_diatonic_pitch  chromatic_scale_degree  diatonic_scale_degree  \\\n",
      "0                        0                       0                      1   \n",
      "1                        2                       4                      3   \n",
      "2                        4                       7                      5   \n",
      "3                        4                       7                      5   \n",
      "4                        5                       9                      6   \n",
      "\n",
      "   chromatic_interval  diatonic_interval  parsons_code  parsons_cumsum  \n",
      "0                   0                  0             0               0  \n",
      "1                   4                  2             1               1  \n",
      "2                   3                  2             1               2  \n",
      "3                   0                  0             0               2  \n",
      "4                   2                  1             1               3  \n",
      "Corpus contains 360 tunes.\n"
     ]
    },
    {
     "name": "stderr",
     "output_type": "stream",
     "text": [
      "\n"
     ]
    }
   ],
   "source": [
    "# Add relative chromatic & diatonic pitch:\n",
    "# TODO: Re-instate the two methods below!\n",
    "mtc_ann_corpus.extract_relative_chromatic_pitch_seqs()\n",
    "mtc_ann_corpus.extract_relative_diatonic_pitch_seqs()\n",
    "# Add chromatic & diatonic scale degrees:\n",
    "mtc_ann_corpus.extract_chromatic_scale_degree_seqs()\n",
    "mtc_ann_corpus.extract_diatonic_scale_degree_seqs()\n",
    "# Add chromatic & diatonic intervals:\n",
    "mtc_ann_corpus.extract_chromatic_intervals()\n",
    "mtc_ann_corpus.extract_diatonic_intervals()\n",
    "# Add Parsons code (simple contour)\n",
    "mtc_ann_corpus.extract_parsons_codes()\n",
    "print(mtc_ann_corpus.tunes[0].title)\n",
    "# Print sample output:\n",
    "print(f\"Title: {mtc_ann_corpus.tunes[0].title}\")\n",
    "print(\"Note-level feature sequence output\")\n",
    "print(mtc_ann_corpus.tunes[0].feat_seq.head())\n",
    "print(f\"Corpus contains {len(mtc_ann_corpus.tunes)} tunes.\")"
   ],
   "metadata": {
    "collapsed": false,
    "pycharm": {
     "name": "#%%\n"
    }
   }
  },
  {
   "cell_type": "markdown",
   "source": [
    "Step 4. Filter sequences to create 'accent-level' representation"
   ],
   "metadata": {
    "collapsed": false,
    "pycharm": {
     "name": "#%% md\n"
    }
   }
  },
  {
   "cell_type": "code",
   "execution_count": 5,
   "outputs": [],
   "source": [
    "# This step is not applied to the MTC-ANN corpus as it was conceived specifically for the study of dance tune melodies.\n",
    "# The shorter song melodies in MTC-ANN are not necessarily suited to analysis at this higher level of granularity.\n",
    "\n",
    " # To apply accent-level filtering, please call Corpus.filter_feat_seq() method as instructed below:\n",
    " # For corpora originating in ABC Notation format: Corpus.filter_feat_seq_accents(thresh=80, by='velocity')\n",
    " # For all other corpora: Corpus.filter_feat_seq(self, thresh=0.5, by='beat strength')"
   ],
   "metadata": {
    "collapsed": false,
    "pycharm": {
     "name": "#%%\n"
    }
   }
  },
  {
   "cell_type": "markdown",
   "source": [
    "Step 5. Add Parsons code sequence data"
   ],
   "metadata": {
    "collapsed": false,
    "pycharm": {
     "name": "#%% md\n"
    }
   }
  },
  {
   "cell_type": "code",
   "execution_count": 6,
   "outputs": [
    {
     "name": "stderr",
     "output_type": "stream",
     "text": [
      "Calculating cumulative Parsons code sequences: 100%|██████████| 360/360 [00:01<00:00, 313.30it/s]"
     ]
    },
    {
     "name": "stdout",
     "output_type": "stream",
     "text": [
      "NLB074840_01\n",
      "Title: NLB074840_01\n",
      "Note-level feature sequence output\n",
      "   midi_note_num  diatonic_note_num  chromatic_pitch_class  beat_strength  \\\n",
      "0             67                 33                      7           1.00   \n",
      "1             71                 35                     11           0.25   \n",
      "2             74                 37                      2           0.50   \n",
      "3             74                 37                      2           0.25   \n",
      "4             76                 38                      4           1.00   \n",
      "\n",
      "   bar_num  onset  duration  velocity  relative_chromatic_pitch  \\\n",
      "0        1    0.0       2.0         0                         0   \n",
      "1        1    2.0       1.0         0                         4   \n",
      "2        1    3.0       2.0         0                         7   \n",
      "3        1    5.0       1.0         0                         7   \n",
      "4        2    0.0       1.0         0                         9   \n",
      "\n",
      "   relative_diatonic_pitch  chromatic_scale_degree  diatonic_scale_degree  \\\n",
      "0                        0                       0                      1   \n",
      "1                        2                       4                      3   \n",
      "2                        4                       7                      5   \n",
      "3                        4                       7                      5   \n",
      "4                        5                       9                      6   \n",
      "\n",
      "   chromatic_interval  diatonic_interval  parsons_code  parsons_cumsum  \n",
      "0                   0                  0             0               0  \n",
      "1                   4                  2             1               1  \n",
      "2                   3                  2             1               2  \n",
      "3                   0                  0             0               2  \n",
      "4                   2                  1             1               3  \n",
      "Corpus contains 360 tunes.\n"
     ]
    },
    {
     "name": "stderr",
     "output_type": "stream",
     "text": [
      "\n"
     ]
    }
   ],
   "source": [
    "# NOTE: If accent-level sequence filtering is applied, Parsons code must be calculated after filtration to ensure accuracy of the accent-level output sequences.\n",
    "\n",
    "# Add Parsons code (simple contour)\n",
    "mtc_ann_corpus.extract_parsons_codes()\n",
    "print(mtc_ann_corpus.tunes[0].title)\n",
    "# Print sample output:\n",
    "print(f\"Title: {mtc_ann_corpus.tunes[0].title}\")\n",
    "print(\"Note-level feature sequence output\")\n",
    "print(mtc_ann_corpus.tunes[0].feat_seq.head())\n",
    "print(f\"Corpus contains {len(mtc_ann_corpus.tunes)} tunes.\")"
   ],
   "metadata": {
    "collapsed": false,
    "pycharm": {
     "name": "#%%\n"
    }
   }
  },
  {
   "cell_type": "markdown",
   "source": [
    "Step 6: Apply duration-weighting to feature sequence data"
   ],
   "metadata": {
    "collapsed": false,
    "pycharm": {
     "name": "#%% md\n"
    }
   }
  },
  {
   "cell_type": "code",
   "execution_count": 7,
   "outputs": [
    {
     "name": "stdout",
     "output_type": "stream",
     "text": [
      "Input features for duration weighting:\n",
      "midi_note_num\n",
      "diatonic_note_num\n",
      "chromatic_pitch_class\n",
      "beat_strength\n",
      "bar_num\n",
      "onset\n",
      "velocity\n",
      "relative_chromatic_pitch\n",
      "relative_diatonic_pitch\n",
      "chromatic_scale_degree\n",
      "diatonic_scale_degree\n",
      "chromatic_interval\n",
      "diatonic_interval\n",
      "parsons_code\n",
      "parsons_cumsum\n"
     ]
    }
   ],
   "source": [
    "# select all features for input into duration-weighting process\n",
    "features = [col for col in mtc_ann_corpus.tunes[0].feat_seq.columns]\n",
    "features.remove('duration')\n",
    "print(\"Input features for duration weighting:\")\n",
    "for feat in features:\n",
    "    print(feat)"
   ],
   "metadata": {
    "collapsed": false,
    "pycharm": {
     "name": "#%%\n"
    }
   }
  },
  {
   "cell_type": "code",
   "execution_count": 8,
   "outputs": [
    {
     "name": "stderr",
     "output_type": "stream",
     "text": [
      "Calculating duration-weighted feature sequences: 100%|██████████| 360/360 [00:00<00:00, 459.13it/s]"
     ]
    },
    {
     "name": "stdout",
     "output_type": "stream",
     "text": [
      "Title: NLB074840_01\n",
      "Note-level feature sequence output\n",
      "   midi_note_num  diatonic_note_num  chromatic_pitch_class  beat_strength  \\\n",
      "0             67                 33                      7           1.00   \n",
      "1             71                 35                     11           0.25   \n",
      "2             74                 37                      2           0.50   \n",
      "3             74                 37                      2           0.25   \n",
      "4             76                 38                      4           1.00   \n",
      "\n",
      "   bar_num  onset  duration  velocity  relative_chromatic_pitch  \\\n",
      "0        1    0.0       2.0         0                         0   \n",
      "1        1    2.0       1.0         0                         4   \n",
      "2        1    3.0       2.0         0                         7   \n",
      "3        1    5.0       1.0         0                         7   \n",
      "4        2    0.0       1.0         0                         9   \n",
      "\n",
      "   relative_diatonic_pitch  chromatic_scale_degree  diatonic_scale_degree  \\\n",
      "0                        0                       0                      1   \n",
      "1                        2                       4                      3   \n",
      "2                        4                       7                      5   \n",
      "3                        4                       7                      5   \n",
      "4                        5                       9                      6   \n",
      "\n",
      "   chromatic_interval  diatonic_interval  parsons_code  parsons_cumsum  \n",
      "0                   0                  0             0               0  \n",
      "1                   4                  2             1               1  \n",
      "2                   3                  2             1               2  \n",
      "3                   0                  0             0               2  \n",
      "4                   2                  1             1               3  \n",
      "Duration-weighted corpus contains 360 tunes.\n"
     ]
    },
    {
     "name": "stderr",
     "output_type": "stream",
     "text": [
      "\n"
     ]
    }
   ],
   "source": [
    "# Run duration-weighting\n",
    "mtc_ann_corpus.extract_duration_weighted_feat_seqs(features=features)\n",
    "# Print sample output:\n",
    "print(f\"Title: {mtc_ann_corpus.tunes[0].title}\")\n",
    "print(\"Note-level feature sequence output\")\n",
    "print(mtc_ann_corpus.tunes[0].feat_seq.head())\n",
    "print(f\"Duration-weighted corpus contains {len(mtc_ann_corpus.tunes)} tunes.\")"
   ],
   "metadata": {
    "collapsed": false,
    "pycharm": {
     "name": "#%%\n"
    }
   }
  },
  {
   "cell_type": "markdown",
   "source": [
    "Step 7. Write output data to file"
   ],
   "metadata": {
    "collapsed": false,
    "pycharm": {
     "name": "#%% md\n"
    }
   }
  },
  {
   "cell_type": "code",
   "execution_count": 9,
   "outputs": [
    {
     "name": "stderr",
     "output_type": "stream",
     "text": [
      "Saving feature sequence data to csv: 100%|██████████| 360/360 [00:00<00:00, 629.73it/s]\n"
     ]
    }
   ],
   "source": [
    "# set outpath\n",
    "mtc_ann_corpus.csv_outpath = '../mtc_ann_corpus/feature_sequence_data'\n",
    "# write output to csv files\n",
    "mtc_ann_corpus.save_feat_seq_data_to_csv()"
   ],
   "metadata": {
    "collapsed": false,
    "pycharm": {
     "name": "#%%\n"
    }
   }
  },
  {
   "cell_type": "code",
   "execution_count": 9,
   "outputs": [],
   "source": [],
   "metadata": {
    "collapsed": false,
    "pycharm": {
     "name": "#%%\n"
    }
   }
  }
 ],
 "metadata": {
  "kernelspec": {
   "display_name": "Python 3",
   "language": "python",
   "name": "python3"
  },
  "language_info": {
   "codemirror_mode": {
    "name": "ipython",
    "version": 2
   },
   "file_extension": ".py",
   "mimetype": "text/x-python",
   "name": "python",
   "nbconvert_exporter": "python",
   "pygments_lexer": "ipython2",
   "version": "2.7.6"
  }
 },
 "nbformat": 4,
 "nbformat_minor": 0
}