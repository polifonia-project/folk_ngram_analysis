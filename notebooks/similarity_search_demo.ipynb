{
 "cells": [
  {
   "cell_type": "markdown",
   "source": [
    "## Demo notebook for FoNN similarity search tools"
   ],
   "metadata": {
    "collapsed": false,
    "pycharm": {
     "name": "#%% md\n"
    }
   }
  },
  {
   "cell_type": "markdown",
   "source": [],
   "metadata": {
    "collapsed": false,
    "pycharm": {
     "name": "#%% md\n"
    }
   }
  },
  {
   "cell_type": "code",
   "execution_count": 2,
   "outputs": [],
   "source": [
    "# import required classes from local FoNN module\n",
    "from FoNN.similarity_search import PatternSimilarity"
   ],
   "metadata": {
    "collapsed": false,
    "pycharm": {
     "name": "#%%\n"
    }
   }
  },
  {
   "cell_type": "markdown",
   "source": [
    "Initialize PatternSimilarity class object to conduct similarity searches"
   ],
   "metadata": {
    "collapsed": false,
    "pycharm": {
     "name": "#%% md\n"
    }
   }
  },
  {
   "cell_type": "code",
   "execution_count": 3,
   "outputs": [],
   "source": [
    "# set input corpus path\n",
    "mtc_ann_corpus_path = '../FoNN/mtc_ann_corpus'\n",
    "\n",
    "# set up PatternSimilarity class instance:\n",
    "\n",
    "# Args:\n",
    "# corpus_path -- set to root dir of input corpus\n",
    "# level -- sets level of input data granularity ('duration_weighted', 'note', or 'accent')\n",
    "# n -- sets length of representative search term patterns(s) extracted from query tune in 'motif' similarity method. Can be an integer value between 3 and 12.\n",
    "# query_tune -- Name of query tune for similarity search. Must be selected from the filenames from the original corpus, in this case '''../mtc_ann_corpus/krn''' dir.\n",
    "# feature -- the musical feature for which pattern data has been extracted. For a list of the 16 features extracted by FoNN's ingest pipeline, see NgramPatternCorpus.FEATURES or ./README.md.\n",
    "\n",
    "similarity_search = PatternSimilarity(\n",
    "    corpus_path=mtc_ann_corpus_path,\n",
    "    level='duration_weighted',\n",
    "    n=5,\n",
    "    query_tune='NLB015569_01',\n",
    "    feature='diatonic_scale_degree'\n",
    ")"
   ],
   "metadata": {
    "collapsed": false,
    "pycharm": {
     "name": "#%%\n"
    }
   }
  },
  {
   "cell_type": "markdown",
   "source": [
    "Run similarity search using 'TFIDF' method."
   ],
   "metadata": {
    "collapsed": false,
    "pycharm": {
     "name": "#%% md\n"
    }
   }
  },
  {
   "cell_type": "code",
   "execution_count": 4,
   "outputs": [
    {
     "name": "stdout",
     "output_type": "stream",
     "text": [
      "Query tune: NLB015569_01.\n",
      "Similarity search mode: TFIDF\n",
      "              Cosine similarity\n",
      "NLB015569_01           1.000000\n",
      "NLB073788_01           0.055237\n",
      "NLB075063_01           0.053314\n",
      "NLB074583_01           0.047363\n",
      "NLB075059_01           0.044861\n"
     ]
    }
   ],
   "source": [
    "similarity_search.run_similarity_search(mode='tfidf')"
   ],
   "metadata": {
    "collapsed": false,
    "pycharm": {
     "name": "#%%\n"
    }
   }
  },
  {
   "cell_type": "markdown",
   "source": [
    "Run similarity search using 'motif' method."
   ],
   "metadata": {
    "collapsed": false,
    "pycharm": {
     "name": "#%% md\n"
    }
   }
  },
  {
   "cell_type": "code",
   "execution_count": 5,
   "outputs": [
    {
     "name": "stdout",
     "output_type": "stream",
     "text": [
      "Query tune: NLB015569_01.\n",
      "Similarity search mode: motif (normalized)\n",
      "          title  normalized_count\n",
      "0  NLB015569_01             9.000\n",
      "1  NLB074038_01             6.667\n",
      "2  NLB072968_01             6.000\n",
      "3  NLB073311_01             4.333\n",
      "4  NLB075309_02             4.000\n"
     ]
    }
   ],
   "source": [
    "similarity_search.run_similarity_search('motif')"
   ],
   "metadata": {
    "collapsed": false,
    "pycharm": {
     "name": "#%%\n"
    }
   }
  },
  {
   "cell_type": "markdown",
   "source": [
    "Run similarity search using 'incipit and cadence' method, with default Levenshtein distance metric."
   ],
   "metadata": {
    "collapsed": false,
    "pycharm": {
     "name": "#%% md\n"
    }
   }
  },
  {
   "cell_type": "code",
   "execution_count": 6,
   "outputs": [
    {
     "name": "stdout",
     "output_type": "stream",
     "text": [
      "Query tune: NLB015569_01.\n",
      "Similarity search mode: incipit and cadence (Levenshtein)\n",
      "              Levenshtein distance\n",
      "NLB073897_01                     0\n",
      "NLB072721_01                     0\n",
      "NLB070125_01                     0\n",
      "NLB111760_01                     0\n",
      "NLB075616_01                     0\n"
     ]
    }
   ],
   "source": [
    "similarity_search.run_similarity_search(mode='incipit_and_cadence', edit_dist_metric='levenshtein')\n",
    "\n",
    "# alternate edit distance metrics can be selected as follows:\n",
    "# Hamming distance\n",
    "similarity_search.run_similarity_search(mode='incipit_and_cadence', edit_dist_metric='hamming')\n",
    "# custom-weighted Hamming distance\n",
    "similarity_search.run_similarity_search(mode='incipit_and_cadence', edit_dist_metric='custom_weighted_hamming')\n"
   ],
   "metadata": {
    "collapsed": false,
    "pycharm": {
     "name": "#%%\n"
    }
   }
  }
 ],
 "metadata": {
  "kernelspec": {
   "display_name": "Python 3",
   "language": "python",
   "name": "python3"
  },
  "language_info": {
   "codemirror_mode": {
    "name": "ipython",
    "version": 2
   },
   "file_extension": ".py",
   "mimetype": "text/x-python",
   "name": "python",
   "nbconvert_exporter": "python",
   "pygments_lexer": "ipython2",
   "version": "2.7.6"
  }
 },
 "nbformat": 4,
 "nbformat_minor": 0
}