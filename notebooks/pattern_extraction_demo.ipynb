{
 "cells": [
  {
   "cell_type": "markdown",
   "source": [
    "## Demo notebook for FoNN pattern extraction tools"
   ],
   "metadata": {
    "collapsed": false,
    "pycharm": {
     "name": "#%% md\n"
    }
   }
  },
  {
   "cell_type": "code",
   "execution_count": 8,
   "outputs": [],
   "source": [
    "# imports\n",
    "from FoNN.pattern_extraction import NgramPatternCorpus"
   ],
   "metadata": {
    "collapsed": false,
    "pycharm": {
     "name": "#%%\n"
    }
   }
  },
  {
   "cell_type": "markdown",
   "source": [
    "Step 1: Setup NgramPatternCorpus class instance to extract and store patterns from music corpus in feature sequence format."
   ],
   "metadata": {
    "collapsed": false,
    "pycharm": {
     "name": "#%% md\n"
    }
   }
  },
  {
   "cell_type": "code",
   "execution_count": 9,
   "outputs": [
    {
     "name": "stderr",
     "output_type": "stream",
     "text": [
      "Reading input data: 100%|██████████| 360/360 [00:00<00:00, 2087.11it/s]\n",
      "Formatting data: 100%|██████████| 360/360 [00:00<00:00, 568077.29it/s]"
     ]
    },
    {
     "name": "stdout",
     "output_type": "stream",
     "text": [
      "Process completed.\n"
     ]
    },
    {
     "name": "stderr",
     "output_type": "stream",
     "text": [
      "\n"
     ]
    }
   ],
   "source": [
    "# define paths\n",
    "inpath = '../mtc_ann_corpus/feature_sequence_data/duration_weighted'\n",
    "outpath = '../mtc_ann_corpus/pattern_corpus/duration_weighted'\n",
    "# setup Setup NgramPatternCorpus instance to represent MTC-ANN corpus\n",
    "# paths are defined above; feature is the target musical feature for which patterns will be extracted.\n",
    "# 15 features are available; names of all feature are accessible by reading NgramPatternCorpus.FEATURES.\n",
    "# In this example we are investigating diatonic scale degree patterns extracted from the feature sequence data\n",
    "# outputted by feature_extraction_demo.ipynb notebook.\n",
    "mtc_ann_pattern_corpus = NgramPatternCorpus(in_dir=inpath, out_dir=outpath, feature='diatonic_scale_degree')"
   ],
   "metadata": {
    "collapsed": false,
    "pycharm": {
     "name": "#%%\n"
    }
   }
  },
  {
   "cell_type": "markdown",
   "source": [
    "Extract all tune titles from corpus, store as NgramPatternCorpus.titles attr, and write to file"
   ],
   "metadata": {
    "collapsed": false,
    "pycharm": {
     "name": "#%% md\n"
    }
   }
  },
  {
   "cell_type": "code",
   "execution_count": 10,
   "outputs": [],
   "source": [
    "# save tune titles to 'titles' attr and write to file\n",
    "mtc_ann_pattern_corpus.save_tune_titles_to_file()"
   ],
   "metadata": {
    "collapsed": false,
    "pycharm": {
     "name": "#%%\n"
    }
   }
  },
  {
   "cell_type": "markdown",
   "source": [
    "One-step call to perform two related tasks:\n",
    "1. Extract all n-gram patterns between 3-12 elements in length which occur at least once in the corpus. Store as NgramPatternCorpus.patterns attr and write to file.\n",
    "2. Count occurrences of these patterns in all tunes in corpus and store in a sparse matrix as NgramPatternCorpus.pattern_freq_matrix and write to file.\n",
    "attr."
   ],
   "metadata": {
    "collapsed": false,
    "pycharm": {
     "name": "#%% md\n"
    }
   }
  },
  {
   "cell_type": "code",
   "execution_count": 11,
   "outputs": [],
   "source": [
    "# extract all n-gram patterns; populate pattern freq corpus, save both to file\n",
    "mtc_ann_pattern_corpus.create_pattern_frequency_matrix(write_output=True)"
   ],
   "metadata": {
    "collapsed": false,
    "pycharm": {
     "name": "#%%\n"
    }
   }
  },
  {
   "cell_type": "markdown",
   "source": [
    "Print corpus info: (via custom NgramPatternCorpus.__repr__)"
   ],
   "metadata": {
    "collapsed": false,
    "pycharm": {
     "name": "#%% md\n"
    }
   }
  },
  {
   "cell_type": "code",
   "execution_count": 12,
   "outputs": [
    {
     "name": "stdout",
     "output_type": "stream",
     "text": [
      "\n",
      "Corpus name: mtc_ann_corpus\n",
      "Level: note-level (duration-weighted)\n",
      "Input directory: ../mtc_ann_corpus/feature_sequence_data/duration_weighted\n",
      "Corpus contains 360 tunes.\n",
      "Number of patterns extracted: 85121\n",
      "\n"
     ]
    }
   ],
   "source": [
    "# print mtc_ann_pattern_corpus info\n",
    "print(mtc_ann_pattern_corpus)"
   ],
   "metadata": {
    "collapsed": false,
    "pycharm": {
     "name": "#%%\n"
    }
   }
  },
  {
   "cell_type": "markdown",
   "source": [
    "Transform pattern occurrence counts in NgramPatternCorpus.pattern_freq_matrix into TFIDF values. Store the output matrix as NgramPatternCorpus.pattern_freq_matrix attr and write to file."
   ],
   "metadata": {
    "collapsed": false,
    "pycharm": {
     "name": "#%% md\n"
    }
   }
  },
  {
   "cell_type": "code",
   "execution_count": 13,
   "outputs": [],
   "source": [
    "mtc_ann_pattern_corpus.calculate_tfidf_vals(write_output=True)"
   ],
   "metadata": {
    "collapsed": false,
    "pycharm": {
     "name": "#%%\n"
    }
   }
  },
  {
   "cell_type": "markdown",
   "source": [
    "Final step: precalculate the \"TFIDF\" similarity metric: create a pairwise Cosine similarity matrix between the pattern tfidf vectors of all tunes in the corpus, and write output to file."
   ],
   "metadata": {
    "collapsed": false,
    "pycharm": {
     "name": "#%% md\n"
    }
   }
  },
  {
   "cell_type": "code",
   "execution_count": 14,
   "outputs": [],
   "source": [
    "mtc_ann_pattern_corpus.calculate_tfidf_vector_cos_similarity()"
   ],
   "metadata": {
    "collapsed": false,
    "pycharm": {
     "name": "#%%\n"
    }
   }
  },
  {
   "cell_type": "markdown",
   "source": [
    "NOTE: All files outputted via pattern extraction pipeline are stored in automatically-generated './pattern_corpus' dir under the corpus root dir. They are input requirements for the similarity search methodologies available in FoNN.similarity_search, which are illustrated in similarity_search_demo.ipynb notebook."
   ],
   "metadata": {
    "collapsed": false,
    "pycharm": {
     "name": "#%% md\n"
    }
   }
  },
  {
   "cell_type": "code",
   "execution_count": 14,
   "outputs": [],
   "source": [],
   "metadata": {
    "collapsed": false,
    "pycharm": {
     "name": "#%%\n"
    }
   }
  }
 ],
 "metadata": {
  "kernelspec": {
   "display_name": "Python 3",
   "language": "python",
   "name": "python3"
  },
  "language_info": {
   "codemirror_mode": {
    "name": "ipython",
    "version": 2
   },
   "file_extension": ".py",
   "mimetype": "text/x-python",
   "name": "python",
   "nbconvert_exporter": "python",
   "pygments_lexer": "ipython2",
   "version": "2.7.6"
  }
 },
 "nbformat": 4,
 "nbformat_minor": 0
}