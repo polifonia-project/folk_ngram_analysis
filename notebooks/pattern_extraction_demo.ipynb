{
 "cells": [
  {
   "cell_type": "markdown",
   "source": [
    "## Demo notebook for FoNN pattern extraction (accessed via FoNN.pattern_extraction)"
   ],
   "metadata": {
    "collapsed": false,
    "pycharm": {
     "name": "#%% md\n"
    }
   }
  },
  {
   "cell_type": "code",
   "execution_count": 1,
   "outputs": [],
   "source": [
    "# imports\n",
    "from FoNN.pattern_extraction import NgramPatternCorpus"
   ],
   "metadata": {
    "collapsed": false,
    "pycharm": {
     "name": "#%%\n"
    }
   }
  },
  {
   "cell_type": "markdown",
   "source": [
    "Step 1: Setup NgramPatternCorpus class instance to extract and store patterns from music corpus in feature sequence format."
   ],
   "metadata": {
    "collapsed": false,
    "pycharm": {
     "name": "#%% md\n"
    }
   }
  },
  {
   "cell_type": "code",
   "execution_count": 2,
   "outputs": [
    {
     "name": "stderr",
     "output_type": "stream",
     "text": [
      "Reading input data: 100%|██████████| 360/360 [00:00<00:00, 2056.43it/s]\n",
      "Formatting data: 100%|██████████| 360/360 [00:00<00:00, 483338.49it/s]"
     ]
    },
    {
     "name": "stdout",
     "output_type": "stream",
     "text": [
      "Process completed.\n"
     ]
    },
    {
     "name": "stderr",
     "output_type": "stream",
     "text": [
      "\n"
     ]
    }
   ],
   "source": [
    "# define paths\n",
    "inpath = '../mtc_ann_corpus/feature_sequence_data/feat_seq_duration_weighted'\n",
    "outpath = '../mtc_ann_corpus/pattern_corpus/duration_weighted'\n",
    "# setup Setup NgramPatternCorpus instance to represent MTC-ANN corpus\n",
    "# paths are defined above; feature is the target musical feature for which patterns will be extracted.\n",
    "# 15 features are available; names of all feature are accessible by reading NgramPatternCorpus.FEATURES.\n",
    "# In this example we are investigating diatonic scale degree patterns extracted from the feature sequence data\n",
    "# outputted by feature_extraction_demo.ipynb notebook.\n",
    "mtc_ann_pattern_corpus = NgramPatternCorpus(in_dir=inpath, out_dir=outpath, feature='diatonic_scale_degree')"
   ],
   "metadata": {
    "collapsed": false,
    "pycharm": {
     "name": "#%%\n"
    }
   }
  },
  {
   "cell_type": "markdown",
   "source": [
    "Extract all tune titles from corpus, store as NgramPatternCorpus.titles, and write to file"
   ],
   "metadata": {
    "collapsed": false,
    "pycharm": {
     "name": "#%% md\n"
    }
   }
  },
  {
   "cell_type": "code",
   "execution_count": 3,
   "outputs": [],
   "source": [
    "# save tune titles to 'titles' attr and write to file\n",
    "mtc_ann_pattern_corpus.save_tune_titles_to_file()"
   ],
   "metadata": {
    "collapsed": false,
    "pycharm": {
     "name": "#%%\n"
    }
   }
  },
  {
   "cell_type": "markdown",
   "source": [
    "One-step call to perform two related tasks:\n",
    "1. Extract all n-gram patterns between 3-12 elements in length which occur at least once in the corpus. Store as NgramPatternCorpus.patterns.\n",
    "2. Count occurrences of these patterns in all tunes in corpus and store in a sparse matrix as NgramPatternCorpus.pattern_freq_matrix"
   ],
   "metadata": {
    "collapsed": false,
    "pycharm": {
     "name": "#%% md\n"
    }
   }
  },
  {
   "cell_type": "code",
   "execution_count": 4,
   "outputs": [],
   "source": [
    "# extract all n-gram patterns which; populate pattern freq corpus, save both to file\n",
    "mtc_ann_pattern_corpus.create_pattern_frequency_matrix(write_output=True)"
   ],
   "metadata": {
    "collapsed": false,
    "pycharm": {
     "name": "#%%\n"
    }
   }
  },
  {
   "cell_type": "markdown",
   "source": [
    "Print class info via custom __repr__"
   ],
   "metadata": {
    "collapsed": false,
    "pycharm": {
     "name": "#%% md\n"
    }
   }
  },
  {
   "cell_type": "code",
   "execution_count": 5,
   "outputs": [
    {
     "name": "stdout",
     "output_type": "stream",
     "text": [
      "\n",
      "Corpus name: mtc_ann_corpus\n",
      "Level: note-level (duration-weighted)\n",
      "Input directory: ../mtc_ann_corpus/feature_sequence_data/feat_seq_duration_weighted\n",
      "Corpus contains 360 tunes.\n",
      "Number of patterns extracted: 5400\n",
      "\n"
     ]
    }
   ],
   "source": [
    "# print mtc_ann_pattern_corpus info\n",
    "print(mtc_ann_pattern_corpus)"
   ],
   "metadata": {
    "collapsed": false,
    "pycharm": {
     "name": "#%%\n"
    }
   }
  },
  {
   "cell_type": "markdown",
   "source": [
    "Transform pattern occurrence counts in NgramPatternCorpus.pattern_freq_matrix into TFIDF values. Store the output matrix as NgramPatternCorpus.pattern_freq_matrix and write to file."
   ],
   "metadata": {
    "collapsed": false,
    "pycharm": {
     "name": "#%% md\n"
    }
   }
  },
  {
   "cell_type": "code",
   "execution_count": 6,
   "outputs": [],
   "source": [
    "mtc_ann_pattern_corpus.calculate_tfidf_vals(write_output=True)"
   ],
   "metadata": {
    "collapsed": false,
    "pycharm": {
     "name": "#%%\n"
    }
   }
  },
  {
   "cell_type": "markdown",
   "source": [
    "Final step: precalculate the \"TFIDF\" similarity metric: create a pairwise Cosine similarity matrix between the pattern tfidf vectors of all tunes in the corpus, and write output to file."
   ],
   "metadata": {
    "collapsed": false,
    "pycharm": {
     "name": "#%% md\n"
    }
   }
  },
  {
   "cell_type": "code",
   "execution_count": 7,
   "outputs": [],
   "source": [
    "mtc_ann_pattern_corpus.calculate_tfidf_vector_cos_similarity()"
   ],
   "metadata": {
    "collapsed": false,
    "pycharm": {
     "name": "#%%\n"
    }
   }
  },
  {
   "cell_type": "markdown",
   "source": [
    "NOTE: All files outputted are tmp / private files and are stored in automatically-generated ./pattern_corpus dir under corpus root dir."
   ],
   "metadata": {
    "collapsed": false,
    "pycharm": {
     "name": "#%% md\n"
    }
   }
  }
 ],
 "metadata": {
  "kernelspec": {
   "display_name": "Python 3",
   "language": "python",
   "name": "python3"
  },
  "language_info": {
   "codemirror_mode": {
    "name": "ipython",
    "version": 2
   },
   "file_extension": ".py",
   "mimetype": "text/x-python",
   "name": "python",
   "nbconvert_exporter": "python",
   "pygments_lexer": "ipython2",
   "version": "2.7.6"
  }
 },
 "nbformat": 4,
 "nbformat_minor": 0
}