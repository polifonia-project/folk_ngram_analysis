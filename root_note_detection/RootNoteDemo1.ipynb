{
 "cells": [
  {
   "cell_type": "markdown",
   "metadata": {},
   "source": [
    "# Demo: using the root-note detection model\n",
    "\n",
    "In this notebook we demonstrate how a user can use our trained model for root-note prediction tasks on new pieces of music."
   ]
  },
  {
   "cell_type": "code",
   "execution_count": 1,
   "metadata": {},
   "outputs": [],
   "source": [
    "import pickle\n",
    "import pandas as pd\n",
    "from collections import Counter\n",
    "\n",
    "from sklearn.ensemble import RandomForestClassifier\n",
    "\n",
    "from music21 import *\n",
    "from music21.analysis.discrete import KrumhanslSchmuckler, SimpleWeights, AardenEssen, BellmanBudge, TemperleyKostkaPayne"
   ]
  },
  {
   "cell_type": "markdown",
   "metadata": {},
   "source": [
    "### Step 1: load the model\n",
    "\n",
    "In the main notebook `root_note_detection.ipynb` we have experimented with multiple models for root-note detection, and saved the best model. We used code like this to save it:"
   ]
  },
  {
   "cell_type": "code",
   "execution_count": 2,
   "metadata": {},
   "outputs": [],
   "source": [
    "model_filename = \"./models/SMOTE_DS_RandomForestClassifier.h5\""
   ]
  },
  {
   "cell_type": "markdown",
   "metadata": {},
   "source": [
    "```python\n",
    "rf = RandomForestClassifier()\n",
    "rf.fit(Xtrain, ytrain)\n",
    "pickle.dump(rf, model_filename)\n",
    "```"
   ]
  },
  {
   "cell_type": "markdown",
   "metadata": {},
   "source": [
    "Now, a user does not need to retrain the model. We can load in the model (which is in our GitHub repo with the filename shown above), using code like this:"
   ]
  },
  {
   "cell_type": "code",
   "execution_count": 3,
   "metadata": {},
   "outputs": [
    {
     "name": "stderr",
     "output_type": "stream",
     "text": [
      "c:\\users\\abdul\\appdata\\local\\programs\\python\\python39\\lib\\site-packages\\sklearn\\base.py:329: UserWarning: Trying to unpickle estimator DecisionTreeClassifier from version 0.23.2 when using version 1.1.1. This might lead to breaking code or invalid results. Use at your own risk. For more info please refer to:\n",
      "https://scikit-learn.org/stable/model_persistence.html#security-maintainability-limitations\n",
      "  warnings.warn(\n",
      "c:\\users\\abdul\\appdata\\local\\programs\\python\\python39\\lib\\site-packages\\sklearn\\base.py:329: UserWarning: Trying to unpickle estimator RandomForestClassifier from version 0.23.2 when using version 1.1.1. This might lead to breaking code or invalid results. Use at your own risk. For more info please refer to:\n",
      "https://scikit-learn.org/stable/model_persistence.html#security-maintainability-limitations\n",
      "  warnings.warn(\n"
     ]
    }
   ],
   "source": [
    "rf = pickle.load(open(model_filename, \"rb\"))"
   ]
  },
  {
   "cell_type": "markdown",
   "metadata": {},
   "source": [
    "### Step 2: load a piece of music to be analysed\n",
    "\n",
    "Next, we'll load a piece of music where we want to detect the key. We'll choose the first piece in the *O'Neill's 1850* collection, which is in the `music21` corpus."
   ]
  },
  {
   "cell_type": "code",
   "execution_count": 4,
   "metadata": {},
   "outputs": [],
   "source": [
    "tune = corpus.parse(\"oneills1850/0001-0050.abc\", number=1)"
   ]
  },
  {
   "cell_type": "code",
   "execution_count": 5,
   "metadata": {},
   "outputs": [
    {
     "data": {
      "text/plain": [
       "'The Enchanted Valley'"
      ]
     },
     "execution_count": 5,
     "metadata": {},
     "output_type": "execute_result"
    }
   ],
   "source": [
    "tune.metadata.title"
   ]
  },
  {
   "cell_type": "markdown",
   "metadata": {},
   "source": [
    "### Step 3: extract features\n",
    "\n",
    "We'll use `music21` to extract the necessary features from this piece.\n",
    "\n",
    "The features we need are:\n",
    "\n",
    "```\n",
    "'Krumhansl-Shmuckler', 'simple weights', 'Aarden Essen',\n",
    "'Bellman Budge', 'Temperly Kostka Payne'\n",
    "'final_note', 'freq note', 'freq weighted acc'\n",
    "```\n",
    "\n",
    "Notice we do not include the `as_transcribed` feature: most datasets where root-note detection is required will not have a partially-reliable `as_transcribed` feature.\n",
    "\n",
    "We'll define a function to extract the features in the expected order."
   ]
  },
  {
   "cell_type": "code",
   "execution_count": 6,
   "metadata": {},
   "outputs": [],
   "source": [
    "def feature_extractor(tune):\n",
    "    # get all the predictions from the Krumhansl-Schmuckler and similar algorithms\n",
    "    histogram_predictions = [\n",
    "        method().getSolution(tune).getTonic().pitchClass\n",
    "        for method in\n",
    "            (KrumhanslSchmuckler, SimpleWeights, AardenEssen, BellmanBudge, TemperleyKostkaPayne)\n",
    "    ]\n",
    "    \n",
    "    # get a few features from heuristics. first, get the raw pitch\n",
    "    # class sequence as integers\n",
    "    tunef = tune.flatten()\n",
    "    pitch_classes = [note.pitch.pitchClass for note in tunef.notes]\n",
    "    \n",
    "    final_note = pitch_classes[-1]\n",
    "    freq_note = Counter(pitch_classes).most_common()[0][0]\n",
    "    \n",
    "    freq_weighted_acc = freq_note # TODO: replace this with the real algorithm\n",
    "    \n",
    "    heuristics = [\n",
    "        final_note,\n",
    "        freq_note,\n",
    "        freq_weighted_acc\n",
    "    ]\n",
    "    return histogram_predictions + heuristics"
   ]
  },
  {
   "cell_type": "markdown",
   "metadata": {},
   "source": [
    "Now let's run our function on the tune we have extracted."
   ]
  },
  {
   "cell_type": "code",
   "execution_count": 7,
   "metadata": {},
   "outputs": [],
   "source": [
    "features = feature_extractor(tune)"
   ]
  },
  {
   "cell_type": "code",
   "execution_count": 8,
   "metadata": {},
   "outputs": [
    {
     "data": {
      "text/plain": [
       "[7, 7, 7, 7, 7, 7, 7, 7]"
      ]
     },
     "execution_count": 8,
     "metadata": {},
     "output_type": "execute_result"
    }
   ],
   "source": [
    "features"
   ]
  },
  {
   "cell_type": "markdown",
   "metadata": {},
   "source": [
    "Well, it looks like this was an \"easy\" tune: all the key-detection algorithms (Krumhansl-Schmuckler and variants) and all of our heuristics, gave the same result. They predicted pitch-class 7, ie G.\n",
    "\n",
    "Anyway, let's pass this feature vector into our model.\n",
    "\n",
    "### Step 4: run the model with these features to obtain a prediction\n",
    "\n"
   ]
  },
  {
   "cell_type": "code",
   "execution_count": 9,
   "metadata": {},
   "outputs": [
    {
     "data": {
      "text/plain": [
       "array([7], dtype=int64)"
      ]
     },
     "execution_count": 9,
     "metadata": {},
     "output_type": "execute_result"
    }
   ],
   "source": [
    "rf.predict([features]) # TODO"
   ]
  },
  {
   "cell_type": "markdown",
   "metadata": {},
   "source": [
    "As shown, the random forest model makes a prediction. In this case, the random forest doesn't add any value! In other tunes, it does -- as an ensemble algorithm it's a bit better than the sum of its parts."
   ]
  },
  {
   "cell_type": "markdown",
   "metadata": {},
   "source": [
    "### Conclusion\n",
    "\n",
    "To summarise our workflow:\n",
    "\n",
    "1. Load the pretrained RF model using `pickle`\n",
    "2. Load a piece of music using `music21`\n",
    "3. Extract features using `feature_extractor`\n",
    "4. Run the RF model with these features to obtain a prediction"
   ]
  },
  {
   "cell_type": "code",
   "execution_count": null,
   "metadata": {},
   "outputs": [],
   "source": []
  }
 ],
 "metadata": {
  "kernelspec": {
   "display_name": "Python 3 (ipykernel)",
   "language": "python",
   "name": "python3"
  },
  "language_info": {
   "codemirror_mode": {
    "name": "ipython",
    "version": 3
   },
   "file_extension": ".py",
   "mimetype": "text/x-python",
   "name": "python",
   "nbconvert_exporter": "python",
   "pygments_lexer": "ipython3",
   "version": "3.9.5"
  }
 },
 "nbformat": 4,
 "nbformat_minor": 4
}
