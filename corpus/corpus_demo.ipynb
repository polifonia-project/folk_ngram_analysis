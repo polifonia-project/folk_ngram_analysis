{
 "cells": [
  {
   "cell_type": "markdown",
   "source": [
    "# $Ceol$ $Rince$ $na$ $hÉireann$\n",
    "## The Ceol Rince na hÉireann (CRÉ) corpus contains 1,224 Irish traditional dance tunes, each represented as a monophonic MIDI file.\n",
    "\n",
    "Originally collected and published by [Breandán Breathnach][2] (1912-1985); transcribed to ABC Notation by [Bill Black][1]; corpus cleaned, annotated and converted to MIDI by Danny Diamond for Polifonia deliverable D3.1: Software Tools for Pattern Extraction.\n",
    "\n",
    "This notebook explores the corpus, generating and visualizing some basic statistics on the content, including:\n",
    "* Number of melodies in corpus.\n",
    "* Distribution of key signature and time signature values across the corpus.\n",
    "* Number of note events and number of bars per melody across the corpus.\n",
    "\n",
    "[1]: http://www.capeirish.com/webabc\n",
    "[2]: https://en.wikipedia.org/wiki/Breandán_Breathnach\n",
    "\n",
    "## Prerequisites:\n",
    "\n",
    "By default basepath is `./corpus`. In `<basepath>/abc` we should have a single file holding a corpus of monophonic folk\n",
    "tunes in ABC Notation.\n",
    "\n",
    "If the corpus is elsewhere, or if running on external data, change basepath below.\n",
    "\n",
    "We will be writing outputs to subdirectories of basepath:<br>\n",
    "`/MIDI`<br>\n",
    "`/feat_seq_corpus`<br>\n",
    "`/pattern_corpus`<br>\n",
    "`/results`"
   ],
   "metadata": {
    "collapsed": false
   }
  },
  {
   "cell_type": "markdown",
   "source": [
    "Preprocessing: using abc_ingest.py script, each tune in the ABC corpus is converted to an individual MIDI file.\n",
    "These MIDI files are stored at `<basepath>/MIDI`."
   ],
   "metadata": {
    "collapsed": false
   }
  },
  {
   "cell_type": "code",
   "execution_count": 1,
   "outputs": [
    {
     "name": "stdout",
     "output_type": "stream",
     "text": [
      "/Users/dannydiamond/NUIG/Polifonia/repo/folk_ngram_analysis/folk_ngram_analysis\n",
      "Running abc2MIDI command-line tool...\n",
      "exit status: 0\n",
      "/Users/dannydiamond/NUIG/Polifonia/repo/folk_ngram_analysis/folk_ngram_analysis/corpus\n"
     ]
    },
    {
     "data": {
      "text/plain": "'/Users/dannydiamond/NUIG/Polifonia/repo/folk_ngram_analysis/folk_ngram_analysis/corpus'"
     },
     "execution_count": 1,
     "metadata": {},
     "output_type": "execute_result"
    }
   ],
   "source": [
    "%cd \"../\"\n",
    "%run abc_ingest\n",
    "%cd \"./corpus\"\n",
    "\n"
   ],
   "metadata": {
    "collapsed": false,
    "pycharm": {
     "name": "#%%\n"
    }
   }
  },
  {
   "cell_type": "markdown",
   "source": [
    "Setup paths; import os, music21, and numpy:\n"
   ],
   "metadata": {
    "collapsed": false
   }
  },
  {
   "cell_type": "code",
   "source": [
    "import os\n",
    "import music21\n",
    "import numpy as np\n",
    "\n",
    "basepath = \"./\"\n",
    "inpath = basepath + \"/MIDI\"\n",
    "roots_path = basepath + \"/roots.csv\"\n",
    "\n",
    "for path in [basepath, inpath, roots_path]:\n",
    "    assert os.path.exists(path)\n",
    "\n"
   ],
   "metadata": {
    "collapsed": false,
    "pycharm": {
     "name": "#%%\n"
    }
   },
   "execution_count": 2,
   "outputs": []
  },
  {
   "cell_type": "markdown",
   "source": [
    "Import local corpus setup / analysis tools:"
   ],
   "metadata": {
    "collapsed": false
   }
  },
  {
   "cell_type": "code",
   "execution_count": 28,
   "outputs": [],
   "source": [
    "from corpus_processing_tools import Corpus"
   ],
   "metadata": {
    "collapsed": false,
    "pycharm": {
     "name": "#%%\n"
    }
   }
  },
  {
   "cell_type": "markdown",
   "source": [
    "Initialize Corpus class. This will read all tunes from the MIDI corpus to music21 $stream$ format:"
   ],
   "metadata": {
    "collapsed": false,
    "pycharm": {
     "name": "#%% md\n"
    }
   }
  },
  {
   "cell_type": "code",
   "execution_count": 29,
   "outputs": [
    {
     "name": "stderr",
     "output_type": "stream",
     "text": [
      "Reading corpus MIDI files to Music21 streams: 100%|██████████| 1196/1196 [00:24<00:00, 48.51it/s] \n"
     ]
    }
   ],
   "source": [
    "cre_corpus = Corpus(inpath)"
   ],
   "metadata": {
    "collapsed": false,
    "pycharm": {
     "name": "#%%\n"
    }
   }
  },
  {
   "cell_type": "markdown",
   "source": [
    "Extract root note for each tune in corpus:"
   ],
   "metadata": {
    "collapsed": false
   }
  },
  {
   "cell_type": "code",
   "execution_count": 33,
   "outputs": [
    {
     "name": "stdout",
     "output_type": "stream",
     "text": [
      "McGovernsFavoritereel: A\n",
      "CrushingtheTwigsreel: D\n",
      "BillHartesReel: A\n",
      "SecondHandCarreelThe: D\n",
      "BoysoftheLakereelThe: G\n",
      "MusicalPriestreelThe: B\n",
      "WalloptheSpot: D\n",
      "TommyODeasreel: G\n",
      "FinnegansWidowpolka: G\n",
      "GirlwiththeYellowHairThe: G\n",
      "...\n"
     ]
    }
   ],
   "source": [
    "root_vals = []\n",
    "\n",
    "for tune in cre_corpus.tunes:\n",
    "    # Parse score for music21 Key objects and list their tonic (i.e.: root) note names:\n",
    "    roots = [key.tonic.name.upper() for key in tune.score.recurse().getElementsByClass(music21.key.Key)]\n",
    "    # Retain first root note name from list above, or set root to NaN if MIDI file does not contain any root data.\n",
    "    root = roots[0] if roots != [] else np.NaN\n",
    "    root_vals.append(root)\n",
    "\n",
    "roots = dict(zip(cre_corpus.titles, root_vals))\n",
    "res = list(roots.items())\n",
    "\n",
    "for k, v in res[:10]:\n",
    "    print(f\"{k}: {v}\")\n",
    "print(\"...\")\n",
    "\n"
   ],
   "metadata": {
    "collapsed": false,
    "pycharm": {
     "name": "#%%\n"
    }
   }
  },
  {
   "cell_type": "markdown",
   "source": [
    "Occurrences of root notes across the corpus as percentages:"
   ],
   "metadata": {
    "collapsed": false
   }
  },
  {
   "cell_type": "code",
   "execution_count": 45,
   "outputs": [
    {
     "name": "stdout",
     "output_type": "stream",
     "text": [
      "G: 40.59%\n",
      "D: 34.9%\n",
      "A: 13.05%\n",
      "E: 9.37%\n",
      "C: 1.67%\n",
      "B: 0.33%\n",
      "F: 0.08%\n"
     ]
    }
   ],
   "source": [
    "from collections import Counter\n",
    "roots_histogram = dict(Counter(root_vals).most_common())\n",
    "for root, count in roots_histogram.items():\n",
    "    print(f\"{root}: {round(count / 1195 * 100, 2)}%\")"
   ],
   "metadata": {
    "collapsed": false,
    "pycharm": {
     "name": "#%%\n"
    }
   }
  },
  {
   "cell_type": "markdown",
   "source": [
    "Chart illustrating occurrences of each root note across the corpus:"
   ],
   "metadata": {
    "collapsed": false
   }
  },
  {
   "cell_type": "code",
   "execution_count": 46,
   "outputs": [
    {
     "data": {
      "text/plain": "<Figure size 432x288 with 1 Axes>",
      "image/png": "[encoded data removed]"
     },
     "metadata": {
      "image/png": {
       "width": 388,
       "height": 279
      },
      "needs_background": "light"
     },
     "output_type": "display_data"
    }
   ],
   "source": [
    "import matplotlib.pyplot as plt\n",
    "\n",
    "plt.bar(list(roots_histogram.keys()), list(roots_histogram.values()), edgecolor='gray', linewidth=1)\n",
    "plt.title('Root note frequencies: CRÉ corpus')\n",
    "plt.xlabel('Root note name')\n",
    "plt.ylabel('Number of tunes')\n",
    "plt.show()"
   ],
   "metadata": {
    "collapsed": false,
    "pycharm": {
     "name": "#%%\n"
    }
   }
  },
  {
   "cell_type": "markdown",
   "source": [
    "Extract time signature for each note in corpus:"
   ],
   "metadata": {
    "collapsed": false
   }
  },
  {
   "cell_type": "code",
   "execution_count": 42,
   "outputs": [
    {
     "name": "stdout",
     "output_type": "stream",
     "text": [
      "McGovernsFavoritereel: 4/4\n",
      "CrushingtheTwigsreel: 4/4\n",
      "BillHartesReel: 4/4\n",
      "SecondHandCarreelThe: 4/4\n",
      "BoysoftheLakereelThe: 4/4\n",
      "MusicalPriestreelThe: 4/4\n",
      "WalloptheSpot: 6/8\n",
      "TommyODeasreel: 4/4\n",
      "FinnegansWidowpolka: 2/4\n",
      "GirlwiththeYellowHairThe: 9/8\n",
      "...\n"
     ]
    }
   ],
   "source": [
    "time_sigs_lst = []\n",
    "\n",
    "for tune in cre_corpus.tunes:\n",
    "    # Parse score for music21 Time Sig objects:\n",
    "    time_sigs = [ts for ts in tune.score.recurse().getElementsByClass(music21.meter.TimeSignature)]\n",
    "    # Retain first Time Sig for each tune, or set to NaN if MIDI file does not contain any Time Sig data.\n",
    "    time_sig = time_sigs[0].ratioString if time_sigs != [] else ''\n",
    "    time_sigs_lst.append(time_sig)\n",
    "\n",
    "time_sigs_dict = dict(zip(cre_corpus.titles, time_sigs_lst))\n",
    "res = list(time_sigs_dict.items())\n",
    "\n",
    "for k, v in res[:10]:\n",
    "    print(f\"{k}: {v}\")\n",
    "print(\"...\")"
   ],
   "metadata": {
    "collapsed": false,
    "pycharm": {
     "name": "#%%\n"
    }
   }
  },
  {
   "cell_type": "markdown",
   "source": [
    "Occurrences of time signatures across the corpus as percentages:"
   ],
   "metadata": {
    "collapsed": false
   }
  },
  {
   "cell_type": "code",
   "execution_count": 44,
   "outputs": [
    {
     "name": "stdout",
     "output_type": "stream",
     "text": [
      "4/4: 59.5%\n",
      "6/8: 21.51%\n",
      "2/4: 7.03%\n",
      "12/8: 6.61%\n",
      "9/8: 4.18%\n",
      "2/2: 1.09%\n",
      "6/4: 0.08%\n"
     ]
    }
   ],
   "source": [
    "time_sigs_histogram = dict(Counter(time_sigs_lst).most_common())\n",
    "for ts, count in time_sigs_histogram.items():\n",
    "    print(f\"{ts}: {round(count / 1195 * 100, 2)}%\")"
   ],
   "metadata": {
    "collapsed": false,
    "pycharm": {
     "name": "#%%\n"
    }
   }
  },
  {
   "cell_type": "markdown",
   "source": [
    "Chart illustrating occurrences of each time signature across the corpus:"
   ],
   "metadata": {
    "collapsed": false,
    "pycharm": {
     "name": "#%% md\n"
    }
   }
  },
  {
   "cell_type": "code",
   "execution_count": 47,
   "outputs": [
    {
     "data": {
      "text/plain": "<Figure size 432x288 with 1 Axes>",
      "image/png": "[encoded data removed]"
     },
     "metadata": {
      "image/png": {
       "width": 388,
       "height": 279
      },
      "needs_background": "light"
     },
     "output_type": "display_data"
    }
   ],
   "source": [
    "plt.bar(list(time_sigs_histogram.keys()), list(time_sigs_histogram.values()), edgecolor='gray', linewidth=1)\n",
    "plt.title('Time signature frequencies: CRÉ corpus')\n",
    "plt.xlabel('Time signature')\n",
    "plt.ylabel('Number of tunes')\n",
    "plt.show()"
   ],
   "metadata": {
    "collapsed": false,
    "pycharm": {
     "name": "#%%\n"
    }
   }
  },
  {
   "cell_type": "markdown",
   "source": [
    "Convert corpus to feature sequence format for further analysis:"
   ],
   "metadata": {
    "collapsed": false
   }
  },
  {
   "cell_type": "code",
   "execution_count": 48,
   "outputs": [
    {
     "name": "stderr",
     "output_type": "stream",
     "text": [
      "Calculating feature sequences from music21 scores: 100%|██████████| 1195/1195 [00:04<00:00, 251.63it/s]\n",
      "Calculating pitch class sequences: 100%|██████████| 1195/1195 [00:00<00:00, 1671.49it/s]\n",
      "Calculating interval sequences: 100%|██████████| 1195/1195 [00:00<00:00, 1319.85it/s]\n"
     ]
    }
   ],
   "source": [
    "cre_corpus.filter_empty_scores()\n",
    "cre_corpus.calculate_feat_seqs()\n",
    "cre_corpus.calc_pitch_class_seqs()\n",
    "cre_corpus.calc_intervals()"
   ],
   "metadata": {
    "collapsed": false,
    "pycharm": {
     "name": "#%%\n"
    }
   }
  },
  {
   "cell_type": "markdown",
   "source": [
    "Print sample feature sequence data table for a single tune:"
   ],
   "metadata": {
    "collapsed": false
   }
  },
  {
   "cell_type": "code",
   "execution_count": 49,
   "outputs": [
    {
     "name": "stdout",
     "output_type": "stream",
     "text": [
      "Primary feature sequence data for McGovernsFavoritereel:\n",
      "   midi_note  onset  duration  velocity  pitch_class  interval\n",
      "0         69      0         3       105            9         0\n",
      "1         69      4         1        95            9         0\n",
      "2         67      5         1        80            7        -2\n",
      "3         64      6         1        80            4        -3\n",
      "4         62      7         1        80            2        -2\n"
     ]
    }
   ],
   "source": [
    "print(f\"Primary feature sequence data for {cre_corpus.tunes[0].title}:\")\n",
    "print(cre_corpus.tunes[0].feat_seq.head())"
   ],
   "metadata": {
    "collapsed": false,
    "pycharm": {
     "name": "#%%\n"
    }
   }
  },
  {
   "cell_type": "markdown",
   "source": [
    "Calculate distribution of tune lengths across the corpus, as measured by number of note events per tune."
   ],
   "metadata": {
    "collapsed": false
   }
  },
  {
   "cell_type": "code",
   "execution_count": 50,
   "outputs": [],
   "source": [
    "tune_lengths = [len(tune.feat_seq) for tune in cre_corpus.tunes]\n",
    "tune_length_histogram = dict(Counter(tune_lengths).most_common())"
   ],
   "metadata": {
    "collapsed": false,
    "pycharm": {
     "name": "#%%\n"
    }
   }
  },
  {
   "cell_type": "markdown",
   "source": [
    "Display tune length distribution as bar chart:"
   ],
   "metadata": {
    "collapsed": false
   }
  },
  {
   "cell_type": "code",
   "execution_count": 51,
   "outputs": [
    {
     "data": {
      "text/plain": "<Figure size 432x288 with 1 Axes>",
      "image/png": "[encoded data removed]"
     },
     "metadata": {
      "image/png": {
       "width": 389,
       "height": 279
      },
      "needs_background": "light"
     },
     "output_type": "display_data"
    }
   ],
   "source": [
    "plt.bar(list(tune_length_histogram.keys()), list(tune_length_histogram.values()), edgecolor='gray', linewidth=1)\n",
    "\n",
    "plt.title('Tune length distribution chart: CRÉ corpus')\n",
    "plt.xlabel('Number of note events per tune')\n",
    "plt.ylabel('Number of tunes')\n",
    "plt.show()"
   ],
   "metadata": {
    "collapsed": false,
    "pycharm": {
     "name": "#%%\n"
    }
   }
  },
  {
   "cell_type": "markdown",
   "source": [
    "Calculate number of bars per tune across the corpus:"
   ],
   "metadata": {
    "collapsed": false
   }
  },
  {
   "cell_type": "code",
   "execution_count": 52,
   "outputs": [],
   "source": [
    "import utils\n",
    "\n",
    "filtered_seqs = [utils.filter_dataframe(tune.feat_seq, seq='velocity', threshold=100) for tune in cre_corpus.tunes]\n",
    "bar_counts = [len(seq) for seq in filtered_seqs]\n",
    "bar_count_histogram = dict(Counter(bar_counts).most_common())"
   ],
   "metadata": {
    "collapsed": false,
    "pycharm": {
     "name": "#%%\n"
    }
   }
  },
  {
   "cell_type": "markdown",
   "source": [
    "Display number of bars per tune as histogram:"
   ],
   "metadata": {
    "collapsed": false
   }
  },
  {
   "cell_type": "code",
   "execution_count": 53,
   "outputs": [
    {
     "data": {
      "text/plain": "<Figure size 432x288 with 1 Axes>",
      "image/png": "[encoded data removed]"
     },
     "metadata": {
      "image/png": {
       "width": 392,
       "height": 279
      },
      "needs_background": "light"
     },
     "output_type": "display_data"
    }
   ],
   "source": [
    "plt.bar(list(bar_count_histogram.keys()), list(bar_count_histogram.values()), edgecolor='gray', linewidth=1)\n",
    "\n",
    "plt.title('Bar count hisotgram: CRÉ corpus')\n",
    "plt.xlabel('Number of bars per tune')\n",
    "plt.ylabel('Number of tunes')\n",
    "plt.show()"
   ],
   "metadata": {
    "collapsed": false,
    "pycharm": {
     "name": "#%%\n"
    }
   }
  }
 ],
 "metadata": {
  "kernelspec": {
   "display_name": "Python 3",
   "language": "python",
   "name": "python3"
  },
  "language_info": {
   "codemirror_mode": {
    "name": "ipython",
    "version": 2
   },
   "file_extension": ".py",
   "mimetype": "text/x-python",
   "name": "python",
   "nbconvert_exporter": "python",
   "pygments_lexer": "ipython2",
   "version": "2.7.6"
  }
 },
 "nbformat": 4,
 "nbformat_minor": 0
}